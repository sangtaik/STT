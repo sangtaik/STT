{
 "cells": [
  {
   "cell_type": "code",
   "execution_count": 20,
   "id": "b4b6d579",
   "metadata": {
    "id": "b4b6d579"
   },
   "outputs": [],
   "source": [
    "# 한국인 강의음성 전처리 및 csv 파일 생성\n",
    "# https://aihub.or.kr/aidata/30708/download\n",
    "\n",
    "# 압축을 풀고 \"한국어 강의 음성\" 폴더의 이름을 KlecSpeech로 변경한다.\n",
    "# 추가 히스토리\n",
    "# 2022-06-15 array 추가\n",
    "# 2022-06-17 정규식 교체 "
   ]
  },
  {
   "cell_type": "code",
   "execution_count": 4,
   "id": "738146cb",
   "metadata": {
    "colab": {
     "base_uri": "https://localhost:8080/"
    },
    "id": "738146cb",
    "outputId": "34add5ca-7d88-4eff-cf27-8056fc974d36"
   },
   "outputs": [
    {
     "name": "stdout",
     "output_type": "stream",
     "text": [
      "la <|> 와 와 <b> 안녕하세요. <n> na <|> 배는 천원 입니다 <unk> \n"
     ]
    }
   ],
   "source": [
    "import re\n",
    "\n",
    "def preprocessing(text):\n",
    "    # 괄호(문자)/(발음) 일 때, 발음만 살리는 코드\n",
    "    \"\"\"\n",
    "    괄호 및 괄호 안에 있는 문장을 모두 벗겨내기\n",
    "    \\([^\\)]*\\)\\/|\\(|\\)\n",
    "\n",
    "    조건 1: (문장)/ 을 삭제한다. \n",
    "    \\([^\\)]*\\)    (사과)/(배) (1000원)/(천원)\n",
    "    \\/            뒤에 /를 추가하면 뒤에 /가 없는 (배) 와 (천원)은 조건 탈락\n",
    "\n",
    "    |             조건 1과 조건 2를 OR로 검출\n",
    "\n",
    "    조건 2 :  ( 과 )를 검출\n",
    "    \\(|\\)  \n",
    "    \"\"\"  \n",
    "    re_text = re.sub(r'[+?!]', '', text)\n",
    "    re_text = re.sub(r'o/', '', re_text)\n",
    "    re_text = re.sub(r\"u/\",\"<unk>\",  re_text)\n",
    "    re_text = re.sub(r\"b/\",\"<b>\",  re_text)\n",
    "    re_text = re.sub(r\"n/\",\"<n>\",  re_text)\n",
    "    re_text = re.sub(r\"l/\",\"<|>\",  re_text)\n",
    "    re_text = re.sub(r'\\([^\\)]*\\)\\/|\\(|\\)', '', re_text)\n",
    "    re_text = re.sub(r'[/]', '', re_text)\n",
    "\n",
    "    return re_text\n",
    "\n",
    "test_text = \"la/ l/ 와/ 와// b/ 안녕하세요. n/ na/ l/ (사과)/(배)는 (1000원)/(천원) 입니다?!+ u/ o/\"\n",
    "test_ret = preprocessing(test_text)\n",
    "print(test_ret)"
   ]
  },
  {
   "cell_type": "markdown",
   "id": "1b0ee09e",
   "metadata": {
    "id": "1b0ee09e"
   },
   "source": [
    "## 오디오 데이터 추가"
   ]
  },
  {
   "cell_type": "code",
   "execution_count": 2,
   "id": "7cb00fcd",
   "metadata": {
    "id": "7cb00fcd"
   },
   "outputs": [],
   "source": [
    "import json\n",
    "import os\n",
    "import glob\n",
    "import pandas as pd\n",
    "from tqdm import tqdm\n",
    "from pathlib import Path\n",
    "import librosa"
   ]
  },
  {
   "cell_type": "code",
   "execution_count": 6,
   "id": "2acf681e",
   "metadata": {
    "colab": {
     "base_uri": "https://localhost:8080/"
    },
    "id": "2acf681e",
    "outputId": "256da5d1-4362-4e45-a5b2-b0fcffafbfc8",
    "scrolled": true
   },
   "outputs": [
    {
     "name": "stdout",
     "output_type": "stream",
     "text": [
      "This time is being calculated\n"
     ]
    },
    {
     "name": "stderr",
     "output_type": "stream",
     "text": [
      "  3%|██▎                                                                        | 1000/32971 [00:00<00:03, 9023.17it/s]"
     ]
    },
    {
     "name": "stdout",
     "output_type": "stream",
     "text": [
      "000 complete\n",
      "001 complete\n",
      "002 complete\n"
     ]
    },
    {
     "name": "stderr",
     "output_type": "stream",
     "text": [
      "\r",
      "  6%|████▎                                                                      | 1903/32971 [00:00<00:03, 8731.96it/s]"
     ]
    },
    {
     "name": "stdout",
     "output_type": "stream",
     "text": [
      "003 complete\n",
      "004 complete\n"
     ]
    },
    {
     "name": "stderr",
     "output_type": "stream",
     "text": [
      "\r",
      "  8%|██████▍                                                                     | 2776/32971 [00:02<00:36, 819.05it/s]"
     ]
    },
    {
     "name": "stdout",
     "output_type": "stream",
     "text": [
      "005 complete\n"
     ]
    },
    {
     "name": "stderr",
     "output_type": "stream",
     "text": [
      "\r",
      " 10%|███████▌                                                                    | 3268/32971 [00:04<00:55, 533.39it/s]"
     ]
    },
    {
     "name": "stdout",
     "output_type": "stream",
     "text": [
      "006 complete\n"
     ]
    },
    {
     "name": "stderr",
     "output_type": "stream",
     "text": [
      " 12%|█████████▎                                                                  | 4037/32971 [00:07<01:20, 361.51it/s]"
     ]
    },
    {
     "name": "stdout",
     "output_type": "stream",
     "text": [
      "007 complete\n"
     ]
    },
    {
     "name": "stderr",
     "output_type": "stream",
     "text": [
      " 14%|██████████▍                                                                 | 4543/32971 [00:09<01:43, 274.20it/s]"
     ]
    },
    {
     "name": "stdout",
     "output_type": "stream",
     "text": [
      "008 complete\n"
     ]
    },
    {
     "name": "stderr",
     "output_type": "stream",
     "text": [
      " 15%|███████████▌                                                                | 5025/32971 [00:10<01:49, 255.23it/s]"
     ]
    },
    {
     "name": "stdout",
     "output_type": "stream",
     "text": [
      "009 complete\n"
     ]
    },
    {
     "name": "stderr",
     "output_type": "stream",
     "text": [
      " 17%|████████████▊                                                               | 5548/32971 [00:12<01:33, 293.49it/s]"
     ]
    },
    {
     "name": "stdout",
     "output_type": "stream",
     "text": [
      "010 complete\n"
     ]
    },
    {
     "name": "stderr",
     "output_type": "stream",
     "text": [
      " 18%|█████████████▉                                                              | 6052/32971 [00:14<01:38, 273.44it/s]"
     ]
    },
    {
     "name": "stdout",
     "output_type": "stream",
     "text": [
      "011 complete\n"
     ]
    },
    {
     "name": "stderr",
     "output_type": "stream",
     "text": [
      " 20%|███████████████                                                             | 6539/32971 [00:15<01:34, 281.02it/s]"
     ]
    },
    {
     "name": "stdout",
     "output_type": "stream",
     "text": [
      "012 complete\n"
     ]
    },
    {
     "name": "stderr",
     "output_type": "stream",
     "text": [
      " 21%|████████████████▏                                                           | 7047/32971 [00:17<01:35, 271.49it/s]"
     ]
    },
    {
     "name": "stdout",
     "output_type": "stream",
     "text": [
      "013 complete\n"
     ]
    },
    {
     "name": "stderr",
     "output_type": "stream",
     "text": [
      " 23%|█████████████████▎                                                          | 7526/32971 [00:19<01:33, 271.59it/s]"
     ]
    },
    {
     "name": "stdout",
     "output_type": "stream",
     "text": [
      "014 complete\n"
     ]
    },
    {
     "name": "stderr",
     "output_type": "stream",
     "text": [
      " 24%|██████████████████▌                                                         | 8052/32971 [00:21<01:30, 276.78it/s]"
     ]
    },
    {
     "name": "stdout",
     "output_type": "stream",
     "text": [
      "015 complete\n"
     ]
    },
    {
     "name": "stderr",
     "output_type": "stream",
     "text": [
      " 26%|███████████████████▋                                                        | 8542/32971 [00:23<01:43, 237.07it/s]"
     ]
    },
    {
     "name": "stdout",
     "output_type": "stream",
     "text": [
      "016 complete\n"
     ]
    },
    {
     "name": "stderr",
     "output_type": "stream",
     "text": [
      " 27%|████████████████████▊                                                       | 9021/32971 [00:25<01:42, 233.98it/s]"
     ]
    },
    {
     "name": "stdout",
     "output_type": "stream",
     "text": [
      "017 complete\n"
     ]
    },
    {
     "name": "stderr",
     "output_type": "stream",
     "text": [
      " 29%|█████████████████████▉                                                      | 9523/32971 [00:27<01:40, 232.64it/s]"
     ]
    },
    {
     "name": "stdout",
     "output_type": "stream",
     "text": [
      "018 complete\n"
     ]
    },
    {
     "name": "stderr",
     "output_type": "stream",
     "text": [
      " 30%|██████████████████████▊                                                    | 10045/32971 [00:29<01:39, 230.29it/s]"
     ]
    },
    {
     "name": "stdout",
     "output_type": "stream",
     "text": [
      "019 complete\n"
     ]
    },
    {
     "name": "stderr",
     "output_type": "stream",
     "text": [
      " 32%|███████████████████████▉                                                   | 10549/32971 [00:31<01:29, 249.51it/s]"
     ]
    },
    {
     "name": "stdout",
     "output_type": "stream",
     "text": [
      "020 complete\n"
     ]
    },
    {
     "name": "stderr",
     "output_type": "stream",
     "text": [
      " 33%|█████████████████████████                                                  | 11032/32971 [00:33<01:23, 261.38it/s]"
     ]
    },
    {
     "name": "stdout",
     "output_type": "stream",
     "text": [
      "021 complete\n"
     ]
    },
    {
     "name": "stderr",
     "output_type": "stream",
     "text": [
      " 35%|██████████████████████████▎                                                | 11554/32971 [00:35<01:22, 259.56it/s]"
     ]
    },
    {
     "name": "stdout",
     "output_type": "stream",
     "text": [
      "022 complete\n"
     ]
    },
    {
     "name": "stderr",
     "output_type": "stream",
     "text": [
      " 37%|███████████████████████████▍                                               | 12051/32971 [00:37<01:23, 249.27it/s]"
     ]
    },
    {
     "name": "stdout",
     "output_type": "stream",
     "text": [
      "023 complete\n"
     ]
    },
    {
     "name": "stderr",
     "output_type": "stream",
     "text": [
      " 38%|████████████████████████████▌                                              | 12540/32971 [00:39<01:20, 252.31it/s]"
     ]
    },
    {
     "name": "stdout",
     "output_type": "stream",
     "text": [
      "024 complete\n"
     ]
    },
    {
     "name": "stderr",
     "output_type": "stream",
     "text": [
      " 40%|█████████████████████████████▋                                             | 13033/32971 [00:41<01:19, 251.47it/s]"
     ]
    },
    {
     "name": "stdout",
     "output_type": "stream",
     "text": [
      "025 complete\n"
     ]
    },
    {
     "name": "stderr",
     "output_type": "stream",
     "text": [
      " 41%|██████████████████████████████▊                                            | 13538/32971 [00:43<01:11, 273.13it/s]"
     ]
    },
    {
     "name": "stdout",
     "output_type": "stream",
     "text": [
      "026 complete\n"
     ]
    },
    {
     "name": "stderr",
     "output_type": "stream",
     "text": [
      " 43%|███████████████████████████████▉                                           | 14033/32971 [00:45<01:08, 275.36it/s]"
     ]
    },
    {
     "name": "stdout",
     "output_type": "stream",
     "text": [
      "027 complete\n"
     ]
    },
    {
     "name": "stderr",
     "output_type": "stream",
     "text": [
      " 44%|█████████████████████████████████                                          | 14533/32971 [00:47<01:12, 254.54it/s]"
     ]
    },
    {
     "name": "stdout",
     "output_type": "stream",
     "text": [
      "028 complete\n"
     ]
    },
    {
     "name": "stderr",
     "output_type": "stream",
     "text": [
      " 46%|██████████████████████████████████▏                                        | 15027/32971 [00:49<01:10, 252.76it/s]"
     ]
    },
    {
     "name": "stdout",
     "output_type": "stream",
     "text": [
      "029 complete\n"
     ]
    },
    {
     "name": "stderr",
     "output_type": "stream",
     "text": [
      " 47%|███████████████████████████████████▎                                       | 15551/32971 [00:51<01:07, 258.72it/s]"
     ]
    },
    {
     "name": "stdout",
     "output_type": "stream",
     "text": [
      "030 complete\n"
     ]
    },
    {
     "name": "stderr",
     "output_type": "stream",
     "text": [
      " 49%|████████████████████████████████████▍                                      | 16035/32971 [00:53<01:11, 236.44it/s]"
     ]
    },
    {
     "name": "stdout",
     "output_type": "stream",
     "text": [
      "031 complete\n"
     ]
    },
    {
     "name": "stderr",
     "output_type": "stream",
     "text": [
      " 50%|█████████████████████████████████████▌                                     | 16523/32971 [00:55<01:11, 229.93it/s]"
     ]
    },
    {
     "name": "stdout",
     "output_type": "stream",
     "text": [
      "032 complete\n"
     ]
    },
    {
     "name": "stderr",
     "output_type": "stream",
     "text": [
      " 52%|██████████████████████████████████████▊                                    | 17039/32971 [00:57<01:01, 260.53it/s]"
     ]
    },
    {
     "name": "stdout",
     "output_type": "stream",
     "text": [
      "033 complete\n"
     ]
    },
    {
     "name": "stderr",
     "output_type": "stream",
     "text": [
      " 53%|███████████████████████████████████████▉                                   | 17538/32971 [00:59<01:03, 243.84it/s]"
     ]
    },
    {
     "name": "stdout",
     "output_type": "stream",
     "text": [
      "034 complete\n"
     ]
    },
    {
     "name": "stderr",
     "output_type": "stream",
     "text": [
      " 55%|█████████████████████████████████████████                                  | 18044/32971 [01:01<01:04, 231.21it/s]"
     ]
    },
    {
     "name": "stdout",
     "output_type": "stream",
     "text": [
      "035 complete\n"
     ]
    },
    {
     "name": "stderr",
     "output_type": "stream",
     "text": [
      " 56%|██████████████████████████████████████████▏                                | 18544/32971 [01:03<00:58, 245.35it/s]"
     ]
    },
    {
     "name": "stdout",
     "output_type": "stream",
     "text": [
      "036 complete\n"
     ]
    },
    {
     "name": "stderr",
     "output_type": "stream",
     "text": [
      " 58%|███████████████████████████████████████████▎                               | 19028/32971 [01:05<00:57, 243.70it/s]"
     ]
    },
    {
     "name": "stdout",
     "output_type": "stream",
     "text": [
      "037 complete\n"
     ]
    },
    {
     "name": "stderr",
     "output_type": "stream",
     "text": [
      " 59%|████████████████████████████████████████████▍                              | 19541/32971 [01:07<00:54, 245.29it/s]"
     ]
    },
    {
     "name": "stdout",
     "output_type": "stream",
     "text": [
      "038 complete\n"
     ]
    },
    {
     "name": "stderr",
     "output_type": "stream",
     "text": [
      " 61%|█████████████████████████████████████████████▌                             | 20047/32971 [01:09<00:50, 254.74it/s]"
     ]
    },
    {
     "name": "stdout",
     "output_type": "stream",
     "text": [
      "039 complete\n"
     ]
    },
    {
     "name": "stderr",
     "output_type": "stream",
     "text": [
      " 62%|██████████████████████████████████████████████▋                            | 20537/32971 [01:11<00:49, 251.95it/s]"
     ]
    },
    {
     "name": "stdout",
     "output_type": "stream",
     "text": [
      "040 complete\n"
     ]
    },
    {
     "name": "stderr",
     "output_type": "stream",
     "text": [
      " 64%|███████████████████████████████████████████████▊                           | 21036/32971 [01:13<00:46, 256.94it/s]"
     ]
    },
    {
     "name": "stdout",
     "output_type": "stream",
     "text": [
      "041 complete\n"
     ]
    },
    {
     "name": "stderr",
     "output_type": "stream",
     "text": [
      " 65%|████████████████████████████████████████████████▉                          | 21539/32971 [01:15<00:45, 253.68it/s]"
     ]
    },
    {
     "name": "stdout",
     "output_type": "stream",
     "text": [
      "042 complete\n"
     ]
    },
    {
     "name": "stderr",
     "output_type": "stream",
     "text": [
      " 67%|██████████████████████████████████████████████████                         | 22030/32971 [01:17<00:42, 256.64it/s]"
     ]
    },
    {
     "name": "stdout",
     "output_type": "stream",
     "text": [
      "043 complete\n"
     ]
    },
    {
     "name": "stderr",
     "output_type": "stream",
     "text": [
      " 68%|███████████████████████████████████████████████████▎                       | 22548/32971 [01:19<00:39, 264.75it/s]"
     ]
    },
    {
     "name": "stdout",
     "output_type": "stream",
     "text": [
      "044 complete\n"
     ]
    },
    {
     "name": "stderr",
     "output_type": "stream",
     "text": [
      " 70%|████████████████████████████████████████████████████▍                      | 23047/32971 [01:21<00:40, 245.10it/s]"
     ]
    },
    {
     "name": "stdout",
     "output_type": "stream",
     "text": [
      "045 complete\n"
     ]
    },
    {
     "name": "stderr",
     "output_type": "stream",
     "text": [
      " 71%|█████████████████████████████████████████████████████▌                     | 23526/32971 [01:23<00:36, 262.15it/s]"
     ]
    },
    {
     "name": "stdout",
     "output_type": "stream",
     "text": [
      "046 complete\n"
     ]
    },
    {
     "name": "stderr",
     "output_type": "stream",
     "text": [
      " 73%|██████████████████████████████████████████████████████▋                    | 24047/32971 [01:25<00:33, 269.90it/s]"
     ]
    },
    {
     "name": "stdout",
     "output_type": "stream",
     "text": [
      "047 complete\n"
     ]
    },
    {
     "name": "stderr",
     "output_type": "stream",
     "text": [
      " 74%|███████████████████████████████████████████████████████▊                   | 24546/32971 [01:27<00:31, 267.01it/s]"
     ]
    },
    {
     "name": "stdout",
     "output_type": "stream",
     "text": [
      "048 complete\n"
     ]
    },
    {
     "name": "stderr",
     "output_type": "stream",
     "text": [
      " 76%|████████████████████████████████████████████████████████▉                  | 25034/32971 [01:29<00:33, 237.65it/s]"
     ]
    },
    {
     "name": "stdout",
     "output_type": "stream",
     "text": [
      "049 complete\n"
     ]
    },
    {
     "name": "stderr",
     "output_type": "stream",
     "text": [
      " 77%|██████████████████████████████████████████████████████████                 | 25527/32971 [01:30<00:28, 258.85it/s]"
     ]
    },
    {
     "name": "stdout",
     "output_type": "stream",
     "text": [
      "050 complete\n"
     ]
    },
    {
     "name": "stderr",
     "output_type": "stream",
     "text": [
      " 79%|███████████████████████████████████████████████████████████▏               | 26035/32971 [01:32<00:27, 248.01it/s]"
     ]
    },
    {
     "name": "stdout",
     "output_type": "stream",
     "text": [
      "051 complete\n"
     ]
    },
    {
     "name": "stderr",
     "output_type": "stream",
     "text": [
      " 80%|████████████████████████████████████████████████████████████▎              | 26528/32971 [01:34<00:25, 256.23it/s]"
     ]
    },
    {
     "name": "stdout",
     "output_type": "stream",
     "text": [
      "052 complete\n"
     ]
    },
    {
     "name": "stderr",
     "output_type": "stream",
     "text": [
      " 82%|█████████████████████████████████████████████████████████████▌             | 27046/32971 [01:36<00:25, 236.98it/s]"
     ]
    },
    {
     "name": "stdout",
     "output_type": "stream",
     "text": [
      "053 complete\n"
     ]
    },
    {
     "name": "stderr",
     "output_type": "stream",
     "text": [
      " 83%|██████████████████████████████████████████████████████████████▌            | 27526/32971 [01:38<00:22, 243.51it/s]"
     ]
    },
    {
     "name": "stdout",
     "output_type": "stream",
     "text": [
      "054 complete\n"
     ]
    },
    {
     "name": "stderr",
     "output_type": "stream",
     "text": [
      " 85%|███████████████████████████████████████████████████████████████▋           | 28023/32971 [01:40<00:19, 257.78it/s]"
     ]
    },
    {
     "name": "stdout",
     "output_type": "stream",
     "text": [
      "055 complete\n"
     ]
    },
    {
     "name": "stderr",
     "output_type": "stream",
     "text": [
      " 87%|████████████████████████████████████████████████████████████████▉          | 28534/32971 [01:42<00:17, 257.90it/s]"
     ]
    },
    {
     "name": "stdout",
     "output_type": "stream",
     "text": [
      "056 complete\n"
     ]
    },
    {
     "name": "stderr",
     "output_type": "stream",
     "text": [
      " 88%|██████████████████████████████████████████████████████████████████         | 29034/32971 [01:44<00:15, 258.05it/s]"
     ]
    },
    {
     "name": "stdout",
     "output_type": "stream",
     "text": [
      "057 complete\n"
     ]
    },
    {
     "name": "stderr",
     "output_type": "stream",
     "text": [
      " 90%|███████████████████████████████████████████████████████████████████▏       | 29551/32971 [01:46<00:13, 258.73it/s]"
     ]
    },
    {
     "name": "stdout",
     "output_type": "stream",
     "text": [
      "058 complete\n"
     ]
    },
    {
     "name": "stderr",
     "output_type": "stream",
     "text": [
      " 91%|████████████████████████████████████████████████████████████████████▎      | 30040/32971 [01:48<00:11, 246.82it/s]"
     ]
    },
    {
     "name": "stdout",
     "output_type": "stream",
     "text": [
      "059 complete\n"
     ]
    },
    {
     "name": "stderr",
     "output_type": "stream",
     "text": [
      " 93%|█████████████████████████████████████████████████████████████████████▍     | 30546/32971 [01:50<00:09, 245.23it/s]"
     ]
    },
    {
     "name": "stdout",
     "output_type": "stream",
     "text": [
      "060 complete\n"
     ]
    },
    {
     "name": "stderr",
     "output_type": "stream",
     "text": [
      " 94%|██████████████████████████████████████████████████████████████████████▌    | 31046/32971 [01:52<00:07, 252.65it/s]"
     ]
    },
    {
     "name": "stdout",
     "output_type": "stream",
     "text": [
      "061 complete\n"
     ]
    },
    {
     "name": "stderr",
     "output_type": "stream",
     "text": [
      " 96%|███████████████████████████████████████████████████████████████████████▋   | 31542/32971 [01:54<00:05, 248.33it/s]"
     ]
    },
    {
     "name": "stdout",
     "output_type": "stream",
     "text": [
      "062 complete\n"
     ]
    },
    {
     "name": "stderr",
     "output_type": "stream",
     "text": [
      " 97%|████████████████████████████████████████████████████████████████████████▉  | 32040/32971 [01:56<00:03, 249.14it/s]"
     ]
    },
    {
     "name": "stdout",
     "output_type": "stream",
     "text": [
      "063 complete\n"
     ]
    },
    {
     "name": "stderr",
     "output_type": "stream",
     "text": [
      " 99%|██████████████████████████████████████████████████████████████████████████ | 32542/32971 [01:58<00:01, 268.22it/s]"
     ]
    },
    {
     "name": "stdout",
     "output_type": "stream",
     "text": [
      "064 complete\n"
     ]
    },
    {
     "name": "stderr",
     "output_type": "stream",
     "text": [
      "100%|███████████████████████████████████████████████████████████████████████████| 32971/32971 [02:00<00:00, 274.37it/s]"
     ]
    },
    {
     "name": "stdout",
     "output_type": "stream",
     "text": [
      "120.16873145103455\n"
     ]
    },
    {
     "name": "stderr",
     "output_type": "stream",
     "text": [
      "\n"
     ]
    }
   ],
   "source": [
    "text_dict = {'filename':[],'text':[]}\n",
    "\n",
    "path='./dataset/KlecSpeech/Validation/'\n",
    "\n",
    "# path = Path('./한국어 강의 음성/Validation/')\n",
    "\n",
    "# wav 파일 기준으로 text 파일이름이 동일, 확장자는 wav, txt로 각각 다름\n",
    "files = [f for f in glob.glob(path + \"**/*.wav\", recursive=True)]\n",
    "\n",
    "# 테스트 코드\n",
    "# files = files[0:3]\n",
    "# print(files)\n",
    "import time\n",
    "\n",
    "start = time.time()\n",
    "print(\"This time is being calculated\")\n",
    "\n",
    "for i in tqdm(range(len(files))):\n",
    "    txt_file = files[i].replace(\".wav\", \".txt\")\n",
    "    files[i] = files[i].replace(\"\\\\\", \"/\")\n",
    "\n",
    "#     print(txt_file)\n",
    "    if not os.path.exists(txt_file):\n",
    "        print(\"The file does not exist\", txt_file)\n",
    "    \n",
    "    with open(txt_file ,'r',encoding='utf8') as f:\n",
    "        text = f.read()\n",
    "        \n",
    "        # 텍스트 전처리\n",
    "        text = preprocessing(text)\n",
    "\n",
    "        # 항목들 값을 저장 \\\n",
    "        text_dict['filename'].append(files[i]) # filename\n",
    "        text_dict['text'].append(text)\n",
    "        \n",
    "#         # 각 wav파일을 16000으로 나눠서 저장\n",
    "#         array,_ = librosa.load(files[i],sr=16000)\n",
    "#         text_dict['array'].append(list(array))\n",
    "\n",
    "    if i%500==499:\n",
    "        n=i//500\n",
    "        df = pd.DataFrame(text_dict)\n",
    "        df.to_csv(f'klecspeech_ko_500_not_audio_{n:03d}.csv',index=False,sep='\\t')\n",
    "        print(f'{n:03d} complete')\n",
    "\n",
    "        # text_dict을 초기화\n",
    "        text_dict = {'filename':[],'text':[]}\n",
    "        \n",
    "# df = pd.DataFrame(text_dict)\n",
    "# df.head()\n",
    "\n",
    "print(time.time() - start)"
   ]
  },
  {
   "cell_type": "code",
   "execution_count": 9,
   "id": "2abba7f2",
   "metadata": {
    "id": "2abba7f2"
   },
   "outputs": [
    {
     "data": {
      "text/html": [
       "<div>\n",
       "<style scoped>\n",
       "    .dataframe tbody tr th:only-of-type {\n",
       "        vertical-align: middle;\n",
       "    }\n",
       "\n",
       "    .dataframe tbody tr th {\n",
       "        vertical-align: top;\n",
       "    }\n",
       "\n",
       "    .dataframe thead th {\n",
       "        text-align: right;\n",
       "    }\n",
       "</style>\n",
       "<table border=\"1\" class=\"dataframe\">\n",
       "  <thead>\n",
       "    <tr style=\"text-align: right;\">\n",
       "      <th></th>\n",
       "      <th>filename</th>\n",
       "      <th>text</th>\n",
       "    </tr>\n",
       "  </thead>\n",
       "  <tbody>\n",
       "    <tr>\n",
       "      <th>0</th>\n",
       "      <td>./dataset/KlecSpeech/Validation/D01/E01/S00002...</td>\n",
       "      <td>여러분 안녕하세요.</td>\n",
       "    </tr>\n",
       "    <tr>\n",
       "      <th>1</th>\n",
       "      <td>./dataset/KlecSpeech/Validation/D01/E01/S00002...</td>\n",
       "      <td>친구들이 독해의 열매를 맺어 독해력이 쑥쑥 자랄 수 있도록 도와주는 혜은 선생님 이...</td>\n",
       "    </tr>\n",
       "    <tr>\n",
       "      <th>2</th>\n",
       "      <td>./dataset/KlecSpeech/Validation/D01/E01/S00002...</td>\n",
       "      <td>오늘의 생각 씨앗은요 히읗 비읍 이에요. 선생님은 어렸을 때 이 생각 씨앗을 입고 ...</td>\n",
       "    </tr>\n",
       "    <tr>\n",
       "      <th>3</th>\n",
       "      <td>./dataset/KlecSpeech/Validation/D01/E01/S00002...</td>\n",
       "      <td>색동저고리 함께 읽어보도록 하겠습니다.</td>\n",
       "    </tr>\n",
       "    <tr>\n",
       "      <th>4</th>\n",
       "      <td>./dataset/KlecSpeech/Validation/D01/E01/S00002...</td>\n",
       "      <td>와 엄마 너무 예뻐요.</td>\n",
       "    </tr>\n",
       "  </tbody>\n",
       "</table>\n",
       "</div>"
      ],
      "text/plain": [
       "                                            filename  \\\n",
       "0  ./dataset/KlecSpeech/Validation/D01/E01/S00002...   \n",
       "1  ./dataset/KlecSpeech/Validation/D01/E01/S00002...   \n",
       "2  ./dataset/KlecSpeech/Validation/D01/E01/S00002...   \n",
       "3  ./dataset/KlecSpeech/Validation/D01/E01/S00002...   \n",
       "4  ./dataset/KlecSpeech/Validation/D01/E01/S00002...   \n",
       "\n",
       "                                                text  \n",
       "0                                         여러분 안녕하세요.  \n",
       "1  친구들이 독해의 열매를 맺어 독해력이 쑥쑥 자랄 수 있도록 도와주는 혜은 선생님 이...  \n",
       "2  오늘의 생각 씨앗은요 히읗 비읍 이에요. 선생님은 어렸을 때 이 생각 씨앗을 입고 ...  \n",
       "3                              색동저고리 함께 읽어보도록 하겠습니다.  \n",
       "4                                       와 엄마 너무 예뻐요.  "
      ]
     },
     "execution_count": 9,
     "metadata": {},
     "output_type": "execute_result"
    }
   ],
   "source": [
    "csv_df = pd.read_csv('klecspeech_ko_500_not_audio_000.csv',sep='\\t')\n",
    "csv_df.head()"
   ]
  },
  {
   "cell_type": "code",
   "execution_count": null,
   "id": "70c3d3cc",
   "metadata": {
    "id": "70c3d3cc"
   },
   "outputs": [],
   "source": [
    "for i in range(100):\n",
    "    print(text_dict['src'][i], text_dict['text'][i])"
   ]
  },
  {
   "cell_type": "code",
   "execution_count": null,
   "id": "c65d93f5",
   "metadata": {
    "id": "c65d93f5"
   },
   "outputs": [],
   "source": [
    "df.to_csv('order_speech_ko.csv')"
   ]
  },
  {
   "cell_type": "code",
   "execution_count": null,
   "id": "13c99902",
   "metadata": {
    "id": "13c99902"
   },
   "outputs": [],
   "source": [
    "df['text'].unique()\n",
    "# df.read_csv('order_speech_ko.csv')\n",
    "# result = [i for i in my_list if i]"
   ]
  },
  {
   "cell_type": "code",
   "execution_count": null,
   "id": "eb69b568",
   "metadata": {
    "id": "eb69b568"
   },
   "outputs": [],
   "source": [
    "df.info()"
   ]
  },
  {
   "cell_type": "code",
   "execution_count": null,
   "id": "56e41898",
   "metadata": {
    "id": "56e41898"
   },
   "outputs": [],
   "source": [
    "df.describe()"
   ]
  },
  {
   "cell_type": "markdown",
   "id": "710171bf",
   "metadata": {
    "id": "710171bf"
   },
   "source": [
    "## 텍스트 누락 확인"
   ]
  },
  {
   "cell_type": "code",
   "execution_count": 10,
   "id": "4330a695",
   "metadata": {
    "id": "4330a695"
   },
   "outputs": [
    {
     "data": {
      "text/plain": [
       "'<n> 과 우리의 인간 다운 삶을 보장하는 그런데 과학이 쓰여 질 수 있도록 우리의 과학 기술을 발전 시켜나가는 그런 다짐과 그런 말씀 드리면서 오늘 강의를 마치도록 하겠습니다. 감사합니다.'"
      ]
     },
     "execution_count": 10,
     "metadata": {},
     "output_type": "execute_result"
    }
   ],
   "source": [
    "df['text'].min()"
   ]
  },
  {
   "cell_type": "code",
   "execution_count": 11,
   "id": "d77200cb",
   "metadata": {
    "id": "d77200cb"
   },
   "outputs": [
    {
     "data": {
      "text/plain": [
       "text_len    328\n",
       "dtype: int64"
      ]
     },
     "execution_count": 11,
     "metadata": {},
     "output_type": "execute_result"
    }
   ],
   "source": [
    "df['text_len'] = df['text'].map(len)\n",
    "\n",
    "df[['text_len']].idxmin()"
   ]
  },
  {
   "cell_type": "code",
   "execution_count": 12,
   "id": "ee27ddd8",
   "metadata": {
    "id": "ee27ddd8"
   },
   "outputs": [
    {
     "data": {
      "text/plain": [
       "text_len    328\n",
       "dtype: int64"
      ]
     },
     "execution_count": 12,
     "metadata": {},
     "output_type": "execute_result"
    }
   ],
   "source": [
    "df[['text_len']].idxmin()"
   ]
  },
  {
   "cell_type": "code",
   "execution_count": 15,
   "id": "1b4019ea",
   "metadata": {
    "id": "1b4019ea"
   },
   "outputs": [
    {
     "data": {
      "text/plain": [
       "'이 근업의,'"
      ]
     },
     "execution_count": 15,
     "metadata": {},
     "output_type": "execute_result"
    }
   ],
   "source": [
    "df['text'][22410]"
   ]
  },
  {
   "cell_type": "code",
   "execution_count": null,
   "id": "6b23f17c",
   "metadata": {
    "id": "6b23f17c"
   },
   "outputs": [],
   "source": [
    "print(df['src'][22410])"
   ]
  },
  {
   "cell_type": "code",
   "execution_count": null,
   "id": "961a0456",
   "metadata": {
    "id": "961a0456"
   },
   "outputs": [],
   "source": [
    "# 찾아보면 #NAME이라고 되어 있음."
   ]
  }
 ],
 "metadata": {
  "colab": {
   "collapsed_sections": [],
   "name": "AI_create_csv_속기사 전처리 한국인 강의 음성_v3.ipynb",
   "provenance": []
  },
  "kernelspec": {
   "display_name": "STT",
   "language": "python",
   "name": "stt"
  },
  "language_info": {
   "codemirror_mode": {
    "name": "ipython",
    "version": 3
   },
   "file_extension": ".py",
   "mimetype": "text/x-python",
   "name": "python",
   "nbconvert_exporter": "python",
   "pygments_lexer": "ipython3",
   "version": "3.7.13"
  }
 },
 "nbformat": 4,
 "nbformat_minor": 5
}
