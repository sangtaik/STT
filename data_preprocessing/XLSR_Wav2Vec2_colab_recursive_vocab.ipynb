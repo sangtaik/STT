{
  "cells": [
    {
      "cell_type": "code",
      "source": [
        "# csv 파일을 여러 번 읽어 json 파일까지 병합하는 과정"
      ],
      "metadata": {
        "id": "hLpN2eNzXwaC"
      },
      "execution_count": null,
      "outputs": []
    },
    {
      "cell_type": "code",
      "source": [
        "# 필요한 패키지(라이브러리)를 구글 드라이버에 설치하였는가?\n",
        "IS_INSTALL_ENV = True\n",
        "IS_COLAB_ENV = True"
      ],
      "metadata": {
        "id": "s73XJAGCx8hU"
      },
      "execution_count": null,
      "outputs": []
    },
    {
      "cell_type": "code",
      "source": [
        "\n",
        "import os, sys  \n",
        "from google.colab import drive  \n",
        "drive.mount('/content/drive')   \n",
        "\n",
        "# colab의 os 폴더 위치\n",
        "pg_path = '/content/dataset' \n",
        "\n",
        "# if IS_NOT_INSTALL_ENV == True:\n",
        "# Google Drive에서 설치된 파일 위치 - 미리 해당 폴더를 생성해야 한다.\n",
        "os.symlink('/content/drive/My Drive/Colab Notebooks/Project/AI 속기사/dataset/', pg_path)  \n",
        "sys.path.insert(0, pg_path)  \n",
        "\n",
        "\n",
        "# /content/drive/My Drive/Colab Notebooks/Project/AI 속기사/dataset/KlecSpeech/"
      ],
      "metadata": {
        "colab": {
          "base_uri": "https://localhost:8080/"
        },
        "id": "u0isYf84fJEo",
        "outputId": "296cf0c0-e711-4508-fc79-96fdec2849d0"
      },
      "execution_count": null,
      "outputs": [
        {
          "output_type": "stream",
          "name": "stdout",
          "text": [
            "Mounted at /content/drive\n"
          ]
        }
      ]
    },
    {
      "cell_type": "code",
      "source": [
        "# colab의 os 폴더 위치\n",
        "pg_path = '/content/packages' \n",
        "\n",
        "# if IS_NOT_INSTALL_ENV == True:\n",
        "# Google Drive에서 설치된 파일 위치 - 미리 해당 폴더를 생성해야 한다.\n",
        "os.symlink('/content/drive/My Drive/Colab Notebooks/packages', pg_path)  \n",
        "sys.path.insert(0, pg_path)  "
      ],
      "metadata": {
        "id": "N4M8PKcsi0fP"
      },
      "execution_count": null,
      "outputs": []
    },
    {
      "cell_type": "code",
      "source": [
        "if IS_INSTALL_ENV == False:\n",
        "# !pip install transformers 대신 영구 설치\n",
        "# os.symlink로 걸어놓은 위치에서 pg_path로 연결된 폴더에 영구 설치한다. 1번만 설치하면 2번 설치할 필요 없음.\n",
        "    !pip install --target=$pg_path datasets\n",
        "    !pip install --target=$pg_path transformers  \n",
        "    !pip install --target=$pg_pat jiwer"
      ],
      "metadata": {
        "id": "fHPEXfxag1nH"
      },
      "execution_count": null,
      "outputs": []
    },
    {
      "cell_type": "markdown",
      "metadata": {
        "id": "lLCZvETJuFaO"
      },
      "source": [
        "## Create Wav2Vec2CTCTokenizer"
      ]
    },
    {
      "cell_type": "code",
      "execution_count": null,
      "metadata": {
        "id": "vjRnu_OffC4Z"
      },
      "outputs": [],
      "source": [
        "from datasets import load_dataset\n",
        "import pandas as pd\n",
        "import numpy as np\n",
        "import tqdm\n",
        "import glob"
      ]
    },
    {
      "cell_type": "code",
      "source": [
        "dir_path = ['./dataset/KlecSpeech/csv/', './dataset/csv/']\n",
        "file_prefix = ['klecspeech_ko_500', 'order_speech_ko1000']"
      ],
      "metadata": {
        "id": "mt34Myr_R2Qk"
      },
      "execution_count": null,
      "outputs": []
    },
    {
      "cell_type": "code",
      "source": [
        "# 모든 csv 파일 리스트를 가져온다.\n",
        "def get_all_filelist(dir_path):\n",
        "    csv_files = []\n",
        "    for i in range(len(dir_path)):\n",
        "        csv_list = os.listdir(dir_path[i])\n",
        "        for file in csv_list:\n",
        "            csv_files.append(dir_path[i]+file)\n",
        "    return csv_files\n",
        "\n"
      ],
      "metadata": {
        "id": "D1OL_yyHSHk_"
      },
      "execution_count": null,
      "outputs": []
    },
    {
      "cell_type": "code",
      "source": [
        "# 결과를 확인한다.\n",
        "all_files = get_all_filelist(dir_path)"
      ],
      "metadata": {
        "id": "0khEYf9Q5iMT"
      },
      "execution_count": null,
      "outputs": []
    },
    {
      "cell_type": "code",
      "source": [
        "# get_filelist \n",
        "# start_idx부터 step_num 건수 만큼 파일리스트 추가\n",
        "def get_filelist(csv_list, start_idx, step_num):\n",
        "\n",
        "    end_idx = len(csv_list)\n",
        "    new_list = []\n",
        "    if len(csv_list) == 0:\n",
        "        print(\"array size is 0\")\n",
        "        return None\n",
        "    else:\n",
        "        if len(csv_list) < start_idx + step_num:\n",
        "            end_idx = len(csv_list)\n",
        "        else:\n",
        "            end_idx = start_idx + step_num\n",
        "\n",
        "        for i in range(start_idx, end_idx):\n",
        "            print(\"file appned : \", i, \" \",csv_list[i])\n",
        "            new_list.append(csv_list[i])\n",
        "        return new_list"
      ],
      "metadata": {
        "id": "ppAAeuhq5ZfC"
      },
      "execution_count": null,
      "outputs": []
    },
    {
      "cell_type": "code",
      "execution_count": null,
      "metadata": {
        "scrolled": true,
        "id": "DcyATe58fC4a"
      },
      "outputs": [],
      "source": [
        "def load_datasets(files):\n",
        "    # files가 list로 되어 있으면 한번에 합쳐서 load해온다.\n",
        "    dataset = load_dataset('csv',data_files=files, split='train', sep='\\t')\n",
        "    return dataset"
      ]
    },
    {
      "cell_type": "code",
      "execution_count": null,
      "metadata": {
        "id": "G34Hj6BgnK3L"
      },
      "outputs": [],
      "source": [
        "import re\n",
        "chars_to_ignore_regex = '[\\,\\?\\.\\!\\-\\;\\:\\\"\\“\\%\\‘\\”\\�]'\n",
        "\n",
        "def remove_special_characters(batch):\n",
        "    batch[\"text\"] = re.sub(chars_to_ignore_regex, '', batch[\"text\"]).lower() + \" \"\n",
        "    return batch"
      ]
    },
    {
      "cell_type": "code",
      "execution_count": null,
      "metadata": {
        "id": "ZsimiwGSnWDY"
      },
      "outputs": [],
      "source": [
        "def extract_all_chars(batch):\n",
        "  all_text = \" \".join(batch[\"text\"])\n",
        "  vocab = list(set(all_text))\n",
        "  return {\"vocab\": [vocab], \"all_text\": [all_text]}\n"
      ]
    },
    {
      "cell_type": "code",
      "source": [
        "import json\n",
        "\n",
        "# 한 번 실행에 몇 개의 파일을 묶을 것인가?\n",
        "num_of_files = 10\n",
        "\n",
        "for i in range(0, len(all_files), num_of_files):\n",
        "    filelist = get_filelist(all_files, i, num_of_files)\n",
        "    print(filelist)\n",
        "    data_csv = load_datasets(filelist)\n",
        "    print(data_csv)\n",
        "    remove_spectial_char_data = data_csv.map(remove_special_characters )\n",
        "    df = pd.DataFrame(remove_spectial_char_data)\n",
        "\n",
        "    char_vocab = remove_spectial_char_data.map(\n",
        "    extract_all_chars,\n",
        "    batched=True,\n",
        "    batch_size=-1,\n",
        "    keep_in_memory=True,\n",
        "    remove_columns=remove_spectial_char_data.column_names,\n",
        "    )\n",
        "\n",
        "\n",
        "    vocab_list = list(set(char_vocab[\"vocab\"][0]))\n",
        "    vocab_dict = {v: k for k, v in enumerate(vocab_list)}\n",
        "    vocab_dict[\"|\"] = vocab_dict[\" \"]\n",
        "    del vocab_dict[\" \"]\n",
        "    vocab_dict[\"[UNK]\"] = len(vocab_dict)\n",
        "    vocab_dict[\"[PAD]\"] = len(vocab_dict)\n",
        "\n",
        "    print(vocab_dict)\n",
        "    with open(f'vocab_{i:03d}.json_temp', 'w') as vocab_file:\n",
        "        json.dump(vocab_dict, vocab_file)\n"
      ],
      "metadata": {
        "colab": {
          "base_uri": "https://localhost:8080/",
          "height": 426,
          "referenced_widgets": [
            "14bb680feb5b4cd18f196166d865fe78",
            "49178d0a063e415a8cb97629edd63ced",
            "1ce5f478a8cd43aa8965ef81ce7b778b",
            "0a9b2e389d5e4eac83fa2f8b3368f59c",
            "f6d2c7eff3594effba654e93ed1ce764",
            "a3fcef6694db4cbe8bcb8b241298d32d",
            "9065c2e284e84b22b41af0044661ad22",
            "08b6c13091f04a6aa26cd7783ce07e78",
            "d3cac6326b0c4d5f89a1e0526e375772",
            "347e849c580b4ab5910612d4e65161ab",
            "16d88b6a0290489eb92756256f0a9d38",
            "c9e776a6e1604bd4b183470bfaf75498",
            "b2b1cb526a864395b83ba22f0aff473c",
            "62b39913ef7b41d6950d92c53d246cd6",
            "f8fb6664cabe44aabb862df00ee3728a",
            "5743d4d7b198400cb53c9f8bb21466e1",
            "37625e3884044ebeb187b2d31248074d",
            "ad3fe5d38ab044739450ddb7efe7d683",
            "e613eb5401524cd292cf6d83c15b1f09",
            "4f92718c4a3345389271fd7862a73718",
            "69fa8e648cfd4f68b2aa03862210a38e",
            "17a70616d33640d9afb7b15a9a9dca3c",
            "347b6205d77046ba957a063bd96df229",
            "5aae331766044aef83e0b3f3a44c8179",
            "db9b3c86ce7c4818972701b141d03fb0",
            "8cc456376c264f059ad2c1ffb41a2013",
            "d01ef2ec10f84be4b082fd4f5416b90a",
            "1c1fdad863514dc2939bc1c8d06ab365",
            "ab21a2aa6e1f410cb927e3d0e0ffab6a",
            "880bf46c89ee46f7be160219a40ea1d0",
            "99349deee2914e4a82095fabc9d236c6",
            "f7673442b3204ad892687efd93de936d",
            "ec8ef15ca9164750ab7d6067178faff9",
            "d13cddf97d994c71aeb09e29d86a9f30",
            "dffaafe4c28a48ce94edd430b5f68172",
            "8e1686321bd34d3db825c217ccf00cfc",
            "56fe60ad634141c792ce84c9fff0ea6d",
            "09cae2a7126c4e55b1289867b0f7d7f6",
            "856baf35abcc4b42bf545556cfaf3c7b",
            "d0d219102b154bd38966c752bc514a11",
            "878a32686ebc4d8aba81d316abc8b8a0",
            "2c5e6563ba3648b9bc34f414fb4d5130",
            "18938bd389b84ffbbf7d4930477f955c",
            "e290bf5037554ef782dc5eb9af572c04",
            "06abf5d73f474294a8f199f2d38b9fb0",
            "dd47588453c84a05bc64e3519d4faecb",
            "8665be95e8fd4b67bbadfd078c1e4f18",
            "62a3fb7b2ee641049f704df38868ed0b",
            "9df4f40217d64aee8eb3ff76af01166d",
            "1166fc2c9ade40f180a2b2077c32f2fc",
            "cf8cedc95091471486b9d897ad9d2b91",
            "e778aeceab57423fb89bc4de07f7b570",
            "995438cb14e945b1a1903bf8d0f83985",
            "11eb613c0bb443ed9eb5f7f62771cc3d",
            "368a4c471bcd4caf8c0193b96d58c5ff"
          ]
        },
        "id": "DXRvdV6Npupx",
        "outputId": "9f2cda2a-ecd1-416a-8837-101e9a2d47e9"
      },
      "execution_count": null,
      "outputs": [
        {
          "output_type": "stream",
          "name": "stdout",
          "text": [
            "file appned :  0   ./dataset/KlecSpeech/csv/klecspeech_ko_500_000.csv\n",
            "file appned :  1   ./dataset/KlecSpeech/csv/klecspeech_ko_500_001.csv\n",
            "file appned :  2   ./dataset/csv/order_speech_ko1000_000.csv\n",
            "file appned :  3   ./dataset/csv/order_speech_ko1000_001.csv\n",
            "['./dataset/KlecSpeech/csv/klecspeech_ko_500_000.csv', './dataset/KlecSpeech/csv/klecspeech_ko_500_001.csv', './dataset/csv/order_speech_ko1000_000.csv', './dataset/csv/order_speech_ko1000_001.csv']\n"
          ]
        },
        {
          "output_type": "stream",
          "name": "stderr",
          "text": [
            "Using custom data configuration default-d8ba7475a9698e83\n"
          ]
        },
        {
          "output_type": "stream",
          "name": "stdout",
          "text": [
            "Downloading and preparing dataset csv/default to /root/.cache/huggingface/datasets/csv/default-d8ba7475a9698e83/0.0.0/51cce309a08df9c4d82ffd9363bbe090bf173197fc01a71b034e8594995a1a58...\n"
          ]
        },
        {
          "output_type": "display_data",
          "data": {
            "text/plain": [
              "Downloading data files:   0%|          | 0/1 [00:00<?, ?it/s]"
            ],
            "application/vnd.jupyter.widget-view+json": {
              "version_major": 2,
              "version_minor": 0,
              "model_id": "14bb680feb5b4cd18f196166d865fe78"
            }
          },
          "metadata": {}
        },
        {
          "output_type": "display_data",
          "data": {
            "text/plain": [
              "Extracting data files:   0%|          | 0/1 [00:00<?, ?it/s]"
            ],
            "application/vnd.jupyter.widget-view+json": {
              "version_major": 2,
              "version_minor": 0,
              "model_id": "c9e776a6e1604bd4b183470bfaf75498"
            }
          },
          "metadata": {}
        },
        {
          "output_type": "display_data",
          "data": {
            "text/plain": [
              "0 tables [00:00, ? tables/s]"
            ],
            "application/vnd.jupyter.widget-view+json": {
              "version_major": 2,
              "version_minor": 0,
              "model_id": "347b6205d77046ba957a063bd96df229"
            }
          },
          "metadata": {}
        },
        {
          "output_type": "stream",
          "name": "stderr",
          "text": [
            "Parameter 'function'=<function remove_special_characters at 0x7f637043c050> of the transform datasets.arrow_dataset.Dataset._map_single couldn't be hashed properly, a random hash was used instead. Make sure your transforms and parameters are serializable with pickle or dill for the dataset fingerprinting and caching to work. If you reuse this transform, the caching mechanism will consider it to be different from the previous calls and recompute everything. This warning is only showed once. Subsequent hashing failures won't be showed.\n"
          ]
        },
        {
          "output_type": "stream",
          "name": "stdout",
          "text": [
            "Dataset csv downloaded and prepared to /root/.cache/huggingface/datasets/csv/default-d8ba7475a9698e83/0.0.0/51cce309a08df9c4d82ffd9363bbe090bf173197fc01a71b034e8594995a1a58. Subsequent calls will reuse this data.\n",
            "Dataset({\n",
            "    features: ['filename', 'text', 'array'],\n",
            "    num_rows: 29\n",
            "})\n"
          ]
        },
        {
          "output_type": "display_data",
          "data": {
            "text/plain": [
              "  0%|          | 0/29 [00:00<?, ?ex/s]"
            ],
            "application/vnd.jupyter.widget-view+json": {
              "version_major": 2,
              "version_minor": 0,
              "model_id": "d13cddf97d994c71aeb09e29d86a9f30"
            }
          },
          "metadata": {}
        },
        {
          "output_type": "display_data",
          "data": {
            "text/plain": [
              "  0%|          | 0/1 [00:00<?, ?ba/s]"
            ],
            "application/vnd.jupyter.widget-view+json": {
              "version_major": 2,
              "version_minor": 0,
              "model_id": "06abf5d73f474294a8f199f2d38b9fb0"
            }
          },
          "metadata": {}
        },
        {
          "output_type": "stream",
          "name": "stdout",
          "text": [
            "{'야': 0, '게': 1, '죠': 2, '네': 3, '에': 4, '세': 6, '무': 7, '독': 8, '오': 9, '정': 10, '침': 11, '있': 12, '런': 13, '뻐': 14, '시': 15, '랄': 16, '으': 17, '각': 18, '러': 19, '힘': 20, '팔': 21, '평': 22, '작': 23, '럽': 24, '를': 25, '안': 26, '력': 27, '선': 28, '입': 29, '궁': 30, '단': 31, '하': 32, '말': 33, '주': 34, '리': 35, '새': 36, '얀': 37, '간': 38, '잘': 39, '며': 40, '장': 41, '색': 42, '흐': 43, '못': 44, '되': 45, '알': 46, '균': 47, '로': 48, '요': 49, '동': 50, '생': 51, '줘': 52, '키': 53, '습': 54, '차': 55, '늘': 56, '절': 57, '구': 58, '을': 59, '켜': 60, '검': 61, '등': 62, '분': 63, '고': 64, '저': 65, '줄': 66, '던': 67, '그': 68, '기': 69, '내': 70, '는': 71, '졌': 72, '라': 73, '아': 74, '씀': 75, '엄': 76, '니': 77, '여': 78, '혜': 79, '막': 80, '께': 81, '않': 82, '래': 83, '점': 84, '겠': 85, '읗': 86, '지': 87, '불': 88, '까': 89, '명': 90, '마': 91, '온': 92, '싶': 93, '었': 94, '복': 95, '때': 96, '한': 97, '더': 98, '진': 99, '머': 100, '렇': 101, '우': 102, '중': 103, '금': 104, '깔': 105, '인': 106, '맙': 107, '면': 108, '봐': 109, '친': 110, '들': 111, '떤': 112, '강': 113, '쁜': 114, '해': 115, '큰': 116, '도': 117, '읍': 118, '란': 119, '워': 120, '했': 121, '다': 122, '음': 123, '비': 124, '속': 125, '앗': 126, '았': 127, '님': 128, '억': 129, '번': 130, '영': 131, '남': 132, '핑': 133, '녕': 134, '브': 135, '의': 136, '탕': 137, '린': 138, '체': 139, '이': 140, '맺': 141, '록': 142, '운': 143, '좀': 144, '치': 145, '거': 146, '산': 147, '부': 148, '크': 149, '데': 150, '파': 151, '사': 152, '쑥': 153, '가': 154, '예': 155, '것': 156, '은': 157, '보': 158, '서': 159, '바': 160, '대': 161, '상': 162, '자': 163, '열': 164, '방': 165, '섯': 166, '렸': 167, '신': 168, '함': 169, '읽': 170, '수': 171, '너': 172, '와': 173, '히': 174, '당': 175, '글': 176, '볼': 177, '나': 178, '취': 179, '날': 180, '짝': 181, '매': 182, '어': 183, '뛰': 184, '씨': 185, '쏙': 186, '꺼': 187, '빨': 188, '난': 189, '근': 190, '량': 191, '노': 192, '|': 5, '[UNK]': 193, '[PAD]': 194}\n"
          ]
        }
      ]
    },
    {
      "cell_type": "code",
      "source": [
        "json_files = glob.glob('*.json_temp')\n",
        "print(json_files)\n",
        "\n",
        "vocab_all = {}\n",
        "for filename in json_files:\n",
        "    with open(filename, 'r') as vocab_file:\n",
        "        vocab_dict = json.load(vocab_file)\n",
        "        print(type(vocab_dict))\n",
        "        vocab_all.update(vocab_dict)\n",
        "\n",
        "# 번호 재배열\n",
        "vocab_all = {v: k for k, v in enumerate(vocab_all)}\n",
        "print(len(vocab_all))\n",
        "\n",
        "# print(vocab_all)\n",
        "\n",
        "with open(f'vocab.json', 'w') as vocab_file:  \n",
        "    json.dump(vocab_all, vocab_file)\n"
      ],
      "metadata": {
        "colab": {
          "base_uri": "https://localhost:8080/"
        },
        "id": "NBDcI_SdETwt",
        "outputId": "1739714e-6fab-400d-859a-ce205b84a445"
      },
      "execution_count": null,
      "outputs": [
        {
          "output_type": "stream",
          "name": "stdout",
          "text": [
            "['vocab_000.json_temp']\n",
            "<class 'dict'>\n",
            "195\n",
            "{'야': 0, '게': 1, '죠': 2, '네': 3, '에': 4, '세': 5, '무': 6, '독': 7, '오': 8, '정': 9, '침': 10, '있': 11, '런': 12, '뻐': 13, '시': 14, '랄': 15, '으': 16, '각': 17, '러': 18, '힘': 19, '팔': 20, '평': 21, '작': 22, '럽': 23, '를': 24, '안': 25, '력': 26, '선': 27, '입': 28, '궁': 29, '단': 30, '하': 31, '말': 32, '주': 33, '리': 34, '새': 35, '얀': 36, '간': 37, '잘': 38, '며': 39, '장': 40, '색': 41, '흐': 42, '못': 43, '되': 44, '알': 45, '균': 46, '로': 47, '요': 48, '동': 49, '생': 50, '줘': 51, '키': 52, '습': 53, '차': 54, '늘': 55, '절': 56, '구': 57, '을': 58, '켜': 59, '검': 60, '등': 61, '분': 62, '고': 63, '저': 64, '줄': 65, '던': 66, '그': 67, '기': 68, '내': 69, '는': 70, '졌': 71, '라': 72, '아': 73, '씀': 74, '엄': 75, '니': 76, '여': 77, '혜': 78, '막': 79, '께': 80, '않': 81, '래': 82, '점': 83, '겠': 84, '읗': 85, '지': 86, '불': 87, '까': 88, '명': 89, '마': 90, '온': 91, '싶': 92, '었': 93, '복': 94, '때': 95, '한': 96, '더': 97, '진': 98, '머': 99, '렇': 100, '우': 101, '중': 102, '금': 103, '깔': 104, '인': 105, '맙': 106, '면': 107, '봐': 108, '친': 109, '들': 110, '떤': 111, '강': 112, '쁜': 113, '해': 114, '큰': 115, '도': 116, '읍': 117, '란': 118, '워': 119, '했': 120, '다': 121, '음': 122, '비': 123, '속': 124, '앗': 125, '았': 126, '님': 127, '억': 128, '번': 129, '영': 130, '남': 131, '핑': 132, '녕': 133, '브': 134, '의': 135, '탕': 136, '린': 137, '체': 138, '이': 139, '맺': 140, '록': 141, '운': 142, '좀': 143, '치': 144, '거': 145, '산': 146, '부': 147, '크': 148, '데': 149, '파': 150, '사': 151, '쑥': 152, '가': 153, '예': 154, '것': 155, '은': 156, '보': 157, '서': 158, '바': 159, '대': 160, '상': 161, '자': 162, '열': 163, '방': 164, '섯': 165, '렸': 166, '신': 167, '함': 168, '읽': 169, '수': 170, '너': 171, '와': 172, '히': 173, '당': 174, '글': 175, '볼': 176, '나': 177, '취': 178, '날': 179, '짝': 180, '매': 181, '어': 182, '뛰': 183, '씨': 184, '쏙': 185, '꺼': 186, '빨': 187, '난': 188, '근': 189, '량': 190, '노': 191, '|': 192, '[UNK]': 193, '[PAD]': 194}\n"
          ]
        }
      ]
    },
    {
      "cell_type": "code",
      "execution_count": null,
      "metadata": {
        "id": "YJUUl9lnryU-"
      },
      "outputs": [],
      "source": [
        "from transformers import Wav2Vec2CTCTokenizer\n",
        "\n",
        "tokenizer = Wav2Vec2CTCTokenizer(\"./vocab.json\",\n",
        "                                 unk_token=\"[UNK]\",\n",
        "                                 pad_token=\"[PAD]\",\n",
        "                                 word_delimiter_token=\"|\")"
      ]
    },
    {
      "cell_type": "code",
      "source": [
        "# 여기까지 되는 것은 확인, 나머지는 테스트 중\n",
        "print(tokenizer)"
      ],
      "metadata": {
        "colab": {
          "base_uri": "https://localhost:8080/"
        },
        "id": "bfzvB1AUXnUz",
        "outputId": "a90d6bce-2586-44a3-9c64-342fddb5464e"
      },
      "execution_count": null,
      "outputs": [
        {
          "output_type": "stream",
          "name": "stdout",
          "text": [
            "PreTrainedTokenizer(name_or_path='', vocab_size=195, model_max_len=1000000000000000019884624838656, is_fast=False, padding_side='right', truncation_side='right', special_tokens={'bos_token': '<s>', 'eos_token': '</s>', 'unk_token': '[UNK]', 'pad_token': '[PAD]'})\n"
          ]
        }
      ]
    },
    {
      "cell_type": "code",
      "source": [
        ""
      ],
      "metadata": {
        "id": "F2BPYWCsdx15"
      },
      "execution_count": null,
      "outputs": []
    }
  ],
  "metadata": {
    "colab": {
      "collapsed_sections": [],
      "name": "XLSR_Wav2Vec2_colab_recursive_vocab_20220616.ipynb",
      "provenance": []
    },
    "kernelspec": {
      "display_name": "STT",
      "language": "python",
      "name": "stt"
    },
    "language_info": {
      "codemirror_mode": {
        "name": "ipython",
        "version": 3
      },
      "file_extension": ".py",
      "mimetype": "text/x-python",
      "name": "python",
      "nbconvert_exporter": "python",
      "pygments_lexer": "ipython3",
      "version": "3.7.13"
    },
    "vscode": {
      "interpreter": {
        "hash": "99a2429cd063090ad39acbbb390da3f5879d741ee9cb02f1744db7376a74b1ea"
      }
    },
    "gpuClass": "standard",
    "widgets": {
      "application/vnd.jupyter.widget-state+json": {
        "14bb680feb5b4cd18f196166d865fe78": {
          "model_module": "@jupyter-widgets/controls",
          "model_name": "HBoxModel",
          "model_module_version": "1.5.0",
          "state": {
            "_dom_classes": [],
            "_model_module": "@jupyter-widgets/controls",
            "_model_module_version": "1.5.0",
            "_model_name": "HBoxModel",
            "_view_count": null,
            "_view_module": "@jupyter-widgets/controls",
            "_view_module_version": "1.5.0",
            "_view_name": "HBoxView",
            "box_style": "",
            "children": [
              "IPY_MODEL_49178d0a063e415a8cb97629edd63ced",
              "IPY_MODEL_1ce5f478a8cd43aa8965ef81ce7b778b",
              "IPY_MODEL_0a9b2e389d5e4eac83fa2f8b3368f59c"
            ],
            "layout": "IPY_MODEL_f6d2c7eff3594effba654e93ed1ce764"
          }
        },
        "49178d0a063e415a8cb97629edd63ced": {
          "model_module": "@jupyter-widgets/controls",
          "model_name": "HTMLModel",
          "model_module_version": "1.5.0",
          "state": {
            "_dom_classes": [],
            "_model_module": "@jupyter-widgets/controls",
            "_model_module_version": "1.5.0",
            "_model_name": "HTMLModel",
            "_view_count": null,
            "_view_module": "@jupyter-widgets/controls",
            "_view_module_version": "1.5.0",
            "_view_name": "HTMLView",
            "description": "",
            "description_tooltip": null,
            "layout": "IPY_MODEL_a3fcef6694db4cbe8bcb8b241298d32d",
            "placeholder": "​",
            "style": "IPY_MODEL_9065c2e284e84b22b41af0044661ad22",
            "value": "Downloading data files: 100%"
          }
        },
        "1ce5f478a8cd43aa8965ef81ce7b778b": {
          "model_module": "@jupyter-widgets/controls",
          "model_name": "FloatProgressModel",
          "model_module_version": "1.5.0",
          "state": {
            "_dom_classes": [],
            "_model_module": "@jupyter-widgets/controls",
            "_model_module_version": "1.5.0",
            "_model_name": "FloatProgressModel",
            "_view_count": null,
            "_view_module": "@jupyter-widgets/controls",
            "_view_module_version": "1.5.0",
            "_view_name": "ProgressView",
            "bar_style": "success",
            "description": "",
            "description_tooltip": null,
            "layout": "IPY_MODEL_08b6c13091f04a6aa26cd7783ce07e78",
            "max": 1,
            "min": 0,
            "orientation": "horizontal",
            "style": "IPY_MODEL_d3cac6326b0c4d5f89a1e0526e375772",
            "value": 1
          }
        },
        "0a9b2e389d5e4eac83fa2f8b3368f59c": {
          "model_module": "@jupyter-widgets/controls",
          "model_name": "HTMLModel",
          "model_module_version": "1.5.0",
          "state": {
            "_dom_classes": [],
            "_model_module": "@jupyter-widgets/controls",
            "_model_module_version": "1.5.0",
            "_model_name": "HTMLModel",
            "_view_count": null,
            "_view_module": "@jupyter-widgets/controls",
            "_view_module_version": "1.5.0",
            "_view_name": "HTMLView",
            "description": "",
            "description_tooltip": null,
            "layout": "IPY_MODEL_347e849c580b4ab5910612d4e65161ab",
            "placeholder": "​",
            "style": "IPY_MODEL_16d88b6a0290489eb92756256f0a9d38",
            "value": " 1/1 [00:00&lt;00:00, 24.80it/s]"
          }
        },
        "f6d2c7eff3594effba654e93ed1ce764": {
          "model_module": "@jupyter-widgets/base",
          "model_name": "LayoutModel",
          "model_module_version": "1.2.0",
          "state": {
            "_model_module": "@jupyter-widgets/base",
            "_model_module_version": "1.2.0",
            "_model_name": "LayoutModel",
            "_view_count": null,
            "_view_module": "@jupyter-widgets/base",
            "_view_module_version": "1.2.0",
            "_view_name": "LayoutView",
            "align_content": null,
            "align_items": null,
            "align_self": null,
            "border": null,
            "bottom": null,
            "display": null,
            "flex": null,
            "flex_flow": null,
            "grid_area": null,
            "grid_auto_columns": null,
            "grid_auto_flow": null,
            "grid_auto_rows": null,
            "grid_column": null,
            "grid_gap": null,
            "grid_row": null,
            "grid_template_areas": null,
            "grid_template_columns": null,
            "grid_template_rows": null,
            "height": null,
            "justify_content": null,
            "justify_items": null,
            "left": null,
            "margin": null,
            "max_height": null,
            "max_width": null,
            "min_height": null,
            "min_width": null,
            "object_fit": null,
            "object_position": null,
            "order": null,
            "overflow": null,
            "overflow_x": null,
            "overflow_y": null,
            "padding": null,
            "right": null,
            "top": null,
            "visibility": null,
            "width": null
          }
        },
        "a3fcef6694db4cbe8bcb8b241298d32d": {
          "model_module": "@jupyter-widgets/base",
          "model_name": "LayoutModel",
          "model_module_version": "1.2.0",
          "state": {
            "_model_module": "@jupyter-widgets/base",
            "_model_module_version": "1.2.0",
            "_model_name": "LayoutModel",
            "_view_count": null,
            "_view_module": "@jupyter-widgets/base",
            "_view_module_version": "1.2.0",
            "_view_name": "LayoutView",
            "align_content": null,
            "align_items": null,
            "align_self": null,
            "border": null,
            "bottom": null,
            "display": null,
            "flex": null,
            "flex_flow": null,
            "grid_area": null,
            "grid_auto_columns": null,
            "grid_auto_flow": null,
            "grid_auto_rows": null,
            "grid_column": null,
            "grid_gap": null,
            "grid_row": null,
            "grid_template_areas": null,
            "grid_template_columns": null,
            "grid_template_rows": null,
            "height": null,
            "justify_content": null,
            "justify_items": null,
            "left": null,
            "margin": null,
            "max_height": null,
            "max_width": null,
            "min_height": null,
            "min_width": null,
            "object_fit": null,
            "object_position": null,
            "order": null,
            "overflow": null,
            "overflow_x": null,
            "overflow_y": null,
            "padding": null,
            "right": null,
            "top": null,
            "visibility": null,
            "width": null
          }
        },
        "9065c2e284e84b22b41af0044661ad22": {
          "model_module": "@jupyter-widgets/controls",
          "model_name": "DescriptionStyleModel",
          "model_module_version": "1.5.0",
          "state": {
            "_model_module": "@jupyter-widgets/controls",
            "_model_module_version": "1.5.0",
            "_model_name": "DescriptionStyleModel",
            "_view_count": null,
            "_view_module": "@jupyter-widgets/base",
            "_view_module_version": "1.2.0",
            "_view_name": "StyleView",
            "description_width": ""
          }
        },
        "08b6c13091f04a6aa26cd7783ce07e78": {
          "model_module": "@jupyter-widgets/base",
          "model_name": "LayoutModel",
          "model_module_version": "1.2.0",
          "state": {
            "_model_module": "@jupyter-widgets/base",
            "_model_module_version": "1.2.0",
            "_model_name": "LayoutModel",
            "_view_count": null,
            "_view_module": "@jupyter-widgets/base",
            "_view_module_version": "1.2.0",
            "_view_name": "LayoutView",
            "align_content": null,
            "align_items": null,
            "align_self": null,
            "border": null,
            "bottom": null,
            "display": null,
            "flex": null,
            "flex_flow": null,
            "grid_area": null,
            "grid_auto_columns": null,
            "grid_auto_flow": null,
            "grid_auto_rows": null,
            "grid_column": null,
            "grid_gap": null,
            "grid_row": null,
            "grid_template_areas": null,
            "grid_template_columns": null,
            "grid_template_rows": null,
            "height": null,
            "justify_content": null,
            "justify_items": null,
            "left": null,
            "margin": null,
            "max_height": null,
            "max_width": null,
            "min_height": null,
            "min_width": null,
            "object_fit": null,
            "object_position": null,
            "order": null,
            "overflow": null,
            "overflow_x": null,
            "overflow_y": null,
            "padding": null,
            "right": null,
            "top": null,
            "visibility": null,
            "width": null
          }
        },
        "d3cac6326b0c4d5f89a1e0526e375772": {
          "model_module": "@jupyter-widgets/controls",
          "model_name": "ProgressStyleModel",
          "model_module_version": "1.5.0",
          "state": {
            "_model_module": "@jupyter-widgets/controls",
            "_model_module_version": "1.5.0",
            "_model_name": "ProgressStyleModel",
            "_view_count": null,
            "_view_module": "@jupyter-widgets/base",
            "_view_module_version": "1.2.0",
            "_view_name": "StyleView",
            "bar_color": null,
            "description_width": ""
          }
        },
        "347e849c580b4ab5910612d4e65161ab": {
          "model_module": "@jupyter-widgets/base",
          "model_name": "LayoutModel",
          "model_module_version": "1.2.0",
          "state": {
            "_model_module": "@jupyter-widgets/base",
            "_model_module_version": "1.2.0",
            "_model_name": "LayoutModel",
            "_view_count": null,
            "_view_module": "@jupyter-widgets/base",
            "_view_module_version": "1.2.0",
            "_view_name": "LayoutView",
            "align_content": null,
            "align_items": null,
            "align_self": null,
            "border": null,
            "bottom": null,
            "display": null,
            "flex": null,
            "flex_flow": null,
            "grid_area": null,
            "grid_auto_columns": null,
            "grid_auto_flow": null,
            "grid_auto_rows": null,
            "grid_column": null,
            "grid_gap": null,
            "grid_row": null,
            "grid_template_areas": null,
            "grid_template_columns": null,
            "grid_template_rows": null,
            "height": null,
            "justify_content": null,
            "justify_items": null,
            "left": null,
            "margin": null,
            "max_height": null,
            "max_width": null,
            "min_height": null,
            "min_width": null,
            "object_fit": null,
            "object_position": null,
            "order": null,
            "overflow": null,
            "overflow_x": null,
            "overflow_y": null,
            "padding": null,
            "right": null,
            "top": null,
            "visibility": null,
            "width": null
          }
        },
        "16d88b6a0290489eb92756256f0a9d38": {
          "model_module": "@jupyter-widgets/controls",
          "model_name": "DescriptionStyleModel",
          "model_module_version": "1.5.0",
          "state": {
            "_model_module": "@jupyter-widgets/controls",
            "_model_module_version": "1.5.0",
            "_model_name": "DescriptionStyleModel",
            "_view_count": null,
            "_view_module": "@jupyter-widgets/base",
            "_view_module_version": "1.2.0",
            "_view_name": "StyleView",
            "description_width": ""
          }
        },
        "c9e776a6e1604bd4b183470bfaf75498": {
          "model_module": "@jupyter-widgets/controls",
          "model_name": "HBoxModel",
          "model_module_version": "1.5.0",
          "state": {
            "_dom_classes": [],
            "_model_module": "@jupyter-widgets/controls",
            "_model_module_version": "1.5.0",
            "_model_name": "HBoxModel",
            "_view_count": null,
            "_view_module": "@jupyter-widgets/controls",
            "_view_module_version": "1.5.0",
            "_view_name": "HBoxView",
            "box_style": "",
            "children": [
              "IPY_MODEL_b2b1cb526a864395b83ba22f0aff473c",
              "IPY_MODEL_62b39913ef7b41d6950d92c53d246cd6",
              "IPY_MODEL_f8fb6664cabe44aabb862df00ee3728a"
            ],
            "layout": "IPY_MODEL_5743d4d7b198400cb53c9f8bb21466e1"
          }
        },
        "b2b1cb526a864395b83ba22f0aff473c": {
          "model_module": "@jupyter-widgets/controls",
          "model_name": "HTMLModel",
          "model_module_version": "1.5.0",
          "state": {
            "_dom_classes": [],
            "_model_module": "@jupyter-widgets/controls",
            "_model_module_version": "1.5.0",
            "_model_name": "HTMLModel",
            "_view_count": null,
            "_view_module": "@jupyter-widgets/controls",
            "_view_module_version": "1.5.0",
            "_view_name": "HTMLView",
            "description": "",
            "description_tooltip": null,
            "layout": "IPY_MODEL_37625e3884044ebeb187b2d31248074d",
            "placeholder": "​",
            "style": "IPY_MODEL_ad3fe5d38ab044739450ddb7efe7d683",
            "value": "Extracting data files: 100%"
          }
        },
        "62b39913ef7b41d6950d92c53d246cd6": {
          "model_module": "@jupyter-widgets/controls",
          "model_name": "FloatProgressModel",
          "model_module_version": "1.5.0",
          "state": {
            "_dom_classes": [],
            "_model_module": "@jupyter-widgets/controls",
            "_model_module_version": "1.5.0",
            "_model_name": "FloatProgressModel",
            "_view_count": null,
            "_view_module": "@jupyter-widgets/controls",
            "_view_module_version": "1.5.0",
            "_view_name": "ProgressView",
            "bar_style": "success",
            "description": "",
            "description_tooltip": null,
            "layout": "IPY_MODEL_e613eb5401524cd292cf6d83c15b1f09",
            "max": 1,
            "min": 0,
            "orientation": "horizontal",
            "style": "IPY_MODEL_4f92718c4a3345389271fd7862a73718",
            "value": 1
          }
        },
        "f8fb6664cabe44aabb862df00ee3728a": {
          "model_module": "@jupyter-widgets/controls",
          "model_name": "HTMLModel",
          "model_module_version": "1.5.0",
          "state": {
            "_dom_classes": [],
            "_model_module": "@jupyter-widgets/controls",
            "_model_module_version": "1.5.0",
            "_model_name": "HTMLModel",
            "_view_count": null,
            "_view_module": "@jupyter-widgets/controls",
            "_view_module_version": "1.5.0",
            "_view_name": "HTMLView",
            "description": "",
            "description_tooltip": null,
            "layout": "IPY_MODEL_69fa8e648cfd4f68b2aa03862210a38e",
            "placeholder": "​",
            "style": "IPY_MODEL_17a70616d33640d9afb7b15a9a9dca3c",
            "value": " 1/1 [00:00&lt;00:00,  9.62it/s]"
          }
        },
        "5743d4d7b198400cb53c9f8bb21466e1": {
          "model_module": "@jupyter-widgets/base",
          "model_name": "LayoutModel",
          "model_module_version": "1.2.0",
          "state": {
            "_model_module": "@jupyter-widgets/base",
            "_model_module_version": "1.2.0",
            "_model_name": "LayoutModel",
            "_view_count": null,
            "_view_module": "@jupyter-widgets/base",
            "_view_module_version": "1.2.0",
            "_view_name": "LayoutView",
            "align_content": null,
            "align_items": null,
            "align_self": null,
            "border": null,
            "bottom": null,
            "display": null,
            "flex": null,
            "flex_flow": null,
            "grid_area": null,
            "grid_auto_columns": null,
            "grid_auto_flow": null,
            "grid_auto_rows": null,
            "grid_column": null,
            "grid_gap": null,
            "grid_row": null,
            "grid_template_areas": null,
            "grid_template_columns": null,
            "grid_template_rows": null,
            "height": null,
            "justify_content": null,
            "justify_items": null,
            "left": null,
            "margin": null,
            "max_height": null,
            "max_width": null,
            "min_height": null,
            "min_width": null,
            "object_fit": null,
            "object_position": null,
            "order": null,
            "overflow": null,
            "overflow_x": null,
            "overflow_y": null,
            "padding": null,
            "right": null,
            "top": null,
            "visibility": null,
            "width": null
          }
        },
        "37625e3884044ebeb187b2d31248074d": {
          "model_module": "@jupyter-widgets/base",
          "model_name": "LayoutModel",
          "model_module_version": "1.2.0",
          "state": {
            "_model_module": "@jupyter-widgets/base",
            "_model_module_version": "1.2.0",
            "_model_name": "LayoutModel",
            "_view_count": null,
            "_view_module": "@jupyter-widgets/base",
            "_view_module_version": "1.2.0",
            "_view_name": "LayoutView",
            "align_content": null,
            "align_items": null,
            "align_self": null,
            "border": null,
            "bottom": null,
            "display": null,
            "flex": null,
            "flex_flow": null,
            "grid_area": null,
            "grid_auto_columns": null,
            "grid_auto_flow": null,
            "grid_auto_rows": null,
            "grid_column": null,
            "grid_gap": null,
            "grid_row": null,
            "grid_template_areas": null,
            "grid_template_columns": null,
            "grid_template_rows": null,
            "height": null,
            "justify_content": null,
            "justify_items": null,
            "left": null,
            "margin": null,
            "max_height": null,
            "max_width": null,
            "min_height": null,
            "min_width": null,
            "object_fit": null,
            "object_position": null,
            "order": null,
            "overflow": null,
            "overflow_x": null,
            "overflow_y": null,
            "padding": null,
            "right": null,
            "top": null,
            "visibility": null,
            "width": null
          }
        },
        "ad3fe5d38ab044739450ddb7efe7d683": {
          "model_module": "@jupyter-widgets/controls",
          "model_name": "DescriptionStyleModel",
          "model_module_version": "1.5.0",
          "state": {
            "_model_module": "@jupyter-widgets/controls",
            "_model_module_version": "1.5.0",
            "_model_name": "DescriptionStyleModel",
            "_view_count": null,
            "_view_module": "@jupyter-widgets/base",
            "_view_module_version": "1.2.0",
            "_view_name": "StyleView",
            "description_width": ""
          }
        },
        "e613eb5401524cd292cf6d83c15b1f09": {
          "model_module": "@jupyter-widgets/base",
          "model_name": "LayoutModel",
          "model_module_version": "1.2.0",
          "state": {
            "_model_module": "@jupyter-widgets/base",
            "_model_module_version": "1.2.0",
            "_model_name": "LayoutModel",
            "_view_count": null,
            "_view_module": "@jupyter-widgets/base",
            "_view_module_version": "1.2.0",
            "_view_name": "LayoutView",
            "align_content": null,
            "align_items": null,
            "align_self": null,
            "border": null,
            "bottom": null,
            "display": null,
            "flex": null,
            "flex_flow": null,
            "grid_area": null,
            "grid_auto_columns": null,
            "grid_auto_flow": null,
            "grid_auto_rows": null,
            "grid_column": null,
            "grid_gap": null,
            "grid_row": null,
            "grid_template_areas": null,
            "grid_template_columns": null,
            "grid_template_rows": null,
            "height": null,
            "justify_content": null,
            "justify_items": null,
            "left": null,
            "margin": null,
            "max_height": null,
            "max_width": null,
            "min_height": null,
            "min_width": null,
            "object_fit": null,
            "object_position": null,
            "order": null,
            "overflow": null,
            "overflow_x": null,
            "overflow_y": null,
            "padding": null,
            "right": null,
            "top": null,
            "visibility": null,
            "width": null
          }
        },
        "4f92718c4a3345389271fd7862a73718": {
          "model_module": "@jupyter-widgets/controls",
          "model_name": "ProgressStyleModel",
          "model_module_version": "1.5.0",
          "state": {
            "_model_module": "@jupyter-widgets/controls",
            "_model_module_version": "1.5.0",
            "_model_name": "ProgressStyleModel",
            "_view_count": null,
            "_view_module": "@jupyter-widgets/base",
            "_view_module_version": "1.2.0",
            "_view_name": "StyleView",
            "bar_color": null,
            "description_width": ""
          }
        },
        "69fa8e648cfd4f68b2aa03862210a38e": {
          "model_module": "@jupyter-widgets/base",
          "model_name": "LayoutModel",
          "model_module_version": "1.2.0",
          "state": {
            "_model_module": "@jupyter-widgets/base",
            "_model_module_version": "1.2.0",
            "_model_name": "LayoutModel",
            "_view_count": null,
            "_view_module": "@jupyter-widgets/base",
            "_view_module_version": "1.2.0",
            "_view_name": "LayoutView",
            "align_content": null,
            "align_items": null,
            "align_self": null,
            "border": null,
            "bottom": null,
            "display": null,
            "flex": null,
            "flex_flow": null,
            "grid_area": null,
            "grid_auto_columns": null,
            "grid_auto_flow": null,
            "grid_auto_rows": null,
            "grid_column": null,
            "grid_gap": null,
            "grid_row": null,
            "grid_template_areas": null,
            "grid_template_columns": null,
            "grid_template_rows": null,
            "height": null,
            "justify_content": null,
            "justify_items": null,
            "left": null,
            "margin": null,
            "max_height": null,
            "max_width": null,
            "min_height": null,
            "min_width": null,
            "object_fit": null,
            "object_position": null,
            "order": null,
            "overflow": null,
            "overflow_x": null,
            "overflow_y": null,
            "padding": null,
            "right": null,
            "top": null,
            "visibility": null,
            "width": null
          }
        },
        "17a70616d33640d9afb7b15a9a9dca3c": {
          "model_module": "@jupyter-widgets/controls",
          "model_name": "DescriptionStyleModel",
          "model_module_version": "1.5.0",
          "state": {
            "_model_module": "@jupyter-widgets/controls",
            "_model_module_version": "1.5.0",
            "_model_name": "DescriptionStyleModel",
            "_view_count": null,
            "_view_module": "@jupyter-widgets/base",
            "_view_module_version": "1.2.0",
            "_view_name": "StyleView",
            "description_width": ""
          }
        },
        "347b6205d77046ba957a063bd96df229": {
          "model_module": "@jupyter-widgets/controls",
          "model_name": "HBoxModel",
          "model_module_version": "1.5.0",
          "state": {
            "_dom_classes": [],
            "_model_module": "@jupyter-widgets/controls",
            "_model_module_version": "1.5.0",
            "_model_name": "HBoxModel",
            "_view_count": null,
            "_view_module": "@jupyter-widgets/controls",
            "_view_module_version": "1.5.0",
            "_view_name": "HBoxView",
            "box_style": "",
            "children": [
              "IPY_MODEL_5aae331766044aef83e0b3f3a44c8179",
              "IPY_MODEL_db9b3c86ce7c4818972701b141d03fb0",
              "IPY_MODEL_8cc456376c264f059ad2c1ffb41a2013"
            ],
            "layout": "IPY_MODEL_d01ef2ec10f84be4b082fd4f5416b90a"
          }
        },
        "5aae331766044aef83e0b3f3a44c8179": {
          "model_module": "@jupyter-widgets/controls",
          "model_name": "HTMLModel",
          "model_module_version": "1.5.0",
          "state": {
            "_dom_classes": [],
            "_model_module": "@jupyter-widgets/controls",
            "_model_module_version": "1.5.0",
            "_model_name": "HTMLModel",
            "_view_count": null,
            "_view_module": "@jupyter-widgets/controls",
            "_view_module_version": "1.5.0",
            "_view_name": "HTMLView",
            "description": "",
            "description_tooltip": null,
            "layout": "IPY_MODEL_1c1fdad863514dc2939bc1c8d06ab365",
            "placeholder": "​",
            "style": "IPY_MODEL_ab21a2aa6e1f410cb927e3d0e0ffab6a",
            "value": ""
          }
        },
        "db9b3c86ce7c4818972701b141d03fb0": {
          "model_module": "@jupyter-widgets/controls",
          "model_name": "FloatProgressModel",
          "model_module_version": "1.5.0",
          "state": {
            "_dom_classes": [],
            "_model_module": "@jupyter-widgets/controls",
            "_model_module_version": "1.5.0",
            "_model_name": "FloatProgressModel",
            "_view_count": null,
            "_view_module": "@jupyter-widgets/controls",
            "_view_module_version": "1.5.0",
            "_view_name": "ProgressView",
            "bar_style": "info",
            "description": "",
            "description_tooltip": null,
            "layout": "IPY_MODEL_880bf46c89ee46f7be160219a40ea1d0",
            "max": 1,
            "min": 0,
            "orientation": "horizontal",
            "style": "IPY_MODEL_99349deee2914e4a82095fabc9d236c6",
            "value": 1
          }
        },
        "8cc456376c264f059ad2c1ffb41a2013": {
          "model_module": "@jupyter-widgets/controls",
          "model_name": "HTMLModel",
          "model_module_version": "1.5.0",
          "state": {
            "_dom_classes": [],
            "_model_module": "@jupyter-widgets/controls",
            "_model_module_version": "1.5.0",
            "_model_name": "HTMLModel",
            "_view_count": null,
            "_view_module": "@jupyter-widgets/controls",
            "_view_module_version": "1.5.0",
            "_view_name": "HTMLView",
            "description": "",
            "description_tooltip": null,
            "layout": "IPY_MODEL_f7673442b3204ad892687efd93de936d",
            "placeholder": "​",
            "style": "IPY_MODEL_ec8ef15ca9164750ab7d6067178faff9",
            "value": " 4/? [00:01&lt;00:00,  4.72 tables/s]"
          }
        },
        "d01ef2ec10f84be4b082fd4f5416b90a": {
          "model_module": "@jupyter-widgets/base",
          "model_name": "LayoutModel",
          "model_module_version": "1.2.0",
          "state": {
            "_model_module": "@jupyter-widgets/base",
            "_model_module_version": "1.2.0",
            "_model_name": "LayoutModel",
            "_view_count": null,
            "_view_module": "@jupyter-widgets/base",
            "_view_module_version": "1.2.0",
            "_view_name": "LayoutView",
            "align_content": null,
            "align_items": null,
            "align_self": null,
            "border": null,
            "bottom": null,
            "display": null,
            "flex": null,
            "flex_flow": null,
            "grid_area": null,
            "grid_auto_columns": null,
            "grid_auto_flow": null,
            "grid_auto_rows": null,
            "grid_column": null,
            "grid_gap": null,
            "grid_row": null,
            "grid_template_areas": null,
            "grid_template_columns": null,
            "grid_template_rows": null,
            "height": null,
            "justify_content": null,
            "justify_items": null,
            "left": null,
            "margin": null,
            "max_height": null,
            "max_width": null,
            "min_height": null,
            "min_width": null,
            "object_fit": null,
            "object_position": null,
            "order": null,
            "overflow": null,
            "overflow_x": null,
            "overflow_y": null,
            "padding": null,
            "right": null,
            "top": null,
            "visibility": null,
            "width": null
          }
        },
        "1c1fdad863514dc2939bc1c8d06ab365": {
          "model_module": "@jupyter-widgets/base",
          "model_name": "LayoutModel",
          "model_module_version": "1.2.0",
          "state": {
            "_model_module": "@jupyter-widgets/base",
            "_model_module_version": "1.2.0",
            "_model_name": "LayoutModel",
            "_view_count": null,
            "_view_module": "@jupyter-widgets/base",
            "_view_module_version": "1.2.0",
            "_view_name": "LayoutView",
            "align_content": null,
            "align_items": null,
            "align_self": null,
            "border": null,
            "bottom": null,
            "display": null,
            "flex": null,
            "flex_flow": null,
            "grid_area": null,
            "grid_auto_columns": null,
            "grid_auto_flow": null,
            "grid_auto_rows": null,
            "grid_column": null,
            "grid_gap": null,
            "grid_row": null,
            "grid_template_areas": null,
            "grid_template_columns": null,
            "grid_template_rows": null,
            "height": null,
            "justify_content": null,
            "justify_items": null,
            "left": null,
            "margin": null,
            "max_height": null,
            "max_width": null,
            "min_height": null,
            "min_width": null,
            "object_fit": null,
            "object_position": null,
            "order": null,
            "overflow": null,
            "overflow_x": null,
            "overflow_y": null,
            "padding": null,
            "right": null,
            "top": null,
            "visibility": null,
            "width": null
          }
        },
        "ab21a2aa6e1f410cb927e3d0e0ffab6a": {
          "model_module": "@jupyter-widgets/controls",
          "model_name": "DescriptionStyleModel",
          "model_module_version": "1.5.0",
          "state": {
            "_model_module": "@jupyter-widgets/controls",
            "_model_module_version": "1.5.0",
            "_model_name": "DescriptionStyleModel",
            "_view_count": null,
            "_view_module": "@jupyter-widgets/base",
            "_view_module_version": "1.2.0",
            "_view_name": "StyleView",
            "description_width": ""
          }
        },
        "880bf46c89ee46f7be160219a40ea1d0": {
          "model_module": "@jupyter-widgets/base",
          "model_name": "LayoutModel",
          "model_module_version": "1.2.0",
          "state": {
            "_model_module": "@jupyter-widgets/base",
            "_model_module_version": "1.2.0",
            "_model_name": "LayoutModel",
            "_view_count": null,
            "_view_module": "@jupyter-widgets/base",
            "_view_module_version": "1.2.0",
            "_view_name": "LayoutView",
            "align_content": null,
            "align_items": null,
            "align_self": null,
            "border": null,
            "bottom": null,
            "display": null,
            "flex": null,
            "flex_flow": null,
            "grid_area": null,
            "grid_auto_columns": null,
            "grid_auto_flow": null,
            "grid_auto_rows": null,
            "grid_column": null,
            "grid_gap": null,
            "grid_row": null,
            "grid_template_areas": null,
            "grid_template_columns": null,
            "grid_template_rows": null,
            "height": null,
            "justify_content": null,
            "justify_items": null,
            "left": null,
            "margin": null,
            "max_height": null,
            "max_width": null,
            "min_height": null,
            "min_width": null,
            "object_fit": null,
            "object_position": null,
            "order": null,
            "overflow": null,
            "overflow_x": null,
            "overflow_y": null,
            "padding": null,
            "right": null,
            "top": null,
            "visibility": null,
            "width": "20px"
          }
        },
        "99349deee2914e4a82095fabc9d236c6": {
          "model_module": "@jupyter-widgets/controls",
          "model_name": "ProgressStyleModel",
          "model_module_version": "1.5.0",
          "state": {
            "_model_module": "@jupyter-widgets/controls",
            "_model_module_version": "1.5.0",
            "_model_name": "ProgressStyleModel",
            "_view_count": null,
            "_view_module": "@jupyter-widgets/base",
            "_view_module_version": "1.2.0",
            "_view_name": "StyleView",
            "bar_color": null,
            "description_width": ""
          }
        },
        "f7673442b3204ad892687efd93de936d": {
          "model_module": "@jupyter-widgets/base",
          "model_name": "LayoutModel",
          "model_module_version": "1.2.0",
          "state": {
            "_model_module": "@jupyter-widgets/base",
            "_model_module_version": "1.2.0",
            "_model_name": "LayoutModel",
            "_view_count": null,
            "_view_module": "@jupyter-widgets/base",
            "_view_module_version": "1.2.0",
            "_view_name": "LayoutView",
            "align_content": null,
            "align_items": null,
            "align_self": null,
            "border": null,
            "bottom": null,
            "display": null,
            "flex": null,
            "flex_flow": null,
            "grid_area": null,
            "grid_auto_columns": null,
            "grid_auto_flow": null,
            "grid_auto_rows": null,
            "grid_column": null,
            "grid_gap": null,
            "grid_row": null,
            "grid_template_areas": null,
            "grid_template_columns": null,
            "grid_template_rows": null,
            "height": null,
            "justify_content": null,
            "justify_items": null,
            "left": null,
            "margin": null,
            "max_height": null,
            "max_width": null,
            "min_height": null,
            "min_width": null,
            "object_fit": null,
            "object_position": null,
            "order": null,
            "overflow": null,
            "overflow_x": null,
            "overflow_y": null,
            "padding": null,
            "right": null,
            "top": null,
            "visibility": null,
            "width": null
          }
        },
        "ec8ef15ca9164750ab7d6067178faff9": {
          "model_module": "@jupyter-widgets/controls",
          "model_name": "DescriptionStyleModel",
          "model_module_version": "1.5.0",
          "state": {
            "_model_module": "@jupyter-widgets/controls",
            "_model_module_version": "1.5.0",
            "_model_name": "DescriptionStyleModel",
            "_view_count": null,
            "_view_module": "@jupyter-widgets/base",
            "_view_module_version": "1.2.0",
            "_view_name": "StyleView",
            "description_width": ""
          }
        },
        "d13cddf97d994c71aeb09e29d86a9f30": {
          "model_module": "@jupyter-widgets/controls",
          "model_name": "HBoxModel",
          "model_module_version": "1.5.0",
          "state": {
            "_dom_classes": [],
            "_model_module": "@jupyter-widgets/controls",
            "_model_module_version": "1.5.0",
            "_model_name": "HBoxModel",
            "_view_count": null,
            "_view_module": "@jupyter-widgets/controls",
            "_view_module_version": "1.5.0",
            "_view_name": "HBoxView",
            "box_style": "",
            "children": [
              "IPY_MODEL_dffaafe4c28a48ce94edd430b5f68172",
              "IPY_MODEL_8e1686321bd34d3db825c217ccf00cfc",
              "IPY_MODEL_56fe60ad634141c792ce84c9fff0ea6d"
            ],
            "layout": "IPY_MODEL_09cae2a7126c4e55b1289867b0f7d7f6"
          }
        },
        "dffaafe4c28a48ce94edd430b5f68172": {
          "model_module": "@jupyter-widgets/controls",
          "model_name": "HTMLModel",
          "model_module_version": "1.5.0",
          "state": {
            "_dom_classes": [],
            "_model_module": "@jupyter-widgets/controls",
            "_model_module_version": "1.5.0",
            "_model_name": "HTMLModel",
            "_view_count": null,
            "_view_module": "@jupyter-widgets/controls",
            "_view_module_version": "1.5.0",
            "_view_name": "HTMLView",
            "description": "",
            "description_tooltip": null,
            "layout": "IPY_MODEL_856baf35abcc4b42bf545556cfaf3c7b",
            "placeholder": "​",
            "style": "IPY_MODEL_d0d219102b154bd38966c752bc514a11",
            "value": "100%"
          }
        },
        "8e1686321bd34d3db825c217ccf00cfc": {
          "model_module": "@jupyter-widgets/controls",
          "model_name": "FloatProgressModel",
          "model_module_version": "1.5.0",
          "state": {
            "_dom_classes": [],
            "_model_module": "@jupyter-widgets/controls",
            "_model_module_version": "1.5.0",
            "_model_name": "FloatProgressModel",
            "_view_count": null,
            "_view_module": "@jupyter-widgets/controls",
            "_view_module_version": "1.5.0",
            "_view_name": "ProgressView",
            "bar_style": "success",
            "description": "",
            "description_tooltip": null,
            "layout": "IPY_MODEL_878a32686ebc4d8aba81d316abc8b8a0",
            "max": 29,
            "min": 0,
            "orientation": "horizontal",
            "style": "IPY_MODEL_2c5e6563ba3648b9bc34f414fb4d5130",
            "value": 29
          }
        },
        "56fe60ad634141c792ce84c9fff0ea6d": {
          "model_module": "@jupyter-widgets/controls",
          "model_name": "HTMLModel",
          "model_module_version": "1.5.0",
          "state": {
            "_dom_classes": [],
            "_model_module": "@jupyter-widgets/controls",
            "_model_module_version": "1.5.0",
            "_model_name": "HTMLModel",
            "_view_count": null,
            "_view_module": "@jupyter-widgets/controls",
            "_view_module_version": "1.5.0",
            "_view_name": "HTMLView",
            "description": "",
            "description_tooltip": null,
            "layout": "IPY_MODEL_18938bd389b84ffbbf7d4930477f955c",
            "placeholder": "​",
            "style": "IPY_MODEL_e290bf5037554ef782dc5eb9af572c04",
            "value": " 29/29 [00:00&lt;00:00, 387.67ex/s]"
          }
        },
        "09cae2a7126c4e55b1289867b0f7d7f6": {
          "model_module": "@jupyter-widgets/base",
          "model_name": "LayoutModel",
          "model_module_version": "1.2.0",
          "state": {
            "_model_module": "@jupyter-widgets/base",
            "_model_module_version": "1.2.0",
            "_model_name": "LayoutModel",
            "_view_count": null,
            "_view_module": "@jupyter-widgets/base",
            "_view_module_version": "1.2.0",
            "_view_name": "LayoutView",
            "align_content": null,
            "align_items": null,
            "align_self": null,
            "border": null,
            "bottom": null,
            "display": null,
            "flex": null,
            "flex_flow": null,
            "grid_area": null,
            "grid_auto_columns": null,
            "grid_auto_flow": null,
            "grid_auto_rows": null,
            "grid_column": null,
            "grid_gap": null,
            "grid_row": null,
            "grid_template_areas": null,
            "grid_template_columns": null,
            "grid_template_rows": null,
            "height": null,
            "justify_content": null,
            "justify_items": null,
            "left": null,
            "margin": null,
            "max_height": null,
            "max_width": null,
            "min_height": null,
            "min_width": null,
            "object_fit": null,
            "object_position": null,
            "order": null,
            "overflow": null,
            "overflow_x": null,
            "overflow_y": null,
            "padding": null,
            "right": null,
            "top": null,
            "visibility": null,
            "width": null
          }
        },
        "856baf35abcc4b42bf545556cfaf3c7b": {
          "model_module": "@jupyter-widgets/base",
          "model_name": "LayoutModel",
          "model_module_version": "1.2.0",
          "state": {
            "_model_module": "@jupyter-widgets/base",
            "_model_module_version": "1.2.0",
            "_model_name": "LayoutModel",
            "_view_count": null,
            "_view_module": "@jupyter-widgets/base",
            "_view_module_version": "1.2.0",
            "_view_name": "LayoutView",
            "align_content": null,
            "align_items": null,
            "align_self": null,
            "border": null,
            "bottom": null,
            "display": null,
            "flex": null,
            "flex_flow": null,
            "grid_area": null,
            "grid_auto_columns": null,
            "grid_auto_flow": null,
            "grid_auto_rows": null,
            "grid_column": null,
            "grid_gap": null,
            "grid_row": null,
            "grid_template_areas": null,
            "grid_template_columns": null,
            "grid_template_rows": null,
            "height": null,
            "justify_content": null,
            "justify_items": null,
            "left": null,
            "margin": null,
            "max_height": null,
            "max_width": null,
            "min_height": null,
            "min_width": null,
            "object_fit": null,
            "object_position": null,
            "order": null,
            "overflow": null,
            "overflow_x": null,
            "overflow_y": null,
            "padding": null,
            "right": null,
            "top": null,
            "visibility": null,
            "width": null
          }
        },
        "d0d219102b154bd38966c752bc514a11": {
          "model_module": "@jupyter-widgets/controls",
          "model_name": "DescriptionStyleModel",
          "model_module_version": "1.5.0",
          "state": {
            "_model_module": "@jupyter-widgets/controls",
            "_model_module_version": "1.5.0",
            "_model_name": "DescriptionStyleModel",
            "_view_count": null,
            "_view_module": "@jupyter-widgets/base",
            "_view_module_version": "1.2.0",
            "_view_name": "StyleView",
            "description_width": ""
          }
        },
        "878a32686ebc4d8aba81d316abc8b8a0": {
          "model_module": "@jupyter-widgets/base",
          "model_name": "LayoutModel",
          "model_module_version": "1.2.0",
          "state": {
            "_model_module": "@jupyter-widgets/base",
            "_model_module_version": "1.2.0",
            "_model_name": "LayoutModel",
            "_view_count": null,
            "_view_module": "@jupyter-widgets/base",
            "_view_module_version": "1.2.0",
            "_view_name": "LayoutView",
            "align_content": null,
            "align_items": null,
            "align_self": null,
            "border": null,
            "bottom": null,
            "display": null,
            "flex": null,
            "flex_flow": null,
            "grid_area": null,
            "grid_auto_columns": null,
            "grid_auto_flow": null,
            "grid_auto_rows": null,
            "grid_column": null,
            "grid_gap": null,
            "grid_row": null,
            "grid_template_areas": null,
            "grid_template_columns": null,
            "grid_template_rows": null,
            "height": null,
            "justify_content": null,
            "justify_items": null,
            "left": null,
            "margin": null,
            "max_height": null,
            "max_width": null,
            "min_height": null,
            "min_width": null,
            "object_fit": null,
            "object_position": null,
            "order": null,
            "overflow": null,
            "overflow_x": null,
            "overflow_y": null,
            "padding": null,
            "right": null,
            "top": null,
            "visibility": null,
            "width": null
          }
        },
        "2c5e6563ba3648b9bc34f414fb4d5130": {
          "model_module": "@jupyter-widgets/controls",
          "model_name": "ProgressStyleModel",
          "model_module_version": "1.5.0",
          "state": {
            "_model_module": "@jupyter-widgets/controls",
            "_model_module_version": "1.5.0",
            "_model_name": "ProgressStyleModel",
            "_view_count": null,
            "_view_module": "@jupyter-widgets/base",
            "_view_module_version": "1.2.0",
            "_view_name": "StyleView",
            "bar_color": null,
            "description_width": ""
          }
        },
        "18938bd389b84ffbbf7d4930477f955c": {
          "model_module": "@jupyter-widgets/base",
          "model_name": "LayoutModel",
          "model_module_version": "1.2.0",
          "state": {
            "_model_module": "@jupyter-widgets/base",
            "_model_module_version": "1.2.0",
            "_model_name": "LayoutModel",
            "_view_count": null,
            "_view_module": "@jupyter-widgets/base",
            "_view_module_version": "1.2.0",
            "_view_name": "LayoutView",
            "align_content": null,
            "align_items": null,
            "align_self": null,
            "border": null,
            "bottom": null,
            "display": null,
            "flex": null,
            "flex_flow": null,
            "grid_area": null,
            "grid_auto_columns": null,
            "grid_auto_flow": null,
            "grid_auto_rows": null,
            "grid_column": null,
            "grid_gap": null,
            "grid_row": null,
            "grid_template_areas": null,
            "grid_template_columns": null,
            "grid_template_rows": null,
            "height": null,
            "justify_content": null,
            "justify_items": null,
            "left": null,
            "margin": null,
            "max_height": null,
            "max_width": null,
            "min_height": null,
            "min_width": null,
            "object_fit": null,
            "object_position": null,
            "order": null,
            "overflow": null,
            "overflow_x": null,
            "overflow_y": null,
            "padding": null,
            "right": null,
            "top": null,
            "visibility": null,
            "width": null
          }
        },
        "e290bf5037554ef782dc5eb9af572c04": {
          "model_module": "@jupyter-widgets/controls",
          "model_name": "DescriptionStyleModel",
          "model_module_version": "1.5.0",
          "state": {
            "_model_module": "@jupyter-widgets/controls",
            "_model_module_version": "1.5.0",
            "_model_name": "DescriptionStyleModel",
            "_view_count": null,
            "_view_module": "@jupyter-widgets/base",
            "_view_module_version": "1.2.0",
            "_view_name": "StyleView",
            "description_width": ""
          }
        },
        "06abf5d73f474294a8f199f2d38b9fb0": {
          "model_module": "@jupyter-widgets/controls",
          "model_name": "HBoxModel",
          "model_module_version": "1.5.0",
          "state": {
            "_dom_classes": [],
            "_model_module": "@jupyter-widgets/controls",
            "_model_module_version": "1.5.0",
            "_model_name": "HBoxModel",
            "_view_count": null,
            "_view_module": "@jupyter-widgets/controls",
            "_view_module_version": "1.5.0",
            "_view_name": "HBoxView",
            "box_style": "",
            "children": [
              "IPY_MODEL_dd47588453c84a05bc64e3519d4faecb",
              "IPY_MODEL_8665be95e8fd4b67bbadfd078c1e4f18",
              "IPY_MODEL_62a3fb7b2ee641049f704df38868ed0b"
            ],
            "layout": "IPY_MODEL_9df4f40217d64aee8eb3ff76af01166d"
          }
        },
        "dd47588453c84a05bc64e3519d4faecb": {
          "model_module": "@jupyter-widgets/controls",
          "model_name": "HTMLModel",
          "model_module_version": "1.5.0",
          "state": {
            "_dom_classes": [],
            "_model_module": "@jupyter-widgets/controls",
            "_model_module_version": "1.5.0",
            "_model_name": "HTMLModel",
            "_view_count": null,
            "_view_module": "@jupyter-widgets/controls",
            "_view_module_version": "1.5.0",
            "_view_name": "HTMLView",
            "description": "",
            "description_tooltip": null,
            "layout": "IPY_MODEL_1166fc2c9ade40f180a2b2077c32f2fc",
            "placeholder": "​",
            "style": "IPY_MODEL_cf8cedc95091471486b9d897ad9d2b91",
            "value": "100%"
          }
        },
        "8665be95e8fd4b67bbadfd078c1e4f18": {
          "model_module": "@jupyter-widgets/controls",
          "model_name": "FloatProgressModel",
          "model_module_version": "1.5.0",
          "state": {
            "_dom_classes": [],
            "_model_module": "@jupyter-widgets/controls",
            "_model_module_version": "1.5.0",
            "_model_name": "FloatProgressModel",
            "_view_count": null,
            "_view_module": "@jupyter-widgets/controls",
            "_view_module_version": "1.5.0",
            "_view_name": "ProgressView",
            "bar_style": "success",
            "description": "",
            "description_tooltip": null,
            "layout": "IPY_MODEL_e778aeceab57423fb89bc4de07f7b570",
            "max": 1,
            "min": 0,
            "orientation": "horizontal",
            "style": "IPY_MODEL_995438cb14e945b1a1903bf8d0f83985",
            "value": 1
          }
        },
        "62a3fb7b2ee641049f704df38868ed0b": {
          "model_module": "@jupyter-widgets/controls",
          "model_name": "HTMLModel",
          "model_module_version": "1.5.0",
          "state": {
            "_dom_classes": [],
            "_model_module": "@jupyter-widgets/controls",
            "_model_module_version": "1.5.0",
            "_model_name": "HTMLModel",
            "_view_count": null,
            "_view_module": "@jupyter-widgets/controls",
            "_view_module_version": "1.5.0",
            "_view_name": "HTMLView",
            "description": "",
            "description_tooltip": null,
            "layout": "IPY_MODEL_11eb613c0bb443ed9eb5f7f62771cc3d",
            "placeholder": "​",
            "style": "IPY_MODEL_368a4c471bcd4caf8c0193b96d58c5ff",
            "value": " 1/1 [00:00&lt;00:00, 13.95ba/s]"
          }
        },
        "9df4f40217d64aee8eb3ff76af01166d": {
          "model_module": "@jupyter-widgets/base",
          "model_name": "LayoutModel",
          "model_module_version": "1.2.0",
          "state": {
            "_model_module": "@jupyter-widgets/base",
            "_model_module_version": "1.2.0",
            "_model_name": "LayoutModel",
            "_view_count": null,
            "_view_module": "@jupyter-widgets/base",
            "_view_module_version": "1.2.0",
            "_view_name": "LayoutView",
            "align_content": null,
            "align_items": null,
            "align_self": null,
            "border": null,
            "bottom": null,
            "display": null,
            "flex": null,
            "flex_flow": null,
            "grid_area": null,
            "grid_auto_columns": null,
            "grid_auto_flow": null,
            "grid_auto_rows": null,
            "grid_column": null,
            "grid_gap": null,
            "grid_row": null,
            "grid_template_areas": null,
            "grid_template_columns": null,
            "grid_template_rows": null,
            "height": null,
            "justify_content": null,
            "justify_items": null,
            "left": null,
            "margin": null,
            "max_height": null,
            "max_width": null,
            "min_height": null,
            "min_width": null,
            "object_fit": null,
            "object_position": null,
            "order": null,
            "overflow": null,
            "overflow_x": null,
            "overflow_y": null,
            "padding": null,
            "right": null,
            "top": null,
            "visibility": null,
            "width": null
          }
        },
        "1166fc2c9ade40f180a2b2077c32f2fc": {
          "model_module": "@jupyter-widgets/base",
          "model_name": "LayoutModel",
          "model_module_version": "1.2.0",
          "state": {
            "_model_module": "@jupyter-widgets/base",
            "_model_module_version": "1.2.0",
            "_model_name": "LayoutModel",
            "_view_count": null,
            "_view_module": "@jupyter-widgets/base",
            "_view_module_version": "1.2.0",
            "_view_name": "LayoutView",
            "align_content": null,
            "align_items": null,
            "align_self": null,
            "border": null,
            "bottom": null,
            "display": null,
            "flex": null,
            "flex_flow": null,
            "grid_area": null,
            "grid_auto_columns": null,
            "grid_auto_flow": null,
            "grid_auto_rows": null,
            "grid_column": null,
            "grid_gap": null,
            "grid_row": null,
            "grid_template_areas": null,
            "grid_template_columns": null,
            "grid_template_rows": null,
            "height": null,
            "justify_content": null,
            "justify_items": null,
            "left": null,
            "margin": null,
            "max_height": null,
            "max_width": null,
            "min_height": null,
            "min_width": null,
            "object_fit": null,
            "object_position": null,
            "order": null,
            "overflow": null,
            "overflow_x": null,
            "overflow_y": null,
            "padding": null,
            "right": null,
            "top": null,
            "visibility": null,
            "width": null
          }
        },
        "cf8cedc95091471486b9d897ad9d2b91": {
          "model_module": "@jupyter-widgets/controls",
          "model_name": "DescriptionStyleModel",
          "model_module_version": "1.5.0",
          "state": {
            "_model_module": "@jupyter-widgets/controls",
            "_model_module_version": "1.5.0",
            "_model_name": "DescriptionStyleModel",
            "_view_count": null,
            "_view_module": "@jupyter-widgets/base",
            "_view_module_version": "1.2.0",
            "_view_name": "StyleView",
            "description_width": ""
          }
        },
        "e778aeceab57423fb89bc4de07f7b570": {
          "model_module": "@jupyter-widgets/base",
          "model_name": "LayoutModel",
          "model_module_version": "1.2.0",
          "state": {
            "_model_module": "@jupyter-widgets/base",
            "_model_module_version": "1.2.0",
            "_model_name": "LayoutModel",
            "_view_count": null,
            "_view_module": "@jupyter-widgets/base",
            "_view_module_version": "1.2.0",
            "_view_name": "LayoutView",
            "align_content": null,
            "align_items": null,
            "align_self": null,
            "border": null,
            "bottom": null,
            "display": null,
            "flex": null,
            "flex_flow": null,
            "grid_area": null,
            "grid_auto_columns": null,
            "grid_auto_flow": null,
            "grid_auto_rows": null,
            "grid_column": null,
            "grid_gap": null,
            "grid_row": null,
            "grid_template_areas": null,
            "grid_template_columns": null,
            "grid_template_rows": null,
            "height": null,
            "justify_content": null,
            "justify_items": null,
            "left": null,
            "margin": null,
            "max_height": null,
            "max_width": null,
            "min_height": null,
            "min_width": null,
            "object_fit": null,
            "object_position": null,
            "order": null,
            "overflow": null,
            "overflow_x": null,
            "overflow_y": null,
            "padding": null,
            "right": null,
            "top": null,
            "visibility": null,
            "width": null
          }
        },
        "995438cb14e945b1a1903bf8d0f83985": {
          "model_module": "@jupyter-widgets/controls",
          "model_name": "ProgressStyleModel",
          "model_module_version": "1.5.0",
          "state": {
            "_model_module": "@jupyter-widgets/controls",
            "_model_module_version": "1.5.0",
            "_model_name": "ProgressStyleModel",
            "_view_count": null,
            "_view_module": "@jupyter-widgets/base",
            "_view_module_version": "1.2.0",
            "_view_name": "StyleView",
            "bar_color": null,
            "description_width": ""
          }
        },
        "11eb613c0bb443ed9eb5f7f62771cc3d": {
          "model_module": "@jupyter-widgets/base",
          "model_name": "LayoutModel",
          "model_module_version": "1.2.0",
          "state": {
            "_model_module": "@jupyter-widgets/base",
            "_model_module_version": "1.2.0",
            "_model_name": "LayoutModel",
            "_view_count": null,
            "_view_module": "@jupyter-widgets/base",
            "_view_module_version": "1.2.0",
            "_view_name": "LayoutView",
            "align_content": null,
            "align_items": null,
            "align_self": null,
            "border": null,
            "bottom": null,
            "display": null,
            "flex": null,
            "flex_flow": null,
            "grid_area": null,
            "grid_auto_columns": null,
            "grid_auto_flow": null,
            "grid_auto_rows": null,
            "grid_column": null,
            "grid_gap": null,
            "grid_row": null,
            "grid_template_areas": null,
            "grid_template_columns": null,
            "grid_template_rows": null,
            "height": null,
            "justify_content": null,
            "justify_items": null,
            "left": null,
            "margin": null,
            "max_height": null,
            "max_width": null,
            "min_height": null,
            "min_width": null,
            "object_fit": null,
            "object_position": null,
            "order": null,
            "overflow": null,
            "overflow_x": null,
            "overflow_y": null,
            "padding": null,
            "right": null,
            "top": null,
            "visibility": null,
            "width": null
          }
        },
        "368a4c471bcd4caf8c0193b96d58c5ff": {
          "model_module": "@jupyter-widgets/controls",
          "model_name": "DescriptionStyleModel",
          "model_module_version": "1.5.0",
          "state": {
            "_model_module": "@jupyter-widgets/controls",
            "_model_module_version": "1.5.0",
            "_model_name": "DescriptionStyleModel",
            "_view_count": null,
            "_view_module": "@jupyter-widgets/base",
            "_view_module_version": "1.2.0",
            "_view_name": "StyleView",
            "description_width": ""
          }
        }
      }
    }
  },
  "nbformat": 4,
  "nbformat_minor": 0
}