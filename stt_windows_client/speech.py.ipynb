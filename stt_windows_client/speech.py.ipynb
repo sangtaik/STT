{
 "cells": [
  {
   "cell_type": "code",
   "execution_count": null,
   "id": "519de673",
   "metadata": {},
   "outputs": [],
   "source": [
    "from PyQt5.QtCore import QRunnable, QThreadPool, QObject, pyqtSignal\n",
    "import azure.cognitiveservices.speech as speechsdk\n",
    "from playsound import playsound\n",
    "\n",
    "API_KEY = \"\"\n",
    "REGION = \"\"\n",
    "\n",
    "\n",
    "class Stt(QRunnable):\n",
    "    def __init__(self):\n",
    "        super().__init__()\n",
    "        self.signals = WorkerSignals()\n",
    "\n",
    "    def run(self) -> None:\n",
    "        speech_config = speechsdk.SpeechConfig(subscription=API_KEY, region=REGION)\n",
    "        speech_recognizer = speechsdk.SpeechRecognizer(speech_config=speech_config)\n",
    "#         playsound('music/StartBeep.wav')\n",
    "        result = speech_recognizer.recognize_once()\n",
    "#         playsound(\"music/EndBeep.wav\")\n",
    "\n",
    "        if result.reason == speechsdk.ResultReason.RecognizedSpeech:\n",
    "            self.signals.finished.emit(result.text)\n",
    "        elif result.reason == speechsdk.ResultReason.NoMatch:\n",
    "            print(\"No speech could be recognized\")\n",
    "        elif result.reason == speechsdk.ResultReason.Canceled:\n",
    "            cancellation_details = result.cancellation_details\n",
    "            print(\"Speech Recognition canceled: {}\".format(cancellation_details.reason))\n",
    "            if cancellation_details.reason == speechsdk.CancellationReason.Error:\n",
    "                print(\"Error details: {}\".format(cancellation_details.error_details))\n",
    "\n",
    "    def start(self):\n",
    "        QThreadPool.globalInstance().start(self)\n",
    "        \n",
    "class WorkerSignals(QObject):\n",
    "    finished = pyqtSignal(str)"
   ]
  }
 ],
 "metadata": {
  "kernelspec": {
   "display_name": "STT",
   "language": "python",
   "name": "stt"
  },
  "language_info": {
   "codemirror_mode": {
    "name": "ipython",
    "version": 3
   },
   "file_extension": ".py",
   "mimetype": "text/x-python",
   "name": "python",
   "nbconvert_exporter": "python",
   "pygments_lexer": "ipython3",
   "version": "3.7.13"
  }
 },
 "nbformat": 4,
 "nbformat_minor": 5
}
