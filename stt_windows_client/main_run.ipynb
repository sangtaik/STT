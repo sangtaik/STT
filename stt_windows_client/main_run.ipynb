{
 "cells": [
  {
   "cell_type": "code",
   "execution_count": 1,
   "id": "d6664808",
   "metadata": {},
   "outputs": [
    {
     "name": "stdout",
     "output_type": "stream",
     "text": [
      "found 5 microphone devices: [0, 1, 5, 6, 12]\n",
      "recording from \"Microsoft 사운드 매퍼 - Input\" (device 0) at 44100 Hz\n",
      " -- starting stream\n",
      "DONE\n"
     ]
    }
   ],
   "source": [
    "# STT의 공방은 https://github.com/anuragseven/azurespeech-pyqt5/blob/main/speech.py를 참고\n",
    "from PyQt5 import QtGui, QtCore, QtWidgets\n",
    "\n",
    "import sys\n",
    "import ui_main\n",
    "import numpy as np\n",
    "import pyqtgraph\n",
    "import SWHear\n",
    "import datetime\n",
    "\n",
    "class ExampleApp(QtWidgets.QMainWindow, ui_main.Ui_MainWindow):\n",
    "    def __init__(self, parent=None):\n",
    "        pyqtgraph.setConfigOption('background', 'w') #before loading widget\n",
    "        super(ExampleApp, self).__init__(parent)\n",
    "        self.setupUi(self)\n",
    "        self.grFFT.plotItem.showGrid(True, True, 0.7)\n",
    "        self.grPCM.plotItem.showGrid(True, True, 0.7)\n",
    "        self.maxFFT=0\n",
    "        self.maxPCM=0\n",
    "        self.ear = SWHear.SWHear(rate=44100,updatesPerSecond=20)\n",
    "        self.ear.stream_start()\n",
    "\n",
    "        \n",
    "    def on_speech_recognized(self, text):\n",
    "        self.start_listening.setDisabled(False)\n",
    "        self.recognised_text_box.setText(text)\n",
    "        \n",
    "    def update(self):\n",
    "        if not self.ear.data is None and not self.ear.fft is None:\n",
    "            pcmMax=np.max(np.abs(self.ear.data))\n",
    "            if pcmMax>self.maxPCM:\n",
    "                self.maxPCM=pcmMax\n",
    "                self.grPCM.plotItem.setRange(yRange=[-pcmMax,pcmMax])\n",
    "            if np.max(self.ear.fft)>self.maxFFT:\n",
    "                self.maxFFT=np.max(np.abs(self.ear.fft))\n",
    "                #self.grFFT.plotItem.setRange(yRange=[0,self.maxFFT])\n",
    "                self.grFFT.plotItem.setRange(yRange=[0,1])\n",
    "            self.pbLevel.setValue(1000*pcmMax/self.maxPCM)\n",
    "            pen=pyqtgraph.mkPen(color='b')\n",
    "            self.grPCM.plot(self.ear.datax ,self.ear.data ,pen=pen ,clear=True)\n",
    "            pen=pyqtgraph.mkPen(color='r')\n",
    "            self.grFFT.plot(self.ear.fftx, self.ear.fft/self.maxFFT ,pen=pen ,clear=True)\n",
    "            \n",
    "        # 라벨에 텍스트 표시\n",
    "        current_time = str(datetime.datetime.now().time())\n",
    "        self.label_stt.setText(current_time)\n",
    "        self.label_stt.repaint()\n",
    "        QtCore.QTimer.singleShot(1, self.update) # QUICKLY repeat\n",
    "\n",
    "        \n",
    "\n",
    "\n",
    "if __name__==\"__main__\":\n",
    "    app = QtWidgets.QApplication(sys.argv)\n",
    "    form = ExampleApp()\n",
    "    form.show()\n",
    "    form.update() #start with something\n",
    "    app.exec_()\n",
    "    print(\"DONE\")"
   ]
  },
  {
   "cell_type": "code",
   "execution_count": null,
   "id": "1e25f1fb",
   "metadata": {},
   "outputs": [],
   "source": []
  }
 ],
 "metadata": {
  "kernelspec": {
   "display_name": "STT",
   "language": "python",
   "name": "stt"
  },
  "language_info": {
   "codemirror_mode": {
    "name": "ipython",
    "version": 3
   },
   "file_extension": ".py",
   "mimetype": "text/x-python",
   "name": "python",
   "nbconvert_exporter": "python",
   "pygments_lexer": "ipython3",
   "version": "3.7.13"
  }
 },
 "nbformat": 4,
 "nbformat_minor": 5
}
