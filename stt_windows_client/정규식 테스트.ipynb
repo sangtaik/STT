{
 "cells": [
  {
   "cell_type": "code",
   "execution_count": 5,
   "id": "dedef8dc",
   "metadata": {},
   "outputs": [
    {
     "name": "stdout",
     "output_type": "stream",
     "text": [
      "\n",
      "\n",
      "\n",
      "\n",
      "피피티 닫아주세요.\n",
      "파워 파워에이드 주세요.\n",
      "\n"
     ]
    }
   ],
   "source": [
    "import re\n",
    "\n",
    "list_cmd = ['피피티를 시작할겁니다.'\n",
    "    ,'파워포인트 시작해주세요.'\n",
    "    ,'피피티 시작합니다.'\n",
    "    ,'아! 피피티 시작해야되요.'\n",
    "    ,'피피티 닫아주세요.'\n",
    "    ,'파워 파워에이드 주세요.'\n",
    "    ,'정말 파워포인트 시작하지 말고 닫아주세요.']\n",
    "for text in list_cmd:\n",
    "    text_substituted = re.sub(r'(?=(.*[피피티|파워포인트].*){1,})(?=(.*시작,*){1,}).*', '', text)\n",
    "    print(text_substituted)"
   ]
  },
  {
   "cell_type": "code",
   "execution_count": 8,
   "id": "4f5ad635",
   "metadata": {},
   "outputs": [
    {
     "name": "stdout",
     "output_type": "stream",
     "text": [
      "<re.Match object; span=(0, 12), match='피피티를 시작할겁니다.'>\n",
      "<re.Match object; span=(0, 13), match='파워포인트 시작해주세요.'>\n",
      "<re.Match object; span=(0, 10), match='피피티 시작합니다.'>\n",
      "<re.Match object; span=(0, 14), match='아! 피피티 시작해야되요.'>\n",
      "None\n",
      "None\n",
      "<re.Match object; span=(0, 23), match='정말 파워포인트 시작하지 말고 닫아주세요.'>\n",
      "\n",
      "\n",
      "<re.Match object; span=(0, 12), match='피피티를 시작할겁니다.'>\n",
      "<re.Match object; span=(0, 13), match='파워포인트 시작해주세요.'>\n",
      "<re.Match object; span=(0, 10), match='피피티 시작합니다.'>\n",
      "<re.Match object; span=(0, 14), match='아! 피피티 시작해야되요.'>\n",
      "None\n",
      "None\n",
      "<re.Match object; span=(0, 23), match='정말 파워포인트 시작하지 말고 닫아주세요.'>\n"
     ]
    }
   ],
   "source": [
    "import re\n",
    "\n",
    "list_cmd = ['피피티를 시작할겁니다.'\n",
    "    ,'파워포인트 시작해주세요.'\n",
    "    ,'피피티 시작합니다.'\n",
    "    ,'아! 피피티 시작해야되요.'\n",
    "    ,'피피티 닫아주세요.'\n",
    "    ,'파워 파워에이드 주세요.'\n",
    "    ,'정말 파워포인트 시작하지 말고 닫아주세요.']\n",
    "\n",
    "pattern='(?=(.*[피피티|파워포인트].*){1,})(?=(.*시작,*){1,}).*'\n",
    "repatter = re.compile(pattern)\n",
    "\n",
    "for text in list_cmd:\n",
    "    text_substituted = re.match(repatter, text)\n",
    "    print(text_substituted)\n",
    "\n",
    "print('\\n')\n",
    "    \n",
    "for text in list_cmd:\n",
    "    text_substituted = re.match(pattern, text)\n",
    "    print(text_substituted)"
   ]
  },
  {
   "cell_type": "code",
   "execution_count": null,
   "id": "7a0b132f",
   "metadata": {},
   "outputs": [],
   "source": []
  }
 ],
 "metadata": {
  "kernelspec": {
   "display_name": "Python 3 (ipykernel)",
   "language": "python",
   "name": "python3"
  },
  "language_info": {
   "codemirror_mode": {
    "name": "ipython",
    "version": 3
   },
   "file_extension": ".py",
   "mimetype": "text/x-python",
   "name": "python",
   "nbconvert_exporter": "python",
   "pygments_lexer": "ipython3",
   "version": "3.9.7"
  }
 },
 "nbformat": 4,
 "nbformat_minor": 5
}
