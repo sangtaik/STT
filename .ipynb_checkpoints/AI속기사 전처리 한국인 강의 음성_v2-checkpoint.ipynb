{
 "cells": [
  {
   "cell_type": "code",
   "execution_count": 4,
   "id": "b4b6d579",
   "metadata": {},
   "outputs": [],
   "source": [
    "# 한국인 강의음성 전처리 및 csv 파일 생성\n",
    "# https://aihub.or.kr/aidata/30708/download\n",
    "\n",
    "# 압축을 풀고 \"한국어 강의 음성\" 폴더의 이름을 KlecSpeech로 변경한다.\n",
    "# 추가 히스토리\n",
    "# 2022-06-15 array 추가"
   ]
  },
  {
   "cell_type": "code",
   "execution_count": 134,
   "id": "738146cb",
   "metadata": {},
   "outputs": [],
   "source": [
    "import re\n",
    "\n",
    "def preprocessing(text):\n",
    "    # 괄호(문자)/(발음) 일 때, 발음만 살리는 코드\n",
    "#     re_text = re.sub(r'\\([^)]\\)', '', text) + \\/ \n",
    "#    re_text = re.sub(r'[(].+[)]/', '', text)\n",
    "    re_text = re.sub(r'[(].+[)/]', '', text)\n",
    "#     re_text = re.sub(r'\\(.*\\)|\\s-\\s.*', '', text)\n",
    "#    re_text = re.sub(r'[^\\w\\s]', '', re_text) # 괄호 삭제\n",
    "#     hangul = re.compile('[^ ㄱ-ㅣ가-힣+]') # 한글과 띄어쓰기를 제외한 모든 글자\n",
    "#     re_text = hangul.sub('', re_text) # 한글과 띄어쓰기를 제외한 모든 부분을 제거\n",
    "    re_text = re_text.strip()\n",
    "#     print(re_text)\n",
    "    return re_text"
   ]
  },
  {
   "cell_type": "code",
   "execution_count": 135,
   "id": "b95ca617",
   "metadata": {},
   "outputs": [
    {
     "data": {
      "text/plain": [
       "'오늘의 생각 씨앗은요  이에요.'"
      ]
     },
     "execution_count": 135,
     "metadata": {},
     "output_type": "execute_result"
    }
   ],
   "source": [
    "text = \"오늘의 생각 씨앗은요 (1000원)/(히읗) (ㅂ)/(비읍) 이에요.\"\n",
    "ret = preprocessing(text)\n",
    "ret"
   ]
  },
  {
   "cell_type": "markdown",
   "id": "1b0ee09e",
   "metadata": {},
   "source": [
    "## 오디오 데이터 추가"
   ]
  },
  {
   "cell_type": "code",
   "execution_count": 7,
   "id": "7cb00fcd",
   "metadata": {},
   "outputs": [],
   "source": [
    "import json\n",
    "import os\n",
    "import glob\n",
    "import pandas as pd\n",
    "from tqdm import tqdm\n",
    "from pathlib import Path\n",
    "import librosa"
   ]
  },
  {
   "cell_type": "code",
   "execution_count": 8,
   "id": "2acf681e",
   "metadata": {
    "scrolled": true
   },
   "outputs": [
    {
     "name": "stderr",
     "output_type": "stream",
     "text": [
      "  2%|█▏                                                                          | 521/32971 [00:28<3:13:36,  2.79it/s]"
     ]
    },
    {
     "name": "stdout",
     "output_type": "stream",
     "text": [
      "000 complete\n"
     ]
    },
    {
     "name": "stderr",
     "output_type": "stream",
     "text": [
      "  3%|██▎                                                                           | 999/32971 [00:35<19:02, 27.98it/s]\n"
     ]
    },
    {
     "ename": "KeyboardInterrupt",
     "evalue": "",
     "output_type": "error",
     "traceback": [
      "\u001b[1;31m---------------------------------------------------------------------------\u001b[0m",
      "\u001b[1;31mKeyboardInterrupt\u001b[0m                         Traceback (most recent call last)",
      "\u001b[1;32m~\\AppData\\Local\\Temp\\ipykernel_19748\\3752032429.py\u001b[0m in \u001b[0;36m<module>\u001b[1;34m\u001b[0m\n\u001b[0;32m     37\u001b[0m         \u001b[0mn\u001b[0m\u001b[1;33m=\u001b[0m\u001b[0mi\u001b[0m\u001b[1;33m//\u001b[0m\u001b[1;36m500\u001b[0m\u001b[1;33m\u001b[0m\u001b[1;33m\u001b[0m\u001b[0m\n\u001b[0;32m     38\u001b[0m         \u001b[0mdf\u001b[0m \u001b[1;33m=\u001b[0m \u001b[0mpd\u001b[0m\u001b[1;33m.\u001b[0m\u001b[0mDataFrame\u001b[0m\u001b[1;33m(\u001b[0m\u001b[0mtext_dict\u001b[0m\u001b[1;33m)\u001b[0m\u001b[1;33m\u001b[0m\u001b[1;33m\u001b[0m\u001b[0m\n\u001b[1;32m---> 39\u001b[1;33m         \u001b[0mdf\u001b[0m\u001b[1;33m.\u001b[0m\u001b[0mto_csv\u001b[0m\u001b[1;33m(\u001b[0m\u001b[1;34mf'klecspeech_ko_500_{n:03d}.csv'\u001b[0m\u001b[1;33m,\u001b[0m\u001b[0mindex\u001b[0m\u001b[1;33m=\u001b[0m\u001b[1;32mFalse\u001b[0m\u001b[1;33m,\u001b[0m\u001b[0msep\u001b[0m\u001b[1;33m=\u001b[0m\u001b[1;34m'\\t'\u001b[0m\u001b[1;33m)\u001b[0m\u001b[1;33m\u001b[0m\u001b[1;33m\u001b[0m\u001b[0m\n\u001b[0m\u001b[0;32m     40\u001b[0m \u001b[1;33m\u001b[0m\u001b[0m\n\u001b[0;32m     41\u001b[0m         \u001b[1;31m# text_dict을 초기화\u001b[0m\u001b[1;33m\u001b[0m\u001b[1;33m\u001b[0m\u001b[1;33m\u001b[0m\u001b[0m\n",
      "\u001b[1;32m~\\anaconda3\\envs\\STT\\lib\\site-packages\\pandas\\core\\generic.py\u001b[0m in \u001b[0;36mto_csv\u001b[1;34m(self, path_or_buf, sep, na_rep, float_format, columns, header, index, index_label, mode, encoding, compression, quoting, quotechar, line_terminator, chunksize, date_format, doublequote, escapechar, decimal, errors, storage_options)\u001b[0m\n\u001b[0;32m   3480\u001b[0m             \u001b[0mdoublequote\u001b[0m\u001b[1;33m=\u001b[0m\u001b[0mdoublequote\u001b[0m\u001b[1;33m,\u001b[0m\u001b[1;33m\u001b[0m\u001b[1;33m\u001b[0m\u001b[0m\n\u001b[0;32m   3481\u001b[0m             \u001b[0mescapechar\u001b[0m\u001b[1;33m=\u001b[0m\u001b[0mescapechar\u001b[0m\u001b[1;33m,\u001b[0m\u001b[1;33m\u001b[0m\u001b[1;33m\u001b[0m\u001b[0m\n\u001b[1;32m-> 3482\u001b[1;33m             \u001b[0mstorage_options\u001b[0m\u001b[1;33m=\u001b[0m\u001b[0mstorage_options\u001b[0m\u001b[1;33m,\u001b[0m\u001b[1;33m\u001b[0m\u001b[1;33m\u001b[0m\u001b[0m\n\u001b[0m\u001b[0;32m   3483\u001b[0m         )\n\u001b[0;32m   3484\u001b[0m \u001b[1;33m\u001b[0m\u001b[0m\n",
      "\u001b[1;32m~\\anaconda3\\envs\\STT\\lib\\site-packages\\pandas\\io\\formats\\format.py\u001b[0m in \u001b[0;36mto_csv\u001b[1;34m(self, path_or_buf, encoding, sep, columns, index_label, mode, compression, quoting, quotechar, line_terminator, chunksize, date_format, doublequote, escapechar, errors, storage_options)\u001b[0m\n\u001b[0;32m   1103\u001b[0m             \u001b[0mformatter\u001b[0m\u001b[1;33m=\u001b[0m\u001b[0mself\u001b[0m\u001b[1;33m.\u001b[0m\u001b[0mfmt\u001b[0m\u001b[1;33m,\u001b[0m\u001b[1;33m\u001b[0m\u001b[1;33m\u001b[0m\u001b[0m\n\u001b[0;32m   1104\u001b[0m         )\n\u001b[1;32m-> 1105\u001b[1;33m         \u001b[0mcsv_formatter\u001b[0m\u001b[1;33m.\u001b[0m\u001b[0msave\u001b[0m\u001b[1;33m(\u001b[0m\u001b[1;33m)\u001b[0m\u001b[1;33m\u001b[0m\u001b[1;33m\u001b[0m\u001b[0m\n\u001b[0m\u001b[0;32m   1106\u001b[0m \u001b[1;33m\u001b[0m\u001b[0m\n\u001b[0;32m   1107\u001b[0m         \u001b[1;32mif\u001b[0m \u001b[0mcreated_buffer\u001b[0m\u001b[1;33m:\u001b[0m\u001b[1;33m\u001b[0m\u001b[1;33m\u001b[0m\u001b[0m\n",
      "\u001b[1;32m~\\anaconda3\\envs\\STT\\lib\\site-packages\\pandas\\io\\formats\\csvs.py\u001b[0m in \u001b[0;36msave\u001b[1;34m(self)\u001b[0m\n\u001b[0;32m    255\u001b[0m             )\n\u001b[0;32m    256\u001b[0m \u001b[1;33m\u001b[0m\u001b[0m\n\u001b[1;32m--> 257\u001b[1;33m             \u001b[0mself\u001b[0m\u001b[1;33m.\u001b[0m\u001b[0m_save\u001b[0m\u001b[1;33m(\u001b[0m\u001b[1;33m)\u001b[0m\u001b[1;33m\u001b[0m\u001b[1;33m\u001b[0m\u001b[0m\n\u001b[0m\u001b[0;32m    258\u001b[0m \u001b[1;33m\u001b[0m\u001b[0m\n\u001b[0;32m    259\u001b[0m     \u001b[1;32mdef\u001b[0m \u001b[0m_save\u001b[0m\u001b[1;33m(\u001b[0m\u001b[0mself\u001b[0m\u001b[1;33m)\u001b[0m \u001b[1;33m->\u001b[0m \u001b[1;32mNone\u001b[0m\u001b[1;33m:\u001b[0m\u001b[1;33m\u001b[0m\u001b[1;33m\u001b[0m\u001b[0m\n",
      "\u001b[1;32m~\\anaconda3\\envs\\STT\\lib\\site-packages\\pandas\\io\\formats\\csvs.py\u001b[0m in \u001b[0;36m_save\u001b[1;34m(self)\u001b[0m\n\u001b[0;32m    260\u001b[0m         \u001b[1;32mif\u001b[0m \u001b[0mself\u001b[0m\u001b[1;33m.\u001b[0m\u001b[0m_need_to_save_header\u001b[0m\u001b[1;33m:\u001b[0m\u001b[1;33m\u001b[0m\u001b[1;33m\u001b[0m\u001b[0m\n\u001b[0;32m    261\u001b[0m             \u001b[0mself\u001b[0m\u001b[1;33m.\u001b[0m\u001b[0m_save_header\u001b[0m\u001b[1;33m(\u001b[0m\u001b[1;33m)\u001b[0m\u001b[1;33m\u001b[0m\u001b[1;33m\u001b[0m\u001b[0m\n\u001b[1;32m--> 262\u001b[1;33m         \u001b[0mself\u001b[0m\u001b[1;33m.\u001b[0m\u001b[0m_save_body\u001b[0m\u001b[1;33m(\u001b[0m\u001b[1;33m)\u001b[0m\u001b[1;33m\u001b[0m\u001b[1;33m\u001b[0m\u001b[0m\n\u001b[0m\u001b[0;32m    263\u001b[0m \u001b[1;33m\u001b[0m\u001b[0m\n\u001b[0;32m    264\u001b[0m     \u001b[1;32mdef\u001b[0m \u001b[0m_save_header\u001b[0m\u001b[1;33m(\u001b[0m\u001b[0mself\u001b[0m\u001b[1;33m)\u001b[0m \u001b[1;33m->\u001b[0m \u001b[1;32mNone\u001b[0m\u001b[1;33m:\u001b[0m\u001b[1;33m\u001b[0m\u001b[1;33m\u001b[0m\u001b[0m\n",
      "\u001b[1;32m~\\anaconda3\\envs\\STT\\lib\\site-packages\\pandas\\io\\formats\\csvs.py\u001b[0m in \u001b[0;36m_save_body\u001b[1;34m(self)\u001b[0m\n\u001b[0;32m    298\u001b[0m             \u001b[1;32mif\u001b[0m \u001b[0mstart_i\u001b[0m \u001b[1;33m>=\u001b[0m \u001b[0mend_i\u001b[0m\u001b[1;33m:\u001b[0m\u001b[1;33m\u001b[0m\u001b[1;33m\u001b[0m\u001b[0m\n\u001b[0;32m    299\u001b[0m                 \u001b[1;32mbreak\u001b[0m\u001b[1;33m\u001b[0m\u001b[1;33m\u001b[0m\u001b[0m\n\u001b[1;32m--> 300\u001b[1;33m             \u001b[0mself\u001b[0m\u001b[1;33m.\u001b[0m\u001b[0m_save_chunk\u001b[0m\u001b[1;33m(\u001b[0m\u001b[0mstart_i\u001b[0m\u001b[1;33m,\u001b[0m \u001b[0mend_i\u001b[0m\u001b[1;33m)\u001b[0m\u001b[1;33m\u001b[0m\u001b[1;33m\u001b[0m\u001b[0m\n\u001b[0m\u001b[0;32m    301\u001b[0m \u001b[1;33m\u001b[0m\u001b[0m\n\u001b[0;32m    302\u001b[0m     \u001b[1;32mdef\u001b[0m \u001b[0m_save_chunk\u001b[0m\u001b[1;33m(\u001b[0m\u001b[0mself\u001b[0m\u001b[1;33m,\u001b[0m \u001b[0mstart_i\u001b[0m\u001b[1;33m:\u001b[0m \u001b[0mint\u001b[0m\u001b[1;33m,\u001b[0m \u001b[0mend_i\u001b[0m\u001b[1;33m:\u001b[0m \u001b[0mint\u001b[0m\u001b[1;33m)\u001b[0m \u001b[1;33m->\u001b[0m \u001b[1;32mNone\u001b[0m\u001b[1;33m:\u001b[0m\u001b[1;33m\u001b[0m\u001b[1;33m\u001b[0m\u001b[0m\n",
      "\u001b[1;32m~\\anaconda3\\envs\\STT\\lib\\site-packages\\pandas\\io\\formats\\csvs.py\u001b[0m in \u001b[0;36m_save_chunk\u001b[1;34m(self, start_i, end_i)\u001b[0m\n\u001b[0;32m    314\u001b[0m             \u001b[0mself\u001b[0m\u001b[1;33m.\u001b[0m\u001b[0mnlevels\u001b[0m\u001b[1;33m,\u001b[0m\u001b[1;33m\u001b[0m\u001b[1;33m\u001b[0m\u001b[0m\n\u001b[0;32m    315\u001b[0m             \u001b[0mself\u001b[0m\u001b[1;33m.\u001b[0m\u001b[0mcols\u001b[0m\u001b[1;33m,\u001b[0m\u001b[1;33m\u001b[0m\u001b[1;33m\u001b[0m\u001b[0m\n\u001b[1;32m--> 316\u001b[1;33m             \u001b[0mself\u001b[0m\u001b[1;33m.\u001b[0m\u001b[0mwriter\u001b[0m\u001b[1;33m,\u001b[0m\u001b[1;33m\u001b[0m\u001b[1;33m\u001b[0m\u001b[0m\n\u001b[0m\u001b[0;32m    317\u001b[0m         )\n",
      "\u001b[1;32m~\\anaconda3\\envs\\STT\\lib\\site-packages\\pandas\\_libs\\writers.pyx\u001b[0m in \u001b[0;36mpandas._libs.writers.write_csv_rows\u001b[1;34m()\u001b[0m\n",
      "\u001b[1;31mKeyboardInterrupt\u001b[0m: "
     ]
    }
   ],
   "source": [
    "text_dict = {'filename':[],'text':[],'array':[]}\n",
    "\n",
    "path='./dataset/KlecSpeech/Validation/'\n",
    "\n",
    "# path = Path('./한국어 강의 음성/Validation/')\n",
    "\n",
    "# wav 파일 기준으로 text 파일이름이 동일, 확장자는 wav, txt로 각각 다름\n",
    "files = [f for f in glob.glob(path + \"**/*.wav\", recursive=True)]\n",
    "\n",
    "# 테스트 코드\n",
    "# files = files[0:3]\n",
    "# print(files)\n",
    "\n",
    "for i in tqdm(range(len(files))):\n",
    "    txt_file = files[i].replace(\".wav\", \".txt\")\n",
    "    files[i] = files[i].replace(\"\\\\\", \"/\")\n",
    "\n",
    "#     print(txt_file)\n",
    "    if not os.path.exists(txt_file):\n",
    "        print(\"The file does not exist\", txt_file)\n",
    "    \n",
    "    with open(txt_file ,'r',encoding='utf8') as f:\n",
    "        text = f.read()\n",
    "        \n",
    "        # 텍스트 전처리\n",
    "        text = preprocessing(text)\n",
    "\n",
    "        # 항목들 값을 저장 \\\n",
    "        text_dict['filename'].append(files[i]) # filename\n",
    "        text_dict['text'].append(text)\n",
    "        \n",
    "        # 각 wav파일을 16000으로 나눠서 저장\n",
    "        array,_ = librosa.load(files[i],sr=16000)\n",
    "        text_dict['array'].append(list(array))\n",
    "\n",
    "    if i%500==499:\n",
    "        n=i//500\n",
    "        df = pd.DataFrame(text_dict)\n",
    "        df.to_csv(f'klecspeech_ko_500_{n:03d}.csv',index=False,sep='\\t')\n",
    "        \n",
    "        # text_dict을 초기화\n",
    "        text_dict = {'filename':[],'text':[],'array':[]}\n",
    "        \n",
    "        print(f'{n:03d} complete')\n",
    "\n",
    "        \n",
    "# df = pd.DataFrame(text_dict)\n",
    "# df.head()"
   ]
  },
  {
   "cell_type": "code",
   "execution_count": null,
   "id": "2abba7f2",
   "metadata": {},
   "outputs": [],
   "source": [
    "csv_df = pd.read_csv('klecspeech_ko_500_000.csv',sep='\\t')\n",
    "csv_df.head()"
   ]
  },
  {
   "cell_type": "code",
   "execution_count": null,
   "id": "70c3d3cc",
   "metadata": {},
   "outputs": [],
   "source": [
    "for i in range(100):\n",
    "    print(text_dict['filename'][i], text_dict['text'][i])"
   ]
  },
  {
   "cell_type": "code",
   "execution_count": null,
   "id": "8565b7f5",
   "metadata": {},
   "outputs": [],
   "source": [
    "array=df['array'][0]\n",
    "type(array)"
   ]
  },
  {
   "cell_type": "code",
   "execution_count": null,
   "id": "f56556de",
   "metadata": {},
   "outputs": [],
   "source": [
    "print(array[:20])\n",
    "print(array[-20:])"
   ]
  },
  {
   "cell_type": "markdown",
   "id": "710171bf",
   "metadata": {},
   "source": [
    "## 텍스트 누락 확인"
   ]
  },
  {
   "cell_type": "code",
   "execution_count": null,
   "id": "4330a695",
   "metadata": {},
   "outputs": [],
   "source": [
    "df['text'].min()"
   ]
  },
  {
   "cell_type": "code",
   "execution_count": null,
   "id": "d77200cb",
   "metadata": {},
   "outputs": [],
   "source": [
    "df['text_len'] = df['text'].map(len)\n",
    "\n",
    "df[['text_len']].idxmin()"
   ]
  },
  {
   "cell_type": "code",
   "execution_count": null,
   "id": "ee27ddd8",
   "metadata": {},
   "outputs": [],
   "source": [
    "# min 값의 id를 찾아낸다.\n",
    "df[['text_len']].idxmin()"
   ]
  },
  {
   "cell_type": "code",
   "execution_count": null,
   "id": "1b4019ea",
   "metadata": {},
   "outputs": [],
   "source": [
    "df['text'][124]"
   ]
  },
  {
   "cell_type": "code",
   "execution_count": null,
   "id": "6b23f17c",
   "metadata": {},
   "outputs": [],
   "source": [
    "print(df['filename'][124])"
   ]
  },
  {
   "cell_type": "code",
   "execution_count": null,
   "id": "961a0456",
   "metadata": {},
   "outputs": [],
   "source": [
    "# 찾아보면 #NAME이라고 되어 있음."
   ]
  },
  {
   "cell_type": "code",
   "execution_count": null,
   "id": "eb07f5d9",
   "metadata": {},
   "outputs": [],
   "source": [
    "np.array(array[1:-1].split(',')).astype(np.float32)"
   ]
  },
  {
   "cell_type": "code",
   "execution_count": null,
   "id": "375db9ef",
   "metadata": {},
   "outputs": [],
   "source": []
  }
 ],
 "metadata": {
  "kernelspec": {
   "display_name": "STT",
   "language": "python",
   "name": "stt"
  },
  "language_info": {
   "codemirror_mode": {
    "name": "ipython",
    "version": 3
   },
   "file_extension": ".py",
   "mimetype": "text/x-python",
   "name": "python",
   "nbconvert_exporter": "python",
   "pygments_lexer": "ipython3",
   "version": "3.7.13"
  }
 },
 "nbformat": 4,
 "nbformat_minor": 5
}
