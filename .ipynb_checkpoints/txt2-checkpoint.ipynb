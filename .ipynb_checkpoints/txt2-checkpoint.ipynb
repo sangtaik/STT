{
 "cells": [
  {
   "cell_type": "code",
   "execution_count": 86,
   "id": "72276592",
   "metadata": {},
   "outputs": [],
   "source": [
    "import os\n",
    "import glob\n",
    "import pandas as pd\n",
    "import numpy as np\n",
    "import re"
   ]
  },
  {
   "cell_type": "code",
   "execution_count": 87,
   "id": "e6d7c263",
   "metadata": {},
   "outputs": [],
   "source": [
    "# import fileinput\n",
    "\n",
    "# shebang = \"#! /usr/bin/python\\n\"\n",
    "# for line in fileinput.input(inplace=1):\n",
    "#     if fileinput.isfirstline() and line != shebang:\n",
    "#        print shebang,\n",
    "#        if not line.startswith(\"#!\"): \n",
    "#           print line,\n",
    "#     else:\n",
    "#        print line,"
   ]
  },
  {
   "cell_type": "code",
   "execution_count": 130,
   "id": "61328452",
   "metadata": {},
   "outputs": [
    {
     "data": {
      "text/html": [
       "<div>\n",
       "<style scoped>\n",
       "    .dataframe tbody tr th:only-of-type {\n",
       "        vertical-align: middle;\n",
       "    }\n",
       "\n",
       "    .dataframe tbody tr th {\n",
       "        vertical-align: top;\n",
       "    }\n",
       "\n",
       "    .dataframe thead th {\n",
       "        text-align: right;\n",
       "    }\n",
       "</style>\n",
       "<table border=\"1\" class=\"dataframe\">\n",
       "  <thead>\n",
       "    <tr style=\"text-align: right;\">\n",
       "      <th></th>\n",
       "      <th>src</th>\n",
       "      <th>text</th>\n",
       "    </tr>\n",
       "  </thead>\n",
       "  <tbody>\n",
       "    <tr>\n",
       "      <th>85</th>\n",
       "      <td>KsponSpeech_001086.wav</td>\n",
       "      <td>내일모레 내일 어. 내일모레 내일모레 인수인계하고 b/ 나 아직 엑셀 정리를 다 안...</td>\n",
       "    </tr>\n",
       "    <tr>\n",
       "      <th>86</th>\n",
       "      <td>KsponSpeech_001087.wav</td>\n",
       "      <td>약간, 안 비싸 별로. 아 아/ 싸진 않았다. 한 만 원 돈 했던 거 같애. 거의....</td>\n",
       "    </tr>\n",
       "    <tr>\n",
       "      <th>87</th>\n",
       "      <td>KsponSpeech_001088.wav</td>\n",
       "      <td>부를 사람 근데 최근에 나한테 있어서 부를 사람은 그 포커스 단골들밖에 없잖아.</td>\n",
       "    </tr>\n",
       "    <tr>\n",
       "      <th>88</th>\n",
       "      <td>KsponSpeech_001089.wav</td>\n",
       "      <td>재개봉하면은 한 번 보러 갈려고.</td>\n",
       "    </tr>\n",
       "    <tr>\n",
       "      <th>89</th>\n",
       "      <td>KsponSpeech_001090.wav</td>\n",
       "      <td>그러면 너는 그게 니 b/ 만약에 니 자식이 태어나잖아. 그러면 통금을 할 거야 안...</td>\n",
       "    </tr>\n",
       "  </tbody>\n",
       "</table>\n",
       "</div>"
      ],
      "text/plain": [
       "                       src                                               text\n",
       "85  KsponSpeech_001086.wav  내일모레 내일 어. 내일모레 내일모레 인수인계하고 b/ 나 아직 엑셀 정리를 다 안...\n",
       "86  KsponSpeech_001087.wav  약간, 안 비싸 별로. 아 아/ 싸진 않았다. 한 만 원 돈 했던 거 같애. 거의....\n",
       "87  KsponSpeech_001088.wav       부를 사람 근데 최근에 나한테 있어서 부를 사람은 그 포커스 단골들밖에 없잖아.\n",
       "88  KsponSpeech_001089.wav                                 재개봉하면은 한 번 보러 갈려고.\n",
       "89  KsponSpeech_001090.wav  그러면 너는 그게 니 b/ 만약에 니 자식이 태어나잖아. 그러면 통금을 할 거야 안..."
      ]
     },
     "execution_count": 130,
     "metadata": {},
     "output_type": "execute_result"
    }
   ],
   "source": [
    "data = pd.read_csv('../Jaeyoon/KsponSpeech_0002.txt',header=None, sep = \"\\t\", engine='python', encoding = \"cp949\")\n",
    "data.columns=[\"text\"]\n",
    "df = pd.DataFrame(data,columns=['src','text'])\n",
    "\n",
    "txt_path = '../Jaeyoon/face/voice/voic/KsponSpeech_01/KsponSpeech_0002/'\n",
    "files = [f for f in glob.glob(txt_path + \"**/*.txt\", recursive=True)]\n",
    "wavname = []\n",
    "for file in files:\n",
    "    basename = os.path.basename(file[:-3])\n",
    "    basename = basename + 'wav'\n",
    "    wavname.append(basename)\n",
    "order_speech = os.path.basename(txt_path[:-1])\n",
    "df['src'] = wavname\n",
    "df['text'] = df['text'].str.replace(\"[+?!]\",\"\",regex=True)\n",
    "df['text'] = df['text'].str.replace(\"o/\",\"\",regex=True)\n",
    "df['text'] = df['text'].str.replace(\"u/\",\"<unk>\",regex=True)\n",
    "df['text'] = df['text'].str.replace(\"[(].+[)]/\",\"\",regex=True)\n",
    "df['text'] = df['text'].str.replace(\"[()]\",\"\",regex=True)\n",
    "\n",
    "df[85:90]\n",
    "# re_text = re.sub(r'([^)])/', '', text)\n",
    "# df.to_csv(order_speech + '.csv')"
   ]
  },
  {
   "cell_type": "code",
   "execution_count": 105,
   "id": "6d736bba",
   "metadata": {},
   "outputs": [
    {
     "data": {
      "text/html": [
       "<div>\n",
       "<style scoped>\n",
       "    .dataframe tbody tr th:only-of-type {\n",
       "        vertical-align: middle;\n",
       "    }\n",
       "\n",
       "    .dataframe tbody tr th {\n",
       "        vertical-align: top;\n",
       "    }\n",
       "\n",
       "    .dataframe thead th {\n",
       "        text-align: right;\n",
       "    }\n",
       "</style>\n",
       "<table border=\"1\" class=\"dataframe\">\n",
       "  <thead>\n",
       "    <tr style=\"text-align: right;\">\n",
       "      <th></th>\n",
       "      <th>src</th>\n",
       "      <th>text</th>\n",
       "    </tr>\n",
       "  </thead>\n",
       "  <tbody>\n",
       "    <tr>\n",
       "      <th>85</th>\n",
       "      <td>KsponSpeech_001086.wav</td>\n",
       "      <td></td>\n",
       "    </tr>\n",
       "    <tr>\n",
       "      <th>86</th>\n",
       "      <td>KsponSpeech_001087.wav</td>\n",
       "      <td>))</td>\n",
       "    </tr>\n",
       "    <tr>\n",
       "      <th>87</th>\n",
       "      <td>KsponSpeech_001088.wav</td>\n",
       "      <td></td>\n",
       "    </tr>\n",
       "    <tr>\n",
       "      <th>88</th>\n",
       "      <td>KsponSpeech_001089.wav</td>\n",
       "      <td></td>\n",
       "    </tr>\n",
       "    <tr>\n",
       "      <th>89</th>\n",
       "      <td>KsponSpeech_001090.wav</td>\n",
       "      <td></td>\n",
       "    </tr>\n",
       "  </tbody>\n",
       "</table>\n",
       "</div>"
      ],
      "text/plain": [
       "                       src text\n",
       "85  KsponSpeech_001086.wav     \n",
       "86  KsponSpeech_001087.wav   ))\n",
       "87  KsponSpeech_001088.wav     \n",
       "88  KsponSpeech_001089.wav     \n",
       "89  KsponSpeech_001090.wav     "
      ]
     },
     "execution_count": 105,
     "metadata": {},
     "output_type": "execute_result"
    }
   ],
   "source": [
    "df[85:90]"
   ]
  },
  {
   "cell_type": "code",
   "execution_count": 55,
   "id": "f315e30f",
   "metadata": {},
   "outputs": [],
   "source": [
    "# df['text'] = df['text'].str.replace(\"[l/o/b/n/+?!]\",\"\",regex=True)"
   ]
  },
  {
   "cell_type": "code",
   "execution_count": 66,
   "id": "cf9451db",
   "metadata": {},
   "outputs": [
    {
     "data": {
      "text/html": [
       "<div>\n",
       "<style scoped>\n",
       "    .dataframe tbody tr th:only-of-type {\n",
       "        vertical-align: middle;\n",
       "    }\n",
       "\n",
       "    .dataframe tbody tr th {\n",
       "        vertical-align: top;\n",
       "    }\n",
       "\n",
       "    .dataframe thead th {\n",
       "        text-align: right;\n",
       "    }\n",
       "</style>\n",
       "<table border=\"1\" class=\"dataframe\">\n",
       "  <thead>\n",
       "    <tr style=\"text-align: right;\">\n",
       "      <th></th>\n",
       "      <th>src</th>\n",
       "      <th>text</th>\n",
       "    </tr>\n",
       "  </thead>\n",
       "  <tbody>\n",
       "    <tr>\n",
       "      <th>0</th>\n",
       "      <td>KsponSpeech_001001.wav</td>\n",
       "      <td>n/ 아! 그런가요?</td>\n",
       "    </tr>\n",
       "    <tr>\n",
       "      <th>1</th>\n",
       "      <td>KsponSpeech_001002.wav</td>\n",
       "      <td>그냥 별 열심히 하지 않은 거 아니야? 이 열정이 없는 거지. 연기라는 직업에 대해...</td>\n",
       "    </tr>\n",
       "    <tr>\n",
       "      <th>2</th>\n",
       "      <td>KsponSpeech_001003.wav</td>\n",
       "      <td>바꿀려면 그런 걸 바꿔야지.</td>\n",
       "    </tr>\n",
       "    <tr>\n",
       "      <th>3</th>\n",
       "      <td>KsponSpeech_001004.wav</td>\n",
       "      <td>요+ 요즘 영화 본 거 있니?</td>\n",
       "    </tr>\n",
       "    <tr>\n",
       "      <th>4</th>\n",
       "      <td>KsponSpeech_001005.wav</td>\n",
       "      <td>좋은 거라고 생각이 들었는데 b/ 졸업하고 나서 계속 b/ 그거에 매여서 갚아야 되...</td>\n",
       "    </tr>\n",
       "  </tbody>\n",
       "</table>\n",
       "</div>"
      ],
      "text/plain": [
       "                      src                                               text\n",
       "0  KsponSpeech_001001.wav                                        n/ 아! 그런가요?\n",
       "1  KsponSpeech_001002.wav  그냥 별 열심히 하지 않은 거 아니야? 이 열정이 없는 거지. 연기라는 직업에 대해...\n",
       "2  KsponSpeech_001003.wav                                    바꿀려면 그런 걸 바꿔야지.\n",
       "3  KsponSpeech_001004.wav                                   요+ 요즘 영화 본 거 있니?\n",
       "4  KsponSpeech_001005.wav  좋은 거라고 생각이 들었는데 b/ 졸업하고 나서 계속 b/ 그거에 매여서 갚아야 되..."
      ]
     },
     "execution_count": 66,
     "metadata": {},
     "output_type": "execute_result"
    }
   ],
   "source": [
    "df.head()"
   ]
  },
  {
   "cell_type": "code",
   "execution_count": null,
   "id": "a1401bed",
   "metadata": {},
   "outputs": [],
   "source": [
    "df.to_csv('order_speech_ko.csv')"
   ]
  },
  {
   "cell_type": "code",
   "execution_count": null,
   "id": "6888e1ad",
   "metadata": {},
   "outputs": [],
   "source": [
    "# path = '../Jaeyoon/face/voice/voic/KsponSpeech_01/KsponSpeech_0001/' #wave 파일만 있을때\n",
    "# src = os.listdir(path)\n",
    "# df = pd.DataFrame(data,columns=['src','text']) \n",
    "# df['src'] = src"
   ]
  },
  {
   "cell_type": "code",
   "execution_count": null,
   "id": "dea2a0ab",
   "metadata": {},
   "outputs": [],
   "source": [
    "# # 결과 파일명 지정\n",
    "# basename = os.path.basename(txt_path[:-1])\n",
    "# outfile_name = basename+\".txt\""
   ]
  }
 ],
 "metadata": {
  "kernelspec": {
   "display_name": "Python 3 (ipykernel)",
   "language": "python",
   "name": "python3"
  },
  "language_info": {
   "codemirror_mode": {
    "name": "ipython",
    "version": 3
   },
   "file_extension": ".py",
   "mimetype": "text/x-python",
   "name": "python",
   "nbconvert_exporter": "python",
   "pygments_lexer": "ipython3",
   "version": "3.9.7"
  }
 },
 "nbformat": 4,
 "nbformat_minor": 5
}
