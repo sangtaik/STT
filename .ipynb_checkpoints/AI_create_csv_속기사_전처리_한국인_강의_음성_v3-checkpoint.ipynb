{
 "cells": [
  {
   "cell_type": "code",
   "execution_count": 1,
   "id": "b4b6d579",
   "metadata": {
    "id": "b4b6d579"
   },
   "outputs": [],
   "source": [
    "# 한국인 강의음성 전처리 및 csv 파일 생성\n",
    "# https://aihub.or.kr/aidata/30708/download\n",
    "\n",
    "# 압축을 풀고 \"한국어 강의 음성\" 폴더의 이름을 KlecSpeech로 변경한다.\n",
    "# 추가 히스토리\n",
    "# 2022-06-15 array 추가\n",
    "# 2022-06-17 정규식 교체 "
   ]
  },
  {
   "cell_type": "code",
   "execution_count": 19,
   "id": "738146cb",
   "metadata": {
    "colab": {
     "base_uri": "https://localhost:8080/"
    },
    "id": "738146cb",
    "outputId": "34add5ca-7d88-4eff-cf27-8056fc974d36"
   },
   "outputs": [
    {
     "name": "stdout",
     "output_type": "stream",
     "text": [
      "la <|> 와 와 <b> 안녕하세요. <n> na <|> 배는 천원 입니다 <unk> \n"
     ]
    }
   ],
   "source": [
    "import re\n",
    "\n",
    "def preprocessing(text):\n",
    "    # 괄호(문자)/(발음) 일 때, 발음만 살리는 코드\n",
    "    \"\"\"\n",
    "    괄호 및 괄호 안에 있는 문장을 모두 벗겨내기\n",
    "    \\([^\\)]*\\)\\/|\\(|\\)\n",
    "\n",
    "    조건 1: (문장)/ 을 삭제한다. \n",
    "    \\([^\\)]*\\)    (사과)/(배) (1000원)/(천원)\n",
    "    \\/            뒤에 /를 추가하면 뒤에 /가 없는 (배) 와 (천원)은 조건 탈락\n",
    "\n",
    "    |             조건 1과 조건 2를 OR로 검출\n",
    "\n",
    "    조건 2 :  ( 과 )를 검출\n",
    "    \\(|\\)  \n",
    "    \"\"\"  \n",
    "    re_text = re.sub(r'[+?!]', '', text)\n",
    "    re_text = re.sub(r'o/', '', re_text)\n",
    "    re_text = re.sub(r\"u/\",\"<unk>\",  re_text)\n",
    "    re_text = re.sub(r\"b/\",\"<b>\",  re_text)\n",
    "    re_text = re.sub(r\"n/\",\"<n>\",  re_text)\n",
    "    re_text = re.sub(r\"l/\",\"<|>\",  re_text)\n",
    "    re_text = re.sub(r'\\([^\\)]*\\)\\/|\\(|\\)', '', re_text)\n",
    "    re_text = re.sub(r'[/]', '', re_text)\n",
    "\n",
    "    return re_text\n",
    "\n",
    "test_text = \"la/ l/ 와/ 와// b/ 안녕하세요. n/ na/ l/ (사과)/(배)는 (1000원)/(천원) 입니다?!+ u/ o/\"\n",
    "test_ret = preprocessing(test_text)\n",
    "print(test_ret)"
   ]
  },
  {
   "cell_type": "markdown",
   "id": "1b0ee09e",
   "metadata": {
    "id": "1b0ee09e"
   },
   "source": [
    "## 오디오 데이터 추가"
   ]
  },
  {
   "cell_type": "code",
   "execution_count": 14,
   "id": "7cb00fcd",
   "metadata": {
    "id": "7cb00fcd"
   },
   "outputs": [],
   "source": [
    "import json\n",
    "import os\n",
    "import glob\n",
    "import pandas as pd\n",
    "from tqdm import tqdm\n",
    "from pathlib import Path\n",
    "import librosa"
   ]
  },
  {
   "cell_type": "code",
   "execution_count": 15,
   "id": "2acf681e",
   "metadata": {
    "colab": {
     "base_uri": "https://localhost:8080/"
    },
    "id": "2acf681e",
    "outputId": "256da5d1-4362-4e45-a5b2-b0fcffafbfc8",
    "scrolled": true
   },
   "outputs": [
    {
     "name": "stdout",
     "output_type": "stream",
     "text": [
      "This time is being calculated\n"
     ]
    },
    {
     "name": "stderr",
     "output_type": "stream",
     "text": [
      "  2%|█▏                                                                          | 508/32971 [00:33<7:14:58,  1.24it/s]"
     ]
    },
    {
     "name": "stdout",
     "output_type": "stream",
     "text": [
      "000 complete\n"
     ]
    },
    {
     "name": "stderr",
     "output_type": "stream",
     "text": [
      "  3%|██▎                                                                        | 1007/32971 [01:09<8:37:32,  1.03it/s]"
     ]
    },
    {
     "name": "stdout",
     "output_type": "stream",
     "text": [
      "001 complete\n"
     ]
    },
    {
     "name": "stderr",
     "output_type": "stream",
     "text": [
      "  5%|███▍                                                                       | 1513/32971 [01:46<5:58:57,  1.46it/s]"
     ]
    },
    {
     "name": "stdout",
     "output_type": "stream",
     "text": [
      "002 complete\n"
     ]
    },
    {
     "name": "stderr",
     "output_type": "stream",
     "text": [
      "  6%|████▌                                                                     | 2008/32971 [02:33<11:05:04,  1.29s/it]"
     ]
    },
    {
     "name": "stdout",
     "output_type": "stream",
     "text": [
      "003 complete\n"
     ]
    },
    {
     "name": "stderr",
     "output_type": "stream",
     "text": [
      "  8%|█████▌                                                                    | 2506/32971 [03:12<11:59:18,  1.42s/it]"
     ]
    },
    {
     "name": "stdout",
     "output_type": "stream",
     "text": [
      "004 complete\n"
     ]
    },
    {
     "name": "stderr",
     "output_type": "stream",
     "text": [
      "  9%|██████▊                                                                    | 3008/32971 [03:50<6:51:57,  1.21it/s]"
     ]
    },
    {
     "name": "stdout",
     "output_type": "stream",
     "text": [
      "005 complete\n"
     ]
    },
    {
     "name": "stderr",
     "output_type": "stream",
     "text": [
      " 11%|███████▉                                                                   | 3507/32971 [04:26<9:14:45,  1.13s/it]"
     ]
    },
    {
     "name": "stdout",
     "output_type": "stream",
     "text": [
      "006 complete\n"
     ]
    },
    {
     "name": "stderr",
     "output_type": "stream",
     "text": [
      " 12%|████████▉                                                                 | 4005/32971 [05:15<14:47:29,  1.84s/it]"
     ]
    },
    {
     "name": "stdout",
     "output_type": "stream",
     "text": [
      "007 complete\n"
     ]
    },
    {
     "name": "stderr",
     "output_type": "stream",
     "text": [
      " 14%|██████████▎                                                                | 4508/32971 [05:52<6:21:27,  1.24it/s]"
     ]
    },
    {
     "name": "stdout",
     "output_type": "stream",
     "text": [
      "008 complete\n"
     ]
    },
    {
     "name": "stderr",
     "output_type": "stream",
     "text": [
      " 15%|███████████▍                                                               | 5016/32971 [06:14<2:20:12,  3.32it/s]"
     ]
    },
    {
     "name": "stdout",
     "output_type": "stream",
     "text": [
      "009 complete\n"
     ]
    },
    {
     "name": "stderr",
     "output_type": "stream",
     "text": [
      " 17%|████████████▌                                                              | 5506/32971 [06:33<2:59:53,  2.54it/s]"
     ]
    },
    {
     "name": "stdout",
     "output_type": "stream",
     "text": [
      "010 complete\n"
     ]
    },
    {
     "name": "stderr",
     "output_type": "stream",
     "text": [
      " 18%|█████████████▋                                                             | 6014/32971 [07:12<5:13:06,  1.43it/s]"
     ]
    },
    {
     "name": "stdout",
     "output_type": "stream",
     "text": [
      "011 complete\n"
     ]
    },
    {
     "name": "stderr",
     "output_type": "stream",
     "text": [
      " 20%|██████████████▊                                                            | 6509/32971 [07:42<4:56:05,  1.49it/s]"
     ]
    },
    {
     "name": "stdout",
     "output_type": "stream",
     "text": [
      "012 complete\n"
     ]
    },
    {
     "name": "stderr",
     "output_type": "stream",
     "text": [
      " 21%|███████████████▉                                                           | 7008/32971 [08:00<2:25:16,  2.98it/s]"
     ]
    },
    {
     "name": "stdout",
     "output_type": "stream",
     "text": [
      "013 complete\n"
     ]
    },
    {
     "name": "stderr",
     "output_type": "stream",
     "text": [
      " 23%|█████████████████                                                          | 7513/32971 [08:38<4:51:04,  1.46it/s]"
     ]
    },
    {
     "name": "stdout",
     "output_type": "stream",
     "text": [
      "014 complete\n"
     ]
    },
    {
     "name": "stderr",
     "output_type": "stream",
     "text": [
      " 24%|██████████████████▏                                                        | 8008/32971 [09:12<5:49:34,  1.19it/s]"
     ]
    },
    {
     "name": "stdout",
     "output_type": "stream",
     "text": [
      "015 complete\n"
     ]
    },
    {
     "name": "stderr",
     "output_type": "stream",
     "text": [
      " 26%|███████████████████▎                                                       | 8506/32971 [09:40<5:04:41,  1.34it/s]"
     ]
    },
    {
     "name": "stdout",
     "output_type": "stream",
     "text": [
      "016 complete\n"
     ]
    },
    {
     "name": "stderr",
     "output_type": "stream",
     "text": [
      " 27%|████████████████████▍                                                      | 9006/32971 [10:18<6:15:48,  1.06it/s]"
     ]
    },
    {
     "name": "stdout",
     "output_type": "stream",
     "text": [
      "017 complete\n"
     ]
    },
    {
     "name": "stderr",
     "output_type": "stream",
     "text": [
      " 29%|█████████████████████▋                                                     | 9507/32971 [10:54<6:24:18,  1.02it/s]"
     ]
    },
    {
     "name": "stdout",
     "output_type": "stream",
     "text": [
      "018 complete\n"
     ]
    },
    {
     "name": "stderr",
     "output_type": "stream",
     "text": [
      " 30%|██████████████████████▏                                                  | 10006/32971 [11:39<10:01:59,  1.57s/it]"
     ]
    },
    {
     "name": "stdout",
     "output_type": "stream",
     "text": [
      "019 complete\n"
     ]
    },
    {
     "name": "stderr",
     "output_type": "stream",
     "text": [
      " 32%|███████████████████████▌                                                  | 10507/32971 [12:26<8:28:54,  1.36s/it]"
     ]
    },
    {
     "name": "stdout",
     "output_type": "stream",
     "text": [
      "020 complete\n"
     ]
    },
    {
     "name": "stderr",
     "output_type": "stream",
     "text": [
      " 33%|████████████████████████▋                                                 | 11014/32971 [12:59<3:10:28,  1.92it/s]"
     ]
    },
    {
     "name": "stdout",
     "output_type": "stream",
     "text": [
      "021 complete\n"
     ]
    },
    {
     "name": "stderr",
     "output_type": "stream",
     "text": [
      " 35%|█████████████████████████▊                                                | 11507/32971 [13:34<5:22:43,  1.11it/s]"
     ]
    },
    {
     "name": "stdout",
     "output_type": "stream",
     "text": [
      "022 complete\n"
     ]
    },
    {
     "name": "stderr",
     "output_type": "stream",
     "text": [
      " 36%|██████████████████████████▉                                               | 12006/32971 [14:10<5:41:53,  1.02it/s]"
     ]
    },
    {
     "name": "stdout",
     "output_type": "stream",
     "text": [
      "023 complete\n"
     ]
    },
    {
     "name": "stderr",
     "output_type": "stream",
     "text": [
      " 38%|████████████████████████████                                              | 12508/32971 [14:47<4:46:50,  1.19it/s]"
     ]
    },
    {
     "name": "stdout",
     "output_type": "stream",
     "text": [
      "024 complete\n"
     ]
    },
    {
     "name": "stderr",
     "output_type": "stream",
     "text": [
      " 39%|████████████████████████████▊                                            | 13004/32971 [15:45<11:32:18,  2.08s/it]"
     ]
    },
    {
     "name": "stdout",
     "output_type": "stream",
     "text": [
      "025 complete\n"
     ]
    },
    {
     "name": "stderr",
     "output_type": "stream",
     "text": [
      " 41%|██████████████████████████████▎                                           | 13508/32971 [16:33<6:39:47,  1.23s/it]"
     ]
    },
    {
     "name": "stdout",
     "output_type": "stream",
     "text": [
      "026 complete\n"
     ]
    },
    {
     "name": "stderr",
     "output_type": "stream",
     "text": [
      " 42%|███████████████████████████████▍                                          | 14009/32971 [17:09<4:21:11,  1.21it/s]"
     ]
    },
    {
     "name": "stdout",
     "output_type": "stream",
     "text": [
      "027 complete\n"
     ]
    },
    {
     "name": "stderr",
     "output_type": "stream",
     "text": [
      " 44%|████████████████████████████████▌                                         | 14506/32971 [17:50<5:59:31,  1.17s/it]"
     ]
    },
    {
     "name": "stdout",
     "output_type": "stream",
     "text": [
      "028 complete\n"
     ]
    },
    {
     "name": "stderr",
     "output_type": "stream",
     "text": [
      " 46%|█████████████████████████████████▏                                       | 15002/32971 [18:44<11:47:53,  2.36s/it]"
     ]
    },
    {
     "name": "stdout",
     "output_type": "stream",
     "text": [
      "029 complete\n"
     ]
    },
    {
     "name": "stderr",
     "output_type": "stream",
     "text": [
      " 47%|██████████████████████████████████▊                                       | 15508/32971 [19:22<4:31:43,  1.07it/s]"
     ]
    },
    {
     "name": "stdout",
     "output_type": "stream",
     "text": [
      "030 complete\n"
     ]
    },
    {
     "name": "stderr",
     "output_type": "stream",
     "text": [
      " 49%|███████████████████████████████████▉                                      | 16016/32971 [19:52<2:12:57,  2.13it/s]"
     ]
    },
    {
     "name": "stdout",
     "output_type": "stream",
     "text": [
      "031 complete\n"
     ]
    },
    {
     "name": "stderr",
     "output_type": "stream",
     "text": [
      " 50%|█████████████████████████████████████                                     | 16506/32971 [20:23<3:52:40,  1.18it/s]"
     ]
    },
    {
     "name": "stdout",
     "output_type": "stream",
     "text": [
      "032 complete\n"
     ]
    },
    {
     "name": "stderr",
     "output_type": "stream",
     "text": [
      " 52%|██████████████████████████████████████▏                                   | 17007/32971 [20:53<3:41:11,  1.20it/s]"
     ]
    },
    {
     "name": "stdout",
     "output_type": "stream",
     "text": [
      "033 complete\n"
     ]
    },
    {
     "name": "stderr",
     "output_type": "stream",
     "text": [
      " 53%|███████████████████████████████████████▎                                  | 17506/32971 [21:25<3:19:20,  1.29it/s]"
     ]
    },
    {
     "name": "stdout",
     "output_type": "stream",
     "text": [
      "034 complete\n"
     ]
    },
    {
     "name": "stderr",
     "output_type": "stream",
     "text": [
      " 55%|████████████████████████████████████████▍                                 | 18006/32971 [21:52<2:34:33,  1.61it/s]"
     ]
    },
    {
     "name": "stdout",
     "output_type": "stream",
     "text": [
      "035 complete\n"
     ]
    },
    {
     "name": "stderr",
     "output_type": "stream",
     "text": [
      " 56%|█████████████████████████████████████████▌                                | 18506/32971 [22:26<3:39:38,  1.10it/s]"
     ]
    },
    {
     "name": "stdout",
     "output_type": "stream",
     "text": [
      "036 complete\n"
     ]
    },
    {
     "name": "stderr",
     "output_type": "stream",
     "text": [
      " 58%|██████████████████████████████████████████▋                               | 19005/32971 [23:07<5:14:36,  1.35s/it]"
     ]
    },
    {
     "name": "stdout",
     "output_type": "stream",
     "text": [
      "037 complete\n"
     ]
    },
    {
     "name": "stderr",
     "output_type": "stream",
     "text": [
      " 59%|███████████████████████████████████████████▊                              | 19506/32971 [23:53<4:59:15,  1.33s/it]"
     ]
    },
    {
     "name": "stdout",
     "output_type": "stream",
     "text": [
      "038 complete\n"
     ]
    },
    {
     "name": "stderr",
     "output_type": "stream",
     "text": [
      " 61%|████████████████████████████████████████████▉                             | 20006/32971 [24:37<4:50:46,  1.35s/it]"
     ]
    },
    {
     "name": "stdout",
     "output_type": "stream",
     "text": [
      "039 complete\n"
     ]
    },
    {
     "name": "stderr",
     "output_type": "stream",
     "text": [
      " 62%|██████████████████████████████████████████████                            | 20514/32971 [25:12<2:03:41,  1.68it/s]"
     ]
    },
    {
     "name": "stdout",
     "output_type": "stream",
     "text": [
      "040 complete\n"
     ]
    },
    {
     "name": "stderr",
     "output_type": "stream",
     "text": [
      " 64%|███████████████████████████████████████████████▏                          | 21014/32971 [25:41<1:36:55,  2.06it/s]"
     ]
    },
    {
     "name": "stdout",
     "output_type": "stream",
     "text": [
      "041 complete\n"
     ]
    },
    {
     "name": "stderr",
     "output_type": "stream",
     "text": [
      " 65%|████████████████████████████████████████████████▎                         | 21507/32971 [26:09<2:05:43,  1.52it/s]"
     ]
    },
    {
     "name": "stdout",
     "output_type": "stream",
     "text": [
      "042 complete\n"
     ]
    },
    {
     "name": "stderr",
     "output_type": "stream",
     "text": [
      " 67%|█████████████████████████████████████████████████▍                        | 22008/32971 [26:36<1:53:33,  1.61it/s]"
     ]
    },
    {
     "name": "stdout",
     "output_type": "stream",
     "text": [
      "043 complete\n"
     ]
    },
    {
     "name": "stderr",
     "output_type": "stream",
     "text": [
      " 68%|██████████████████████████████████████████████████▌                       | 22515/32971 [27:02<1:05:54,  2.64it/s]"
     ]
    },
    {
     "name": "stdout",
     "output_type": "stream",
     "text": [
      "044 complete\n"
     ]
    },
    {
     "name": "stderr",
     "output_type": "stream",
     "text": [
      " 70%|███████████████████████████████████████████████████▋                      | 23008/32971 [27:30<1:46:57,  1.55it/s]"
     ]
    },
    {
     "name": "stdout",
     "output_type": "stream",
     "text": [
      "045 complete\n"
     ]
    },
    {
     "name": "stderr",
     "output_type": "stream",
     "text": [
      " 71%|████████████████████████████████████████████████████▊                     | 23506/32971 [27:59<1:38:21,  1.60it/s]"
     ]
    },
    {
     "name": "stdout",
     "output_type": "stream",
     "text": [
      "046 complete\n"
     ]
    },
    {
     "name": "stderr",
     "output_type": "stream",
     "text": [
      " 73%|█████████████████████████████████████████████████████▉                    | 24008/32971 [28:30<1:50:20,  1.35it/s]"
     ]
    },
    {
     "name": "stdout",
     "output_type": "stream",
     "text": [
      "047 complete\n"
     ]
    },
    {
     "name": "stderr",
     "output_type": "stream",
     "text": [
      " 74%|███████████████████████████████████████████████████████                   | 24515/32971 [29:03<1:19:06,  1.78it/s]"
     ]
    },
    {
     "name": "stdout",
     "output_type": "stream",
     "text": [
      "048 complete\n"
     ]
    },
    {
     "name": "stderr",
     "output_type": "stream",
     "text": [
      " 76%|████████████████████████████████████████████████████████▏                 | 25011/32971 [29:44<1:56:17,  1.14it/s]"
     ]
    },
    {
     "name": "stdout",
     "output_type": "stream",
     "text": [
      "049 complete\n"
     ]
    },
    {
     "name": "stderr",
     "output_type": "stream",
     "text": [
      " 77%|█████████████████████████████████████████████████████████▎                | 25512/32971 [30:27<2:05:40,  1.01s/it]"
     ]
    },
    {
     "name": "stdout",
     "output_type": "stream",
     "text": [
      "050 complete\n"
     ]
    },
    {
     "name": "stderr",
     "output_type": "stream",
     "text": [
      " 79%|██████████████████████████████████████████████████████████▎               | 26007/32971 [31:08<2:26:25,  1.26s/it]"
     ]
    },
    {
     "name": "stdout",
     "output_type": "stream",
     "text": [
      "051 complete\n"
     ]
    },
    {
     "name": "stderr",
     "output_type": "stream",
     "text": [
      " 80%|███████████████████████████████████████████████████████████▍              | 26507/32971 [31:43<1:27:52,  1.23it/s]"
     ]
    },
    {
     "name": "stdout",
     "output_type": "stream",
     "text": [
      "052 complete\n"
     ]
    },
    {
     "name": "stderr",
     "output_type": "stream",
     "text": [
      " 82%|████████████████████████████████████████████████████████████▌             | 27007/32971 [32:18<1:33:01,  1.07it/s]"
     ]
    },
    {
     "name": "stdout",
     "output_type": "stream",
     "text": [
      "053 complete\n"
     ]
    },
    {
     "name": "stderr",
     "output_type": "stream",
     "text": [
      " 83%|█████████████████████████████████████████████████████████████▋            | 27508/32971 [32:53<1:19:03,  1.15it/s]"
     ]
    },
    {
     "name": "stdout",
     "output_type": "stream",
     "text": [
      "054 complete\n"
     ]
    },
    {
     "name": "stderr",
     "output_type": "stream",
     "text": [
      " 85%|██████████████████████████████████████████████████████████████▊           | 28006/32971 [33:34<1:54:41,  1.39s/it]"
     ]
    },
    {
     "name": "stdout",
     "output_type": "stream",
     "text": [
      "055 complete\n"
     ]
    },
    {
     "name": "stderr",
     "output_type": "stream",
     "text": [
      " 86%|█████████████████████████████████████████████████████████████████▋          | 28510/32971 [33:59<34:13,  2.17it/s]"
     ]
    },
    {
     "name": "stdout",
     "output_type": "stream",
     "text": [
      "056 complete\n"
     ]
    },
    {
     "name": "stderr",
     "output_type": "stream",
     "text": [
      " 88%|██████████████████████████████████████████████████████████████████▊         | 29010/32971 [34:16<16:36,  3.98it/s]"
     ]
    },
    {
     "name": "stdout",
     "output_type": "stream",
     "text": [
      "057 complete\n"
     ]
    },
    {
     "name": "stderr",
     "output_type": "stream",
     "text": [
      " 90%|████████████████████████████████████████████████████████████████████        | 29511/32971 [34:40<27:05,  2.13it/s]"
     ]
    },
    {
     "name": "stdout",
     "output_type": "stream",
     "text": [
      "058 complete\n"
     ]
    },
    {
     "name": "stderr",
     "output_type": "stream",
     "text": [
      " 91%|█████████████████████████████████████████████████████████████████████▏      | 30006/32971 [35:06<33:19,  1.48it/s]"
     ]
    },
    {
     "name": "stdout",
     "output_type": "stream",
     "text": [
      "059 complete\n"
     ]
    },
    {
     "name": "stderr",
     "output_type": "stream",
     "text": [
      " 93%|██████████████████████████████████████████████████████████████████████▎     | 30507/32971 [35:31<28:37,  1.43it/s]"
     ]
    },
    {
     "name": "stdout",
     "output_type": "stream",
     "text": [
      "060 complete\n"
     ]
    },
    {
     "name": "stderr",
     "output_type": "stream",
     "text": [
      " 94%|███████████████████████████████████████████████████████████████████████▍    | 31007/32971 [35:55<16:27,  1.99it/s]"
     ]
    },
    {
     "name": "stdout",
     "output_type": "stream",
     "text": [
      "061 complete\n"
     ]
    },
    {
     "name": "stderr",
     "output_type": "stream",
     "text": [
      " 96%|████████████████████████████████████████████████████████████████████████▋   | 31508/32971 [36:20<13:13,  1.84it/s]"
     ]
    },
    {
     "name": "stdout",
     "output_type": "stream",
     "text": [
      "062 complete\n"
     ]
    },
    {
     "name": "stderr",
     "output_type": "stream",
     "text": [
      " 97%|█████████████████████████████████████████████████████████████████████████▊  | 32008/32971 [36:47<09:11,  1.75it/s]"
     ]
    },
    {
     "name": "stdout",
     "output_type": "stream",
     "text": [
      "063 complete\n"
     ]
    },
    {
     "name": "stderr",
     "output_type": "stream",
     "text": [
      " 99%|██████████████████████████████████████████████████████████████████████████▉ | 32515/32971 [37:10<03:08,  2.42it/s]"
     ]
    },
    {
     "name": "stdout",
     "output_type": "stream",
     "text": [
      "064 complete\n"
     ]
    },
    {
     "name": "stderr",
     "output_type": "stream",
     "text": [
      "100%|████████████████████████████████████████████████████████████████████████████| 32971/32971 [37:17<00:00, 14.74it/s]"
     ]
    },
    {
     "name": "stdout",
     "output_type": "stream",
     "text": [
      "2237.371967315674\n"
     ]
    },
    {
     "name": "stderr",
     "output_type": "stream",
     "text": [
      "\n"
     ]
    }
   ],
   "source": [
    "text_dict = {'filename':[],'text':[],'array':[]}\n",
    "\n",
    "path='./dataset/KlecSpeech/Validation/'\n",
    "\n",
    "# path = Path('./한국어 강의 음성/Validation/')\n",
    "\n",
    "# wav 파일 기준으로 text 파일이름이 동일, 확장자는 wav, txt로 각각 다름\n",
    "files = [f for f in glob.glob(path + \"**/*.wav\", recursive=True)]\n",
    "\n",
    "# 테스트 코드\n",
    "# files = files[0:3]\n",
    "# print(files)\n",
    "import time\n",
    "\n",
    "start = time.time()\n",
    "print(\"This time is being calculated\")\n",
    "\n",
    "for i in tqdm(range(len(files))):\n",
    "    txt_file = files[i].replace(\".wav\", \".txt\")\n",
    "    files[i] = files[i].replace(\"\\\\\", \"/\")\n",
    "\n",
    "#     print(txt_file)\n",
    "    if not os.path.exists(txt_file):\n",
    "        print(\"The file does not exist\", txt_file)\n",
    "    \n",
    "    with open(txt_file ,'r',encoding='utf8') as f:\n",
    "        text = f.read()\n",
    "        \n",
    "        # 텍스트 전처리\n",
    "        text = preprocessing(text)\n",
    "\n",
    "        # 항목들 값을 저장 \\\n",
    "        text_dict['filename'].append(files[i]) # filename\n",
    "        text_dict['text'].append(text)\n",
    "        \n",
    "        # 각 wav파일을 16000으로 나눠서 저장\n",
    "        array,_ = librosa.load(files[i],sr=16000)\n",
    "        text_dict['array'].append(list(array))\n",
    "\n",
    "    if i%500==499:\n",
    "        n=i//500\n",
    "        df = pd.DataFrame(text_dict)\n",
    "        df.to_csv(f'klecspeech_ko_500_{n:03d}.csv',index=False,sep='\\t')\n",
    "        print(f'{n:03d} complete')\n",
    "\n",
    "        # text_dict을 초기화\n",
    "        text_dict = {'filename':[],'text':[],'array':[]}\n",
    "        \n",
    "# df = pd.DataFrame(text_dict)\n",
    "# df.head()\n",
    "\n",
    "print(time.time() - start)"
   ]
  },
  {
   "cell_type": "code",
   "execution_count": null,
   "id": "2abba7f2",
   "metadata": {
    "id": "2abba7f2"
   },
   "outputs": [],
   "source": [
    "csv_df = pd.read_csv('klecspeech_ko_000.csv',sep='\\t')\n",
    "csv_df.head()"
   ]
  },
  {
   "cell_type": "code",
   "execution_count": null,
   "id": "70c3d3cc",
   "metadata": {
    "id": "70c3d3cc"
   },
   "outputs": [],
   "source": [
    "for i in range(100):\n",
    "    print(text_dict['src'][i], text_dict['text'][i])"
   ]
  },
  {
   "cell_type": "code",
   "execution_count": null,
   "id": "c65d93f5",
   "metadata": {
    "id": "c65d93f5"
   },
   "outputs": [],
   "source": [
    "df.to_csv('order_speech_ko.csv')"
   ]
  },
  {
   "cell_type": "code",
   "execution_count": null,
   "id": "13c99902",
   "metadata": {
    "id": "13c99902"
   },
   "outputs": [],
   "source": [
    "df['text'].unique()\n",
    "# df.read_csv('order_speech_ko.csv')\n",
    "# result = [i for i in my_list if i]"
   ]
  },
  {
   "cell_type": "code",
   "execution_count": null,
   "id": "eb69b568",
   "metadata": {
    "id": "eb69b568"
   },
   "outputs": [],
   "source": [
    "df.info()"
   ]
  },
  {
   "cell_type": "code",
   "execution_count": null,
   "id": "56e41898",
   "metadata": {
    "id": "56e41898"
   },
   "outputs": [],
   "source": [
    "df.describe()"
   ]
  },
  {
   "cell_type": "markdown",
   "id": "710171bf",
   "metadata": {
    "id": "710171bf"
   },
   "source": [
    "## 텍스트 누락 확인"
   ]
  },
  {
   "cell_type": "code",
   "execution_count": null,
   "id": "4330a695",
   "metadata": {
    "id": "4330a695"
   },
   "outputs": [],
   "source": [
    "df['text'].min()"
   ]
  },
  {
   "cell_type": "code",
   "execution_count": null,
   "id": "d77200cb",
   "metadata": {
    "id": "d77200cb"
   },
   "outputs": [],
   "source": [
    "df['text_len'] = df['text'].map(len)\n",
    "\n",
    "df[['text_len']].idxmin()"
   ]
  },
  {
   "cell_type": "code",
   "execution_count": null,
   "id": "ee27ddd8",
   "metadata": {
    "id": "ee27ddd8"
   },
   "outputs": [],
   "source": [
    "df[['text_len']].idxmin()"
   ]
  },
  {
   "cell_type": "code",
   "execution_count": null,
   "id": "1b4019ea",
   "metadata": {
    "id": "1b4019ea"
   },
   "outputs": [],
   "source": [
    "df['text'][22410]"
   ]
  },
  {
   "cell_type": "code",
   "execution_count": null,
   "id": "6b23f17c",
   "metadata": {
    "id": "6b23f17c"
   },
   "outputs": [],
   "source": [
    "print(df['src'][22410])"
   ]
  },
  {
   "cell_type": "code",
   "execution_count": null,
   "id": "961a0456",
   "metadata": {
    "id": "961a0456"
   },
   "outputs": [],
   "source": [
    "# 찾아보면 #NAME이라고 되어 있음."
   ]
  }
 ],
 "metadata": {
  "colab": {
   "collapsed_sections": [],
   "name": "AI_create_csv_속기사 전처리 한국인 강의 음성_v3.ipynb",
   "provenance": []
  },
  "kernelspec": {
   "display_name": "STT",
   "language": "python",
   "name": "stt"
  },
  "language_info": {
   "codemirror_mode": {
    "name": "ipython",
    "version": 3
   },
   "file_extension": ".py",
   "mimetype": "text/x-python",
   "name": "python",
   "nbconvert_exporter": "python",
   "pygments_lexer": "ipython3",
   "version": "3.7.13"
  }
 },
 "nbformat": 4,
 "nbformat_minor": 5
}
