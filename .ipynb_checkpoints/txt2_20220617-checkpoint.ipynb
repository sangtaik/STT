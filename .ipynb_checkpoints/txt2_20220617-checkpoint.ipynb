{
 "cells": [
  {
   "cell_type": "code",
   "execution_count": null,
   "id": "59a037d5",
   "metadata": {},
   "outputs": [],
   "source": [
    "import os\n",
    "import glob\n",
    "import pandas as pd\n",
    "import numpy as np\n",
    "import re"
   ]
  },
  {
   "cell_type": "code",
   "execution_count": null,
   "id": "96d7080f",
   "metadata": {},
   "outputs": [],
   "source": [
    "# import fileinput\n",
    "\n",
    "# shebang = \"#! /usr/bin/python\\n\"\n",
    "# for line in fileinput.input(inplace=1):\n",
    "#     if fileinput.isfirstline() and line != shebang:\n",
    "#        print shebang,\n",
    "#        if not line.startswith(\"#!\"): \n",
    "#           print line,\n",
    "#     else:\n",
    "#        print line,"
   ]
  },
  {
   "cell_type": "code",
   "execution_count": null,
   "id": "f81c438d",
   "metadata": {},
   "outputs": [],
   "source": [
    "path = '../Jaeyoon/face/voice/voic/KsponSpeech_01/'\n",
    "files = [f for f in glob.glob(path + \"**/\", recursive=True)]\n",
    "filename = os.listdir(path)\n",
    "files = files[1:]\n",
    "files"
   ]
  },
  {
   "cell_type": "code",
   "execution_count": null,
   "id": "7bf44e82",
   "metadata": {},
   "outputs": [],
   "source": [
    "path = '../Jaeyoon/face/voice/voic/KsponSpeech_01/'\n",
    "file_list = os.listdir(path)\n",
    "file_list\n",
    "\n",
    "\n",
    "for file_name in file_list:\n",
    "\n",
    "    data = pd.read_csv('../Jaeyoon/face/voice/voic/total_text/'+file_name+'.txt',header=None, sep = \"\\t\", engine='python', encoding = \"cp949\")\n",
    "    data.columns=[\"text\"]\n",
    "    df = pd.DataFrame(data,columns=['filename','text'])\n",
    "\n",
    "    txt_path = '../Jaeyoon/face/voice/voic/KsponSpeech_01/'+file_name+'/'\n",
    "    files = [f for f in glob.glob(txt_path + \"**/*.txt\", recursive=True)]\n",
    "    wavname = []\n",
    "    for file in files:\n",
    "        basename = os.path.basename(file[:-3])\n",
    "        basename = basename + 'wav'\n",
    "        wavname.append(basename)\n",
    "    order_speech = os.path.basename(txt_path[:-1])\n",
    "    df['filename'] = wavname\n",
    "    df['text'] = df['text'].str.replace(\"[+?!]\",\"\",regex=True)\n",
    "    df['text'] = df['text'].str.replace(\"o/\",\"\",regex=True)\n",
    "    df['text'] = df['text'].str.replace(\"u/\",\"<unk>\",regex=True)\n",
    "    df['text'] = df['text'].str.replace(\"[(].+[)]/\",\"\",regex=True)\n",
    "    df['text'] = df['text'].str.replace(\"[()]\",\"\",regex=True)\n",
    "# re_text = re.sub(r'([^)])/', '', text)\n",
    "# df.to_csv(order_speech + '.csv')"
   ]
  },
  {
   "cell_type": "code",
   "execution_count": null,
   "id": "9a55cccb",
   "metadata": {},
   "outputs": [],
   "source": [
    "df[85:90]"
   ]
  },
  {
   "cell_type": "code",
   "execution_count": null,
   "id": "25c29da6",
   "metadata": {},
   "outputs": [],
   "source": [
    "# df['text'] = df['text'].str.replace(\"[l/o/b/n/+?!]\",\"\",regex=True)"
   ]
  },
  {
   "cell_type": "code",
   "execution_count": null,
   "id": "fcf01179",
   "metadata": {},
   "outputs": [],
   "source": [
    "df.head()"
   ]
  },
  {
   "cell_type": "code",
   "execution_count": null,
   "id": "63483109",
   "metadata": {},
   "outputs": [],
   "source": [
    "df.to_csv('order_speech_ko.csv')"
   ]
  },
  {
   "cell_type": "code",
   "execution_count": null,
   "id": "df6ed14f",
   "metadata": {},
   "outputs": [],
   "source": [
    "path = '../Jaeyoon/face/voice/voic/KsponSpeech_01/'\n",
    "file_list = os.listdir(path)\n",
    "file_list"
   ]
  },
  {
   "cell_type": "code",
   "execution_count": 6,
   "id": "4d0903cd",
   "metadata": {},
   "outputs": [
    {
     "name": "stdout",
     "output_type": "stream",
     "text": [
      "[]\n",
      "[]\n",
      "[]\n",
      "[]\n",
      "[]\n",
      "[]\n",
      "[]\n",
      "[]\n",
      "[]\n",
      "[]\n",
      "[]\n",
      "[]\n",
      "[]\n",
      "[]\n",
      "[]\n",
      "[]\n",
      "[]\n",
      "[]\n",
      "[]\n",
      "[]\n",
      "[]\n",
      "[]\n",
      "[]\n",
      "[]\n",
      "[]\n",
      "[]\n",
      "[]\n",
      "[]\n",
      "[]\n",
      "[]\n",
      "[]\n",
      "[]\n",
      "[]\n",
      "[]\n",
      "[]\n",
      "[]\n",
      "[]\n",
      "[]\n",
      "[]\n",
      "[]\n",
      "[]\n",
      "[]\n",
      "[]\n",
      "[]\n",
      "[]\n",
      "[]\n",
      "[]\n",
      "[]\n",
      "[]\n"
     ]
    }
   ],
   "source": [
    "#완성코드\n",
    "import os\n",
    "import pn\n",
    "path = '../Jaeyoon/face/voice/voic/KsponSpeech_01/'\n",
    "file_list = os.listdir(path)\n",
    "file_list\n",
    "\n",
    "\n",
    "for filename in file_list:\n",
    "    data = pd.read_csv('../Jaeyoon/face/voice/voic/total_text/'+filename+'.txt',header=None, sep = \"\\t\", engine='python', encoding = \"cp949\")\n",
    "    data.columns=[\"text\"]\n",
    "    df = pd.DataFrame(data,columns=['filename','text'])\n",
    "\n",
    "    txt_path = '../Jaeyoon/face/voice/voic/KsponSpeech_01/'+filename+'/'\n",
    "    files = [f for f in glob.glob(txt_path + \"**/*.txt\", recursive=True)]\n",
    "    wavname = []\n",
    "    for file in files:\n",
    "        basename = os.path.basename(file[:-3])\n",
    "        basename = basename + 'wav'\n",
    "        wavname.append(basename)\n",
    "    order_speech = os.path.basename(txt_path[:-1])\n",
    "    df['filename'] = wavname\n",
    "    df['text'] = df['text'].str.replace(\"[+?!]\",\"\",regex=True)\n",
    "    df['text'] = df['text'].str.replace(\"o/\",\"\",regex=True)\n",
    "    df['text'] = df['text'].str.replace(\"u/\",\"<unk>\",regex=True)\n",
    "    df['text'] = df['text'].str.replace(r'\\([^\\)]*\\)\\/|\\(|\\)', '',regex=True)\n",
    "    # df['text'] = df['text'].str.replace(\"[(].+[)]/\",\"\",regex=True)\n",
    "    # df['text'] = df['text'].str.replace(\"[()]\",\"\",regex=True)\n",
    "\n",
    "#     df.head()\n",
    "#     re_text = re.sub(r'([^)])/', '', text)\n",
    "    df.to_csv(filename + '.csv')"
   ]
  },
  {
   "cell_type": "code",
   "execution_count": null,
   "id": "aa176b9c",
   "metadata": {},
   "outputs": [],
   "source": [
    "# path = '../Jaeyoon/face/voice/voic/KsponSpeech_01/KsponSpeech_0001/' #wave 파일만 있을때\n",
    "# filename = os.listdir(path)\n",
    "# df = pd.DataFrame(data,columns=['filename','text']) \n",
    "# df['filename'] = filename"
   ]
  },
  {
   "cell_type": "code",
   "execution_count": null,
   "id": "49b7c819",
   "metadata": {},
   "outputs": [],
   "source": [
    "# # 결과 파일명 지정\n",
    "# basename = os.path.basename(txt_path[:-1])\n",
    "# outfile_name = basename+\".txt\""
   ]
  }
 ],
 "metadata": {
  "kernelspec": {
   "display_name": "Python 3 (ipykernel)",
   "language": "python",
   "name": "python3"
  },
  "language_info": {
   "codemirror_mode": {
    "name": "ipython",
    "version": 3
   },
   "file_extension": ".py",
   "mimetype": "text/x-python",
   "name": "python",
   "nbconvert_exporter": "python",
   "pygments_lexer": "ipython3",
   "version": "3.9.7"
  }
 },
 "nbformat": 4,
 "nbformat_minor": 5
}
