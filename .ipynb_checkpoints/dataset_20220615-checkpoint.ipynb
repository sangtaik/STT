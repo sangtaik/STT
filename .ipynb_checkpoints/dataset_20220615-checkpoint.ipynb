{
 "cells": [
  {
   "cell_type": "code",
   "execution_count": 1,
   "metadata": {},
   "outputs": [],
   "source": [
    "import json\n",
    "import os\n",
    "import pandas as pd\n",
    "from tqdm import tqdm\n",
    "from pathlib import Path"
   ]
  },
  {
   "cell_type": "code",
   "execution_count": 11,
   "metadata": {},
   "outputs": [],
   "source": [
    "text_path = Path('./dataset/text/')\n",
    "text_list = os.listdir(text_path)\n",
    "audio_path = Path('./dataset/audio/')"
   ]
  },
  {
   "cell_type": "code",
   "execution_count": 3,
   "metadata": {},
   "outputs": [
    {
     "name": "stderr",
     "output_type": "stream",
     "text": [
      "100%|██████████| 142367/142367 [01:38<00:00, 1442.76it/s]\n"
     ]
    },
    {
     "data": {
      "text/html": [
       "<div>\n",
       "<style scoped>\n",
       "    .dataframe tbody tr th:only-of-type {\n",
       "        vertical-align: middle;\n",
       "    }\n",
       "\n",
       "    .dataframe tbody tr th {\n",
       "        vertical-align: top;\n",
       "    }\n",
       "\n",
       "    .dataframe thead th {\n",
       "        text-align: right;\n",
       "    }\n",
       "</style>\n",
       "<table border=\"1\" class=\"dataframe\">\n",
       "  <thead>\n",
       "    <tr style=\"text-align: right;\">\n",
       "      <th></th>\n",
       "      <th>filename</th>\n",
       "      <th>text</th>\n",
       "    </tr>\n",
       "  </thead>\n",
       "  <tbody>\n",
       "    <tr>\n",
       "      <th>0</th>\n",
       "      <td>script1_g_0044-6001-01-01-KSM-F-05-A.wav</td>\n",
       "      <td>보고 있는 영상 정지시켜 줘.</td>\n",
       "    </tr>\n",
       "    <tr>\n",
       "      <th>1</th>\n",
       "      <td>script1_g_0044-6002-01-01-KSM-F-05-A.wav</td>\n",
       "      <td>다음 주까지 날씨가 어때?</td>\n",
       "    </tr>\n",
       "    <tr>\n",
       "      <th>2</th>\n",
       "      <td>script1_g_0044-6003-01-01-KSM-F-05-A.wav</td>\n",
       "      <td>나 대신 점등해 줘.</td>\n",
       "    </tr>\n",
       "    <tr>\n",
       "      <th>3</th>\n",
       "      <td>script1_g_0044-6004-01-01-KSM-F-05-A.wav</td>\n",
       "      <td>이번 주 대체로 흐린지 궁금해.</td>\n",
       "    </tr>\n",
       "    <tr>\n",
       "      <th>4</th>\n",
       "      <td>script1_g_0044-6005-01-01-KSM-F-05-A.wav</td>\n",
       "      <td>지금 당장 취침 등 꺼 줘.</td>\n",
       "    </tr>\n",
       "  </tbody>\n",
       "</table>\n",
       "</div>"
      ],
      "text/plain": [
       "                                   filename               text\n",
       "0  script1_g_0044-6001-01-01-KSM-F-05-A.wav   보고 있는 영상 정지시켜 줘.\n",
       "1  script1_g_0044-6002-01-01-KSM-F-05-A.wav     다음 주까지 날씨가 어때?\n",
       "2  script1_g_0044-6003-01-01-KSM-F-05-A.wav        나 대신 점등해 줘.\n",
       "3  script1_g_0044-6004-01-01-KSM-F-05-A.wav  이번 주 대체로 흐린지 궁금해.\n",
       "4  script1_g_0044-6005-01-01-KSM-F-05-A.wav    지금 당장 취침 등 꺼 줘."
      ]
     },
     "execution_count": 3,
     "metadata": {},
     "output_type": "execute_result"
    }
   ],
   "source": [
    "text_dict = {'filename':[],'text':[]}\n",
    "\n",
    "for i in tqdm(range(len(text_list))):\n",
    "    with open(os.path.join(text_path,text_list[i]),'r',encoding='utf8') as f:\n",
    "        text_json = json.load(f)\n",
    "        # print(text_json)\n",
    "        text_dict['filename'].append(text_json['파일정보']['FileName'])\n",
    "        text_dict['text'].append(text_json['전사정보']['LabelText'])\n",
    "        # print(text_dict)\n",
    "df = pd.DataFrame(text_dict)\n",
    "df.head()"
   ]
  },
  {
   "cell_type": "code",
   "execution_count": 4,
   "metadata": {},
   "outputs": [],
   "source": [
    "df.to_csv('order_speech_ko.csv',index=False)"
   ]
  },
  {
   "cell_type": "markdown",
   "metadata": {},
   "source": [
    "## 모델 테스트용 데이터셋"
   ]
  },
  {
   "cell_type": "code",
   "execution_count": 5,
   "metadata": {},
   "outputs": [
    {
     "name": "stderr",
     "output_type": "stream",
     "text": [
      "100%|██████████| 1000/1000 [00:00<00:00, 1526.73it/s]\n"
     ]
    },
    {
     "data": {
      "text/html": [
       "<div>\n",
       "<style scoped>\n",
       "    .dataframe tbody tr th:only-of-type {\n",
       "        vertical-align: middle;\n",
       "    }\n",
       "\n",
       "    .dataframe tbody tr th {\n",
       "        vertical-align: top;\n",
       "    }\n",
       "\n",
       "    .dataframe thead th {\n",
       "        text-align: right;\n",
       "    }\n",
       "</style>\n",
       "<table border=\"1\" class=\"dataframe\">\n",
       "  <thead>\n",
       "    <tr style=\"text-align: right;\">\n",
       "      <th></th>\n",
       "      <th>filename</th>\n",
       "      <th>text</th>\n",
       "    </tr>\n",
       "  </thead>\n",
       "  <tbody>\n",
       "    <tr>\n",
       "      <th>0</th>\n",
       "      <td>script1_g_0044-6001-01-01-KSM-F-05-A.wav</td>\n",
       "      <td>보고 있는 영상 정지시켜 줘.</td>\n",
       "    </tr>\n",
       "    <tr>\n",
       "      <th>1</th>\n",
       "      <td>script1_g_0044-6002-01-01-KSM-F-05-A.wav</td>\n",
       "      <td>다음 주까지 날씨가 어때?</td>\n",
       "    </tr>\n",
       "    <tr>\n",
       "      <th>2</th>\n",
       "      <td>script1_g_0044-6003-01-01-KSM-F-05-A.wav</td>\n",
       "      <td>나 대신 점등해 줘.</td>\n",
       "    </tr>\n",
       "    <tr>\n",
       "      <th>3</th>\n",
       "      <td>script1_g_0044-6004-01-01-KSM-F-05-A.wav</td>\n",
       "      <td>이번 주 대체로 흐린지 궁금해.</td>\n",
       "    </tr>\n",
       "    <tr>\n",
       "      <th>4</th>\n",
       "      <td>script1_g_0044-6005-01-01-KSM-F-05-A.wav</td>\n",
       "      <td>지금 당장 취침 등 꺼 줘.</td>\n",
       "    </tr>\n",
       "  </tbody>\n",
       "</table>\n",
       "</div>"
      ],
      "text/plain": [
       "                                   filename               text\n",
       "0  script1_g_0044-6001-01-01-KSM-F-05-A.wav   보고 있는 영상 정지시켜 줘.\n",
       "1  script1_g_0044-6002-01-01-KSM-F-05-A.wav     다음 주까지 날씨가 어때?\n",
       "2  script1_g_0044-6003-01-01-KSM-F-05-A.wav        나 대신 점등해 줘.\n",
       "3  script1_g_0044-6004-01-01-KSM-F-05-A.wav  이번 주 대체로 흐린지 궁금해.\n",
       "4  script1_g_0044-6005-01-01-KSM-F-05-A.wav    지금 당장 취침 등 꺼 줘."
      ]
     },
     "execution_count": 5,
     "metadata": {},
     "output_type": "execute_result"
    }
   ],
   "source": [
    "text_dict = {'filename':[],'text':[]}\n",
    "\n",
    "for i in tqdm(range(1000)):\n",
    "    with open(os.path.join(text_path,text_list[i]),'r',encoding='utf8') as f:\n",
    "        text_json = json.load(f)\n",
    "        # print(text_json)\n",
    "        text_dict['filename'].append(text_json['파일정보']['FileName'])\n",
    "        text_dict['text'].append(text_json['전사정보']['LabelText'])\n",
    "        # print(text_dict)\n",
    "df = pd.DataFrame(text_dict)\n",
    "df.head()"
   ]
  },
  {
   "cell_type": "code",
   "execution_count": 6,
   "metadata": {},
   "outputs": [],
   "source": [
    "df.to_csv('order_speech_ko1000.csv',index=False)"
   ]
  },
  {
   "cell_type": "markdown",
   "metadata": {},
   "source": [
    "## 오디오 데이터 추가"
   ]
  },
  {
   "cell_type": "code",
   "execution_count": 7,
   "metadata": {},
   "outputs": [],
   "source": [
    "import librosa"
   ]
  },
  {
   "cell_type": "code",
   "execution_count": 57,
   "metadata": {},
   "outputs": [
    {
     "name": "stderr",
     "output_type": "stream",
     "text": [
      "  1%|          | 1000/142367 [03:37<596:16:20, 15.18s/it]"
     ]
    },
    {
     "name": "stdout",
     "output_type": "stream",
     "text": [
      "000 complete\n"
     ]
    },
    {
     "name": "stderr",
     "output_type": "stream",
     "text": [
      "  1%|▏         | 2001/142367 [07:44<466:00:03, 11.95s/it]"
     ]
    },
    {
     "name": "stdout",
     "output_type": "stream",
     "text": [
      "001 complete\n"
     ]
    },
    {
     "name": "stderr",
     "output_type": "stream",
     "text": [
      "  2%|▏         | 3001/142367 [11:33<377:35:02,  9.75s/it]"
     ]
    },
    {
     "name": "stdout",
     "output_type": "stream",
     "text": [
      "002 complete\n"
     ]
    },
    {
     "name": "stderr",
     "output_type": "stream",
     "text": [
      "  3%|▎         | 4001/142367 [15:48<478:25:00, 12.45s/it]"
     ]
    },
    {
     "name": "stdout",
     "output_type": "stream",
     "text": [
      "003 complete\n"
     ]
    },
    {
     "name": "stderr",
     "output_type": "stream",
     "text": [
      "  4%|▎         | 5001/142367 [19:53<451:55:33, 11.84s/it]"
     ]
    },
    {
     "name": "stdout",
     "output_type": "stream",
     "text": [
      "004 complete\n"
     ]
    },
    {
     "name": "stderr",
     "output_type": "stream",
     "text": [
      "  4%|▍         | 6001/142367 [22:45<249:09:00,  6.58s/it]"
     ]
    },
    {
     "name": "stdout",
     "output_type": "stream",
     "text": [
      "005 complete\n"
     ]
    },
    {
     "name": "stderr",
     "output_type": "stream",
     "text": [
      "  5%|▍         | 7001/142367 [25:49<279:53:03,  7.44s/it]"
     ]
    },
    {
     "name": "stdout",
     "output_type": "stream",
     "text": [
      "006 complete\n"
     ]
    },
    {
     "name": "stderr",
     "output_type": "stream",
     "text": [
      "  6%|▌         | 8001/142367 [28:30<279:21:52,  7.48s/it]"
     ]
    },
    {
     "name": "stdout",
     "output_type": "stream",
     "text": [
      "007 complete\n"
     ]
    },
    {
     "name": "stderr",
     "output_type": "stream",
     "text": [
      "  6%|▋         | 9001/142367 [33:47<491:44:23, 13.27s/it]"
     ]
    },
    {
     "name": "stdout",
     "output_type": "stream",
     "text": [
      "008 complete\n"
     ]
    },
    {
     "name": "stderr",
     "output_type": "stream",
     "text": [
      "  7%|▋         | 10001/142367 [37:06<381:44:21, 10.38s/it]"
     ]
    },
    {
     "name": "stdout",
     "output_type": "stream",
     "text": [
      "009 complete\n"
     ]
    },
    {
     "name": "stderr",
     "output_type": "stream",
     "text": [
      "  8%|▊         | 11001/142367 [40:20<286:02:55,  7.84s/it]"
     ]
    },
    {
     "name": "stdout",
     "output_type": "stream",
     "text": [
      "010 complete\n"
     ]
    },
    {
     "name": "stderr",
     "output_type": "stream",
     "text": [
      "  8%|▊         | 12000/142367 [44:09<516:40:24, 14.27s/it]"
     ]
    },
    {
     "name": "stdout",
     "output_type": "stream",
     "text": [
      "011 complete\n"
     ]
    },
    {
     "name": "stderr",
     "output_type": "stream",
     "text": [
      "  9%|▉         | 13001/142367 [47:51<331:53:37,  9.24s/it]"
     ]
    },
    {
     "name": "stdout",
     "output_type": "stream",
     "text": [
      "012 complete\n"
     ]
    },
    {
     "name": "stderr",
     "output_type": "stream",
     "text": [
      " 10%|▉         | 14000/142367 [51:41<678:10:49, 19.02s/it]"
     ]
    },
    {
     "name": "stdout",
     "output_type": "stream",
     "text": [
      "013 complete\n"
     ]
    },
    {
     "name": "stderr",
     "output_type": "stream",
     "text": [
      " 11%|█         | 15001/142367 [55:11<326:22:54,  9.23s/it]"
     ]
    },
    {
     "name": "stdout",
     "output_type": "stream",
     "text": [
      "014 complete\n"
     ]
    },
    {
     "name": "stderr",
     "output_type": "stream",
     "text": [
      " 11%|█         | 16000/142367 [1:00:05<602:35:53, 17.17s/it]"
     ]
    },
    {
     "name": "stdout",
     "output_type": "stream",
     "text": [
      "015 complete\n"
     ]
    },
    {
     "name": "stderr",
     "output_type": "stream",
     "text": [
      " 12%|█▏        | 17000/142367 [1:07:24<926:20:37, 26.60s/it]"
     ]
    },
    {
     "name": "stdout",
     "output_type": "stream",
     "text": [
      "016 complete\n"
     ]
    },
    {
     "name": "stderr",
     "output_type": "stream",
     "text": [
      " 13%|█▎        | 18000/142367 [1:11:47<542:15:45, 15.70s/it]"
     ]
    },
    {
     "name": "stdout",
     "output_type": "stream",
     "text": [
      "017 complete\n"
     ]
    },
    {
     "name": "stderr",
     "output_type": "stream",
     "text": [
      " 13%|█▎        | 19000/142367 [1:15:20<614:43:52, 17.94s/it]"
     ]
    },
    {
     "name": "stdout",
     "output_type": "stream",
     "text": [
      "018 complete\n"
     ]
    },
    {
     "name": "stderr",
     "output_type": "stream",
     "text": [
      " 14%|█▍        | 20000/142367 [1:19:12<441:47:18, 13.00s/it]"
     ]
    },
    {
     "name": "stdout",
     "output_type": "stream",
     "text": [
      "019 complete\n"
     ]
    },
    {
     "name": "stderr",
     "output_type": "stream",
     "text": [
      " 15%|█▍        | 20999/142367 [1:22:19<5:58:51,  5.64it/s]  "
     ]
    }
   ],
   "source": [
    "text_dict = {'filename':[],'text':[],'array':[]}\n",
    "\n",
    "for i in tqdm(range(\n",
    "    len(text_list)\n",
    "    # 10 # 테스트용\n",
    "    )):\n",
    "    with open(os.path.join(text_path,text_list[i]),'r',encoding='utf8') as f:\n",
    "        text_json = json.load(f)\n",
    "        text_dict['filename'].append(text_json['파일정보']['FileName'])\n",
    "        text_dict['text'].append(text_json['전사정보']['LabelText'])\n",
    "        file_path = os.path.join(audio_path,text_json['파일정보']['FileName'])\n",
    "        array,_ = librosa.load(file_path,sr=16000)\n",
    "        text_dict['array'].append(list(array))\n",
    "    if i%1000==999:\n",
    "        n=i//1000\n",
    "        df = pd.DataFrame(text_dict)\n",
    "        df.to_csv(f'order_speech_ko1000_{n:03d}.csv',index=False,sep='\\t')\n",
    "        text_dict = {'filename':[],'text':[],'array':[]}\n",
    "        print(f'{n:03d} complete')"
   ]
  },
  {
   "cell_type": "code",
   "execution_count": 40,
   "metadata": {},
   "outputs": [
    {
     "data": {
      "text/html": [
       "<div>\n",
       "<style scoped>\n",
       "    .dataframe tbody tr th:only-of-type {\n",
       "        vertical-align: middle;\n",
       "    }\n",
       "\n",
       "    .dataframe tbody tr th {\n",
       "        vertical-align: top;\n",
       "    }\n",
       "\n",
       "    .dataframe thead th {\n",
       "        text-align: right;\n",
       "    }\n",
       "</style>\n",
       "<table border=\"1\" class=\"dataframe\">\n",
       "  <thead>\n",
       "    <tr style=\"text-align: right;\">\n",
       "      <th></th>\n",
       "      <th>filename</th>\n",
       "      <th>text</th>\n",
       "      <th>array</th>\n",
       "    </tr>\n",
       "  </thead>\n",
       "  <tbody>\n",
       "    <tr>\n",
       "      <th>0</th>\n",
       "      <td>script1_g_0044-6001-01-01-KSM-F-05-A.wav</td>\n",
       "      <td>보고 있는 영상 정지시켜 줘.</td>\n",
       "      <td>[0.0, 0.0, 0.0, 0.0, 0.0, 0.0, 0.0, 0.0, 0.0, ...</td>\n",
       "    </tr>\n",
       "    <tr>\n",
       "      <th>1</th>\n",
       "      <td>script1_g_0044-6002-01-01-KSM-F-05-A.wav</td>\n",
       "      <td>다음 주까지 날씨가 어때?</td>\n",
       "      <td>[0.0, 0.0, 0.0, 0.0, 0.0, 0.0, 0.0, 0.0, 0.0, ...</td>\n",
       "    </tr>\n",
       "    <tr>\n",
       "      <th>2</th>\n",
       "      <td>script1_g_0044-6003-01-01-KSM-F-05-A.wav</td>\n",
       "      <td>나 대신 점등해 줘.</td>\n",
       "      <td>[0.0, 0.0, 0.0, 0.0, 0.0, 0.0, 0.0, 0.0, 2.644...</td>\n",
       "    </tr>\n",
       "    <tr>\n",
       "      <th>3</th>\n",
       "      <td>script1_g_0044-6004-01-01-KSM-F-05-A.wav</td>\n",
       "      <td>이번 주 대체로 흐린지 궁금해.</td>\n",
       "      <td>[3.2407155e-07, -3.7628763e-07, 4.2549107e-07,...</td>\n",
       "    </tr>\n",
       "    <tr>\n",
       "      <th>4</th>\n",
       "      <td>script1_g_0044-6005-01-01-KSM-F-05-A.wav</td>\n",
       "      <td>지금 당장 취침 등 꺼 줘.</td>\n",
       "      <td>[1.226612e-07, -1.9821029e-07, 2.8501162e-07, ...</td>\n",
       "    </tr>\n",
       "  </tbody>\n",
       "</table>\n",
       "</div>"
      ],
      "text/plain": [
       "                                   filename               text  \\\n",
       "0  script1_g_0044-6001-01-01-KSM-F-05-A.wav   보고 있는 영상 정지시켜 줘.   \n",
       "1  script1_g_0044-6002-01-01-KSM-F-05-A.wav     다음 주까지 날씨가 어때?   \n",
       "2  script1_g_0044-6003-01-01-KSM-F-05-A.wav        나 대신 점등해 줘.   \n",
       "3  script1_g_0044-6004-01-01-KSM-F-05-A.wav  이번 주 대체로 흐린지 궁금해.   \n",
       "4  script1_g_0044-6005-01-01-KSM-F-05-A.wav    지금 당장 취침 등 꺼 줘.   \n",
       "\n",
       "                                               array  \n",
       "0  [0.0, 0.0, 0.0, 0.0, 0.0, 0.0, 0.0, 0.0, 0.0, ...  \n",
       "1  [0.0, 0.0, 0.0, 0.0, 0.0, 0.0, 0.0, 0.0, 0.0, ...  \n",
       "2  [0.0, 0.0, 0.0, 0.0, 0.0, 0.0, 0.0, 0.0, 2.644...  \n",
       "3  [3.2407155e-07, -3.7628763e-07, 4.2549107e-07,...  \n",
       "4  [1.226612e-07, -1.9821029e-07, 2.8501162e-07, ...  "
      ]
     },
     "execution_count": 40,
     "metadata": {},
     "output_type": "execute_result"
    }
   ],
   "source": [
    "csv_df = pd.read_csv('order_speech_ko1000_000.csv',sep='\\t')\n",
    "csv_df.head()"
   ]
  },
  {
   "cell_type": "code",
   "execution_count": 54,
   "metadata": {},
   "outputs": [
    {
     "data": {
      "text/plain": [
       "str"
      ]
     },
     "execution_count": 54,
     "metadata": {},
     "output_type": "execute_result"
    }
   ],
   "source": [
    "array=csv_df['array'][0]\n",
    "type(array)"
   ]
  },
  {
   "cell_type": "code",
   "execution_count": 55,
   "metadata": {},
   "outputs": [
    {
     "name": "stdout",
     "output_type": "stream",
     "text": [
      "[0.0, 0.0, 0.0, 0.0,\n",
      "7e-05, 0.0001910575]\n"
     ]
    }
   ],
   "source": [
    "print(array[:20])\n",
    "print(array[-20:])"
   ]
  },
  {
   "cell_type": "code",
   "execution_count": 20,
   "metadata": {},
   "outputs": [],
   "source": [
    "import numpy as np"
   ]
  },
  {
   "cell_type": "code",
   "execution_count": 46,
   "metadata": {},
   "outputs": [
    {
     "data": {
      "text/plain": [
       "array([ 0.0000000e+00,  0.0000000e+00,  0.0000000e+00, ...,\n",
       "       -4.6298825e-05, -2.4053707e-05,  1.9105749e-04], dtype=float32)"
      ]
     },
     "execution_count": 46,
     "metadata": {},
     "output_type": "execute_result"
    }
   ],
   "source": [
    "np.array(array[1:-1].split(',')).astype(np.float32)"
   ]
  },
  {
   "cell_type": "code",
   "execution_count": 49,
   "metadata": {},
   "outputs": [
    {
     "data": {
      "text/plain": [
       "array([ 0.0000000e+00,  0.0000000e+00,  0.0000000e+00, ...,\n",
       "       -4.6298825e-05, -2.4053707e-05,  1.9105749e-04], dtype=float32)"
      ]
     },
     "execution_count": 49,
     "metadata": {},
     "output_type": "execute_result"
    }
   ],
   "source": [
    "np.array(df['array'][0])"
   ]
  }
 ],
 "metadata": {
  "kernelspec": {
   "display_name": "Python 3 (ipykernel)",
   "language": "python",
   "name": "python3"
  },
  "language_info": {
   "codemirror_mode": {
    "name": "ipython",
    "version": 3
   },
   "file_extension": ".py",
   "mimetype": "text/x-python",
   "name": "python",
   "nbconvert_exporter": "python",
   "pygments_lexer": "ipython3",
   "version": "3.9.7"
  },
  "vscode": {
   "interpreter": {
    "hash": "19631f30805cf65d5465564d75f0fe7c05dee5c1f7be198222dbe754da644e52"
   }
  }
 },
 "nbformat": 4,
 "nbformat_minor": 2
}
