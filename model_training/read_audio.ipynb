{
 "cells": [
  {
   "cell_type": "code",
   "execution_count": 2,
   "metadata": {},
   "outputs": [],
   "source": [
    "import librosa\n",
    "import numpy as np\n",
    "import pandas as pd"
   ]
  },
  {
   "cell_type": "code",
   "execution_count": 3,
   "metadata": {},
   "outputs": [
    {
     "data": {
      "text/html": [
       "<div>\n",
       "<style scoped>\n",
       "    .dataframe tbody tr th:only-of-type {\n",
       "        vertical-align: middle;\n",
       "    }\n",
       "\n",
       "    .dataframe tbody tr th {\n",
       "        vertical-align: top;\n",
       "    }\n",
       "\n",
       "    .dataframe thead th {\n",
       "        text-align: right;\n",
       "    }\n",
       "</style>\n",
       "<table border=\"1\" class=\"dataframe\">\n",
       "  <thead>\n",
       "    <tr style=\"text-align: right;\">\n",
       "      <th></th>\n",
       "      <th>src</th>\n",
       "      <th>text</th>\n",
       "    </tr>\n",
       "  </thead>\n",
       "  <tbody>\n",
       "    <tr>\n",
       "      <th>46946</th>\n",
       "      <td>script1_g_0110-6517-01-01-KMK-F-07-A.wav</td>\n",
       "      <td>즐겨찾는 노래 리스트 보여 줘.</td>\n",
       "    </tr>\n",
       "    <tr>\n",
       "      <th>29630</th>\n",
       "      <td>script1_g_0085-6783-01-01-KYJ-F-06-D.wav</td>\n",
       "      <td>창고 불 파워 온해.</td>\n",
       "    </tr>\n",
       "    <tr>\n",
       "      <th>46710</th>\n",
       "      <td>script1_g_0110-6278-01-01-KMK-F-07-A.wav</td>\n",
       "      <td>드라이브하기 좋은 경로로 추천해 봐.</td>\n",
       "    </tr>\n",
       "    <tr>\n",
       "      <th>70174</th>\n",
       "      <td>script1_g_0137-6696-01-01-YSH-M-07-C.wav</td>\n",
       "      <td>토스트 만들게 토스터 켜 줄래?</td>\n",
       "    </tr>\n",
       "    <tr>\n",
       "      <th>50933</th>\n",
       "      <td>script1_g_0114-6521-01-01-KSM-M-06-A.wav</td>\n",
       "      <td>오늘 환율 얼마로 마감 됐어?</td>\n",
       "    </tr>\n",
       "    <tr>\n",
       "      <th>44311</th>\n",
       "      <td>script1_g_0105-6911-01-01-KDJ-M-04-D.wav</td>\n",
       "      <td>십분 뒤에 소등할래?</td>\n",
       "    </tr>\n",
       "    <tr>\n",
       "      <th>94836</th>\n",
       "      <td>script1_g_0174-6846-01-01-PYL-F-03-C.wav</td>\n",
       "      <td>최대한 빨리 갈 수 있게 길 찾아 줘.</td>\n",
       "    </tr>\n",
       "    <tr>\n",
       "      <th>4964</th>\n",
       "      <td>script1_g_0052-6809-01-01-KMS-F-07-A.wav</td>\n",
       "      <td>전일대비 손익 알려 줘</td>\n",
       "    </tr>\n",
       "    <tr>\n",
       "      <th>48113</th>\n",
       "      <td>script1_g_0111-6691-01-01-KYY-F-05-C.wav</td>\n",
       "      <td>블라인드 반만 올려 봐.</td>\n",
       "    </tr>\n",
       "    <tr>\n",
       "      <th>127495</th>\n",
       "      <td>script1_g_0225-6421-01-01-JYY-F-05-D.wav</td>\n",
       "      <td>나 기상하면 블라인드 올려 놔.</td>\n",
       "    </tr>\n",
       "  </tbody>\n",
       "</table>\n",
       "</div>"
      ],
      "text/plain": [
       "                                             src                   text\n",
       "46946   script1_g_0110-6517-01-01-KMK-F-07-A.wav      즐겨찾는 노래 리스트 보여 줘.\n",
       "29630   script1_g_0085-6783-01-01-KYJ-F-06-D.wav            창고 불 파워 온해.\n",
       "46710   script1_g_0110-6278-01-01-KMK-F-07-A.wav   드라이브하기 좋은 경로로 추천해 봐.\n",
       "70174   script1_g_0137-6696-01-01-YSH-M-07-C.wav      토스트 만들게 토스터 켜 줄래?\n",
       "50933   script1_g_0114-6521-01-01-KSM-M-06-A.wav       오늘 환율 얼마로 마감 됐어?\n",
       "44311   script1_g_0105-6911-01-01-KDJ-M-04-D.wav            십분 뒤에 소등할래?\n",
       "94836   script1_g_0174-6846-01-01-PYL-F-03-C.wav  최대한 빨리 갈 수 있게 길 찾아 줘.\n",
       "4964    script1_g_0052-6809-01-01-KMS-F-07-A.wav           전일대비 손익 알려 줘\n",
       "48113   script1_g_0111-6691-01-01-KYY-F-05-C.wav          블라인드 반만 올려 봐.\n",
       "127495  script1_g_0225-6421-01-01-JYY-F-05-D.wav      나 기상하면 블라인드 올려 놔."
      ]
     },
     "execution_count": 3,
     "metadata": {},
     "output_type": "execute_result"
    }
   ],
   "source": [
    "df = pd.read_csv('./order_speech_ko.csv')\n",
    "df.sample(10)"
   ]
  },
  {
   "cell_type": "code",
   "execution_count": 7,
   "metadata": {},
   "outputs": [
    {
     "data": {
      "text/plain": [
       "numpy.ndarray"
      ]
     },
     "execution_count": 7,
     "metadata": {},
     "output_type": "execute_result"
    }
   ],
   "source": [
    "array,sr = librosa.load('./dataset/audio/'+df['src'][0],sr=16000)\n",
    "type(array)"
   ]
  },
  {
   "cell_type": "code",
   "execution_count": 8,
   "metadata": {},
   "outputs": [
    {
     "data": {
      "text/plain": [
       "16000"
      ]
     },
     "execution_count": 8,
     "metadata": {},
     "output_type": "execute_result"
    }
   ],
   "source": [
    "sr"
   ]
  },
  {
   "cell_type": "code",
   "execution_count": 9,
   "metadata": {},
   "outputs": [
    {
     "data": {
      "text/plain": [
       "57600"
      ]
     },
     "execution_count": 9,
     "metadata": {},
     "output_type": "execute_result"
    }
   ],
   "source": [
    "len(array)"
   ]
  },
  {
   "cell_type": "code",
   "execution_count": 10,
   "metadata": {},
   "outputs": [
    {
     "data": {
      "text/plain": [
       "79380"
      ]
     },
     "execution_count": 10,
     "metadata": {},
     "output_type": "execute_result"
    }
   ],
   "source": [
    "array,sr = librosa.load('./dataset/audio/'+df['src'][0])\n",
    "len(array)"
   ]
  }
 ],
 "metadata": {
  "kernelspec": {
   "display_name": "Python 3.7.13 ('STT')",
   "language": "python",
   "name": "python3"
  },
  "language_info": {
   "codemirror_mode": {
    "name": "ipython",
    "version": 3
   },
   "file_extension": ".py",
   "mimetype": "text/x-python",
   "name": "python",
   "nbconvert_exporter": "python",
   "pygments_lexer": "ipython3",
   "version": "3.7.13"
  },
  "orig_nbformat": 4,
  "vscode": {
   "interpreter": {
    "hash": "19631f30805cf65d5465564d75f0fe7c05dee5c1f7be198222dbe754da644e52"
   }
  }
 },
 "nbformat": 4,
 "nbformat_minor": 2
}
