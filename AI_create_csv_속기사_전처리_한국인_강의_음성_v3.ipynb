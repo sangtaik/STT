{
 "cells": [
  {
   "cell_type": "code",
   "execution_count": 20,
   "id": "b4b6d579",
   "metadata": {
    "id": "b4b6d579"
   },
   "outputs": [],
   "source": [
    "# 한국인 강의음성 전처리 및 csv 파일 생성\n",
    "# https://aihub.or.kr/aidata/30708/download\n",
    "\n",
    "# 압축을 풀고 \"한국어 강의 음성\" 폴더의 이름을 KlecSpeech로 변경한다.\n",
    "# 추가 히스토리\n",
    "# 2022-06-15 array 추가\n",
    "# 2022-06-17 정규식 교체 "
   ]
  },
  {
   "cell_type": "code",
   "execution_count": 21,
   "id": "738146cb",
   "metadata": {
    "colab": {
     "base_uri": "https://localhost:8080/"
    },
    "id": "738146cb",
    "outputId": "34add5ca-7d88-4eff-cf27-8056fc974d36"
   },
   "outputs": [
    {
     "name": "stdout",
     "output_type": "stream",
     "text": [
      "la <|> 와 와 <b> 안녕하세요. <n> na <|> 배는 천원 입니다 <unk> \n"
     ]
    }
   ],
   "source": [
    "import re\n",
    "\n",
    "def preprocessing(text):\n",
    "    # 괄호(문자)/(발음) 일 때, 발음만 살리는 코드\n",
    "    \"\"\"\n",
    "    괄호 및 괄호 안에 있는 문장을 모두 벗겨내기\n",
    "    \\([^\\)]*\\)\\/|\\(|\\)\n",
    "\n",
    "    조건 1: (문장)/ 을 삭제한다. \n",
    "    \\([^\\)]*\\)    (사과)/(배) (1000원)/(천원)\n",
    "    \\/            뒤에 /를 추가하면 뒤에 /가 없는 (배) 와 (천원)은 조건 탈락\n",
    "\n",
    "    |             조건 1과 조건 2를 OR로 검출\n",
    "\n",
    "    조건 2 :  ( 과 )를 검출\n",
    "    \\(|\\)  \n",
    "    \"\"\"  \n",
    "    re_text = re.sub(r'[+?!]', '', text)\n",
    "    re_text = re.sub(r'o/', '', re_text)\n",
    "    re_text = re.sub(r\"u/\",\"<unk>\",  re_text)\n",
    "    re_text = re.sub(r\"b/\",\"<b>\",  re_text)\n",
    "    re_text = re.sub(r\"n/\",\"<n>\",  re_text)\n",
    "    re_text = re.sub(r\"l/\",\"<|>\",  re_text)\n",
    "    re_text = re.sub(r'\\([^\\)]*\\)\\/|\\(|\\)', '', re_text)\n",
    "    re_text = re.sub(r'[/]', '', re_text)\n",
    "\n",
    "    return re_text\n",
    "\n",
    "test_text = \"la/ l/ 와/ 와// b/ 안녕하세요. n/ na/ l/ (사과)/(배)는 (1000원)/(천원) 입니다?!+ u/ o/\"\n",
    "test_ret = preprocessing(test_text)\n",
    "print(test_ret)"
   ]
  },
  {
   "cell_type": "markdown",
   "id": "1b0ee09e",
   "metadata": {
    "id": "1b0ee09e"
   },
   "source": [
    "## 오디오 데이터 추가"
   ]
  },
  {
   "cell_type": "code",
   "execution_count": 23,
   "id": "7cb00fcd",
   "metadata": {
    "id": "7cb00fcd"
   },
   "outputs": [],
   "source": [
    "import json\n",
    "import os\n",
    "import glob\n",
    "import pandas as pd\n",
    "from tqdm import tqdm\n",
    "from pathlib import Path\n",
    "import librosa"
   ]
  },
  {
   "cell_type": "code",
   "execution_count": 24,
   "id": "2acf681e",
   "metadata": {
    "colab": {
     "base_uri": "https://localhost:8080/"
    },
    "id": "2acf681e",
    "outputId": "256da5d1-4362-4e45-a5b2-b0fcffafbfc8",
    "scrolled": true
   },
   "outputs": [
    {
     "name": "stdout",
     "output_type": "stream",
     "text": [
      "This time is being calculated\n"
     ]
    },
    {
     "name": "stderr",
     "output_type": "stream",
     "text": [
      "  2%|█▏                                                                          | 507/32971 [00:35<8:56:32,  1.01it/s]"
     ]
    },
    {
     "name": "stdout",
     "output_type": "stream",
     "text": [
      "000 complete\n"
     ]
    },
    {
     "name": "stderr",
     "output_type": "stream",
     "text": [
      "  3%|██▎                                                                        | 1007/32971 [01:13<8:56:59,  1.01s/it]"
     ]
    },
    {
     "name": "stdout",
     "output_type": "stream",
     "text": [
      "001 complete\n"
     ]
    },
    {
     "name": "stderr",
     "output_type": "stream",
     "text": [
      "  5%|███▍                                                                      | 1506/32971 [01:50<11:04:53,  1.27s/it]"
     ]
    },
    {
     "name": "stdout",
     "output_type": "stream",
     "text": [
      "002 complete\n"
     ]
    },
    {
     "name": "stderr",
     "output_type": "stream",
     "text": [
      "  6%|████▌                                                                     | 2007/32971 [02:39<10:45:37,  1.25s/it]"
     ]
    },
    {
     "name": "stdout",
     "output_type": "stream",
     "text": [
      "003 complete\n"
     ]
    },
    {
     "name": "stderr",
     "output_type": "stream",
     "text": [
      "  8%|█████▋                                                                     | 2506/32971 [03:19<9:27:57,  1.12s/it]"
     ]
    },
    {
     "name": "stdout",
     "output_type": "stream",
     "text": [
      "004 complete\n"
     ]
    },
    {
     "name": "stderr",
     "output_type": "stream",
     "text": [
      "  9%|██████▊                                                                    | 3007/32971 [03:56<8:31:33,  1.02s/it]"
     ]
    },
    {
     "name": "stdout",
     "output_type": "stream",
     "text": [
      "005 complete\n"
     ]
    },
    {
     "name": "stderr",
     "output_type": "stream",
     "text": [
      " 11%|███████▉                                                                   | 3507/32971 [04:32<8:37:08,  1.05s/it]"
     ]
    },
    {
     "name": "stdout",
     "output_type": "stream",
     "text": [
      "006 complete\n"
     ]
    },
    {
     "name": "stderr",
     "output_type": "stream",
     "text": [
      " 12%|████████▉                                                                 | 4006/32971 [05:22<13:04:34,  1.63s/it]"
     ]
    },
    {
     "name": "stdout",
     "output_type": "stream",
     "text": [
      "007 complete\n"
     ]
    },
    {
     "name": "stderr",
     "output_type": "stream",
     "text": [
      " 14%|██████████▎                                                                | 4508/32971 [06:00<6:24:48,  1.23it/s]"
     ]
    },
    {
     "name": "stdout",
     "output_type": "stream",
     "text": [
      "008 complete\n"
     ]
    },
    {
     "name": "stderr",
     "output_type": "stream",
     "text": [
      " 15%|███████████▍                                                               | 5008/32971 [06:21<3:05:47,  2.51it/s]"
     ]
    },
    {
     "name": "stdout",
     "output_type": "stream",
     "text": [
      "009 complete\n"
     ]
    },
    {
     "name": "stderr",
     "output_type": "stream",
     "text": [
      " 17%|████████████▌                                                              | 5507/32971 [06:41<2:46:00,  2.76it/s]"
     ]
    },
    {
     "name": "stdout",
     "output_type": "stream",
     "text": [
      "010 complete\n"
     ]
    },
    {
     "name": "stderr",
     "output_type": "stream",
     "text": [
      " 18%|█████████████▋                                                             | 6007/32971 [07:19<7:12:16,  1.04it/s]"
     ]
    },
    {
     "name": "stdout",
     "output_type": "stream",
     "text": [
      "011 complete\n"
     ]
    },
    {
     "name": "stderr",
     "output_type": "stream",
     "text": [
      " 20%|██████████████▊                                                            | 6509/32971 [07:49<4:25:11,  1.66it/s]"
     ]
    },
    {
     "name": "stdout",
     "output_type": "stream",
     "text": [
      "012 complete\n"
     ]
    },
    {
     "name": "stderr",
     "output_type": "stream",
     "text": [
      " 21%|███████████████▉                                                           | 7007/32971 [08:06<2:17:04,  3.16it/s]"
     ]
    },
    {
     "name": "stdout",
     "output_type": "stream",
     "text": [
      "013 complete\n"
     ]
    },
    {
     "name": "stderr",
     "output_type": "stream",
     "text": [
      " 23%|█████████████████                                                          | 7506/32971 [08:44<7:07:13,  1.01s/it]"
     ]
    },
    {
     "name": "stdout",
     "output_type": "stream",
     "text": [
      "014 complete\n"
     ]
    },
    {
     "name": "stderr",
     "output_type": "stream",
     "text": [
      " 24%|██████████████████▏                                                        | 8007/32971 [09:16<4:44:02,  1.46it/s]"
     ]
    },
    {
     "name": "stdout",
     "output_type": "stream",
     "text": [
      "015 complete\n"
     ]
    },
    {
     "name": "stderr",
     "output_type": "stream",
     "text": [
      " 26%|███████████████████▎                                                       | 8506/32971 [09:44<5:20:20,  1.27it/s]"
     ]
    },
    {
     "name": "stdout",
     "output_type": "stream",
     "text": [
      "016 complete\n"
     ]
    },
    {
     "name": "stderr",
     "output_type": "stream",
     "text": [
      " 27%|████████████████████▍                                                      | 9007/32971 [10:23<6:34:37,  1.01it/s]"
     ]
    },
    {
     "name": "stdout",
     "output_type": "stream",
     "text": [
      "017 complete\n"
     ]
    },
    {
     "name": "stderr",
     "output_type": "stream",
     "text": [
      " 29%|█████████████████████▋                                                     | 9508/32971 [10:57<4:44:49,  1.37it/s]"
     ]
    },
    {
     "name": "stdout",
     "output_type": "stream",
     "text": [
      "018 complete\n"
     ]
    },
    {
     "name": "stderr",
     "output_type": "stream",
     "text": [
      " 30%|██████████████████████▍                                                   | 10005/32971 [11:38<7:44:56,  1.21s/it]"
     ]
    },
    {
     "name": "stdout",
     "output_type": "stream",
     "text": [
      "019 complete\n"
     ]
    },
    {
     "name": "stderr",
     "output_type": "stream",
     "text": [
      " 32%|███████████████████████▌                                                  | 10506/32971 [12:22<8:11:08,  1.31s/it]"
     ]
    },
    {
     "name": "stdout",
     "output_type": "stream",
     "text": [
      "020 complete\n"
     ]
    },
    {
     "name": "stderr",
     "output_type": "stream",
     "text": [
      " 33%|████████████████████████▋                                                 | 11014/32971 [12:54<3:37:02,  1.69it/s]"
     ]
    },
    {
     "name": "stdout",
     "output_type": "stream",
     "text": [
      "021 complete\n"
     ]
    },
    {
     "name": "stderr",
     "output_type": "stream",
     "text": [
      " 35%|█████████████████████████▊                                                | 11508/32971 [13:29<4:36:50,  1.29it/s]"
     ]
    },
    {
     "name": "stdout",
     "output_type": "stream",
     "text": [
      "022 complete\n"
     ]
    },
    {
     "name": "stderr",
     "output_type": "stream",
     "text": [
      " 36%|██████████████████████████▉                                               | 12006/32971 [14:05<5:16:38,  1.10it/s]"
     ]
    },
    {
     "name": "stdout",
     "output_type": "stream",
     "text": [
      "023 complete\n"
     ]
    },
    {
     "name": "stderr",
     "output_type": "stream",
     "text": [
      " 38%|████████████████████████████                                              | 12506/32971 [14:42<5:42:02,  1.00s/it]"
     ]
    },
    {
     "name": "stdout",
     "output_type": "stream",
     "text": [
      "024 complete\n"
     ]
    },
    {
     "name": "stderr",
     "output_type": "stream",
     "text": [
      " 39%|█████████████████████████████▏                                            | 13007/32971 [15:40<9:53:19,  1.78s/it]"
     ]
    },
    {
     "name": "stdout",
     "output_type": "stream",
     "text": [
      "025 complete\n"
     ]
    },
    {
     "name": "stderr",
     "output_type": "stream",
     "text": [
      " 41%|██████████████████████████████▎                                           | 13507/32971 [16:26<6:04:56,  1.12s/it]"
     ]
    },
    {
     "name": "stdout",
     "output_type": "stream",
     "text": [
      "026 complete\n"
     ]
    },
    {
     "name": "stderr",
     "output_type": "stream",
     "text": [
      " 42%|███████████████████████████████▍                                          | 14007/32971 [17:00<4:32:02,  1.16it/s]"
     ]
    },
    {
     "name": "stdout",
     "output_type": "stream",
     "text": [
      "027 complete\n"
     ]
    },
    {
     "name": "stderr",
     "output_type": "stream",
     "text": [
      " 44%|████████████████████████████████▌                                         | 14507/32971 [17:39<4:53:35,  1.05it/s]"
     ]
    },
    {
     "name": "stdout",
     "output_type": "stream",
     "text": [
      "028 complete\n"
     ]
    },
    {
     "name": "stderr",
     "output_type": "stream",
     "text": [
      " 46%|█████████████████████████████████▏                                       | 15003/32971 [18:32<11:27:39,  2.30s/it]"
     ]
    },
    {
     "name": "stdout",
     "output_type": "stream",
     "text": [
      "029 complete\n"
     ]
    },
    {
     "name": "stderr",
     "output_type": "stream",
     "text": [
      " 47%|██████████████████████████████████▊                                       | 15508/32971 [19:08<3:48:32,  1.27it/s]"
     ]
    },
    {
     "name": "stdout",
     "output_type": "stream",
     "text": [
      "030 complete\n"
     ]
    },
    {
     "name": "stderr",
     "output_type": "stream",
     "text": [
      " 49%|███████████████████████████████████▉                                      | 16015/32971 [19:38<2:08:17,  2.20it/s]"
     ]
    },
    {
     "name": "stdout",
     "output_type": "stream",
     "text": [
      "031 complete\n"
     ]
    },
    {
     "name": "stderr",
     "output_type": "stream",
     "text": [
      " 50%|█████████████████████████████████████                                     | 16506/32971 [20:08<3:23:25,  1.35it/s]"
     ]
    },
    {
     "name": "stdout",
     "output_type": "stream",
     "text": [
      "032 complete\n"
     ]
    },
    {
     "name": "stderr",
     "output_type": "stream",
     "text": [
      " 52%|██████████████████████████████████████▏                                   | 17006/32971 [20:38<3:21:49,  1.32it/s]"
     ]
    },
    {
     "name": "stdout",
     "output_type": "stream",
     "text": [
      "033 complete\n"
     ]
    },
    {
     "name": "stderr",
     "output_type": "stream",
     "text": [
      " 53%|███████████████████████████████████████▎                                  | 17507/32971 [21:09<3:06:25,  1.38it/s]"
     ]
    },
    {
     "name": "stdout",
     "output_type": "stream",
     "text": [
      "034 complete\n"
     ]
    },
    {
     "name": "stderr",
     "output_type": "stream",
     "text": [
      " 55%|████████████████████████████████████████▍                                 | 18006/32971 [21:36<2:59:53,  1.39it/s]"
     ]
    },
    {
     "name": "stdout",
     "output_type": "stream",
     "text": [
      "035 complete\n"
     ]
    },
    {
     "name": "stderr",
     "output_type": "stream",
     "text": [
      " 56%|█████████████████████████████████████████▌                                | 18514/32971 [22:08<2:15:54,  1.77it/s]"
     ]
    },
    {
     "name": "stdout",
     "output_type": "stream",
     "text": [
      "036 complete\n"
     ]
    },
    {
     "name": "stderr",
     "output_type": "stream",
     "text": [
      " 58%|██████████████████████████████████████████▋                               | 19006/32971 [22:47<4:57:22,  1.28s/it]"
     ]
    },
    {
     "name": "stdout",
     "output_type": "stream",
     "text": [
      "037 complete\n"
     ]
    },
    {
     "name": "stderr",
     "output_type": "stream",
     "text": [
      " 59%|███████████████████████████████████████████▊                              | 19506/32971 [23:33<5:10:21,  1.38s/it]"
     ]
    },
    {
     "name": "stdout",
     "output_type": "stream",
     "text": [
      "038 complete\n"
     ]
    },
    {
     "name": "stderr",
     "output_type": "stream",
     "text": [
      " 61%|████████████████████████████████████████████▉                             | 20006/32971 [24:19<5:27:02,  1.51s/it]"
     ]
    },
    {
     "name": "stdout",
     "output_type": "stream",
     "text": [
      "039 complete\n"
     ]
    },
    {
     "name": "stderr",
     "output_type": "stream",
     "text": [
      " 62%|██████████████████████████████████████████████                            | 20507/32971 [24:52<2:31:28,  1.37it/s]"
     ]
    },
    {
     "name": "stdout",
     "output_type": "stream",
     "text": [
      "040 complete\n"
     ]
    },
    {
     "name": "stderr",
     "output_type": "stream",
     "text": [
      " 64%|███████████████████████████████████████████████▏                          | 21014/32971 [25:21<1:31:59,  2.17it/s]"
     ]
    },
    {
     "name": "stdout",
     "output_type": "stream",
     "text": [
      "041 complete\n"
     ]
    },
    {
     "name": "stderr",
     "output_type": "stream",
     "text": [
      " 65%|████████████████████████████████████████████████▎                         | 21514/32971 [25:49<1:31:29,  2.09it/s]"
     ]
    },
    {
     "name": "stdout",
     "output_type": "stream",
     "text": [
      "042 complete\n"
     ]
    },
    {
     "name": "stderr",
     "output_type": "stream",
     "text": [
      " 67%|█████████████████████████████████████████████████▍                        | 22007/32971 [26:16<1:50:14,  1.66it/s]"
     ]
    },
    {
     "name": "stdout",
     "output_type": "stream",
     "text": [
      "043 complete\n"
     ]
    },
    {
     "name": "stderr",
     "output_type": "stream",
     "text": [
      " 68%|███████████████████████████████████████████████████▉                        | 22517/32971 [26:41<58:16,  2.99it/s]"
     ]
    },
    {
     "name": "stdout",
     "output_type": "stream",
     "text": [
      "044 complete\n"
     ]
    },
    {
     "name": "stderr",
     "output_type": "stream",
     "text": [
      " 70%|███████████████████████████████████████████████████▋                      | 23007/32971 [27:08<1:39:32,  1.67it/s]"
     ]
    },
    {
     "name": "stdout",
     "output_type": "stream",
     "text": [
      "045 complete\n"
     ]
    },
    {
     "name": "stderr",
     "output_type": "stream",
     "text": [
      " 71%|████████████████████████████████████████████████████▊                     | 23507/32971 [27:37<1:51:46,  1.41it/s]"
     ]
    },
    {
     "name": "stdout",
     "output_type": "stream",
     "text": [
      "046 complete\n"
     ]
    },
    {
     "name": "stderr",
     "output_type": "stream",
     "text": [
      " 73%|█████████████████████████████████████████████████████▉                    | 24008/32971 [28:08<1:34:47,  1.58it/s]"
     ]
    },
    {
     "name": "stdout",
     "output_type": "stream",
     "text": [
      "047 complete\n"
     ]
    },
    {
     "name": "stderr",
     "output_type": "stream",
     "text": [
      " 74%|███████████████████████████████████████████████████████                   | 24507/32971 [28:41<1:42:51,  1.37it/s]"
     ]
    },
    {
     "name": "stdout",
     "output_type": "stream",
     "text": [
      "048 complete\n"
     ]
    },
    {
     "name": "stderr",
     "output_type": "stream",
     "text": [
      " 76%|████████████████████████████████████████████████████████                  | 25005/32971 [29:21<2:49:20,  1.28s/it]"
     ]
    },
    {
     "name": "stdout",
     "output_type": "stream",
     "text": [
      "049 complete\n"
     ]
    },
    {
     "name": "stderr",
     "output_type": "stream",
     "text": [
      " 77%|█████████████████████████████████████████████████████████▏                | 25506/32971 [30:04<2:42:08,  1.30s/it]"
     ]
    },
    {
     "name": "stdout",
     "output_type": "stream",
     "text": [
      "050 complete\n"
     ]
    },
    {
     "name": "stderr",
     "output_type": "stream",
     "text": [
      " 79%|██████████████████████████████████████████████████████████▎               | 26007/32971 [30:44<2:20:47,  1.21s/it]"
     ]
    },
    {
     "name": "stdout",
     "output_type": "stream",
     "text": [
      "051 complete\n"
     ]
    },
    {
     "name": "stderr",
     "output_type": "stream",
     "text": [
      " 80%|███████████████████████████████████████████████████████████▍              | 26507/32971 [31:19<1:27:14,  1.23it/s]"
     ]
    },
    {
     "name": "stdout",
     "output_type": "stream",
     "text": [
      "052 complete\n"
     ]
    },
    {
     "name": "stderr",
     "output_type": "stream",
     "text": [
      " 82%|████████████████████████████████████████████████████████████▌             | 27007/32971 [31:54<1:28:27,  1.12it/s]"
     ]
    },
    {
     "name": "stdout",
     "output_type": "stream",
     "text": [
      "053 complete\n"
     ]
    },
    {
     "name": "stderr",
     "output_type": "stream",
     "text": [
      " 83%|█████████████████████████████████████████████████████████████▋            | 27506/32971 [32:29<1:10:00,  1.30it/s]"
     ]
    },
    {
     "name": "stdout",
     "output_type": "stream",
     "text": [
      "054 complete\n"
     ]
    },
    {
     "name": "stderr",
     "output_type": "stream",
     "text": [
      " 85%|██████████████████████████████████████████████████████████████▊           | 28006/32971 [33:09<1:37:43,  1.18s/it]"
     ]
    },
    {
     "name": "stdout",
     "output_type": "stream",
     "text": [
      "055 complete\n"
     ]
    },
    {
     "name": "stderr",
     "output_type": "stream",
     "text": [
      " 86%|█████████████████████████████████████████████████████████████████▋          | 28508/32971 [33:34<36:26,  2.04it/s]"
     ]
    },
    {
     "name": "stdout",
     "output_type": "stream",
     "text": [
      "056 complete\n"
     ]
    },
    {
     "name": "stderr",
     "output_type": "stream",
     "text": [
      " 88%|██████████████████████████████████████████████████████████████████▉         | 29014/32971 [33:51<16:17,  4.05it/s]"
     ]
    },
    {
     "name": "stdout",
     "output_type": "stream",
     "text": [
      "057 complete\n"
     ]
    },
    {
     "name": "stderr",
     "output_type": "stream",
     "text": [
      " 90%|████████████████████████████████████████████████████████████████████        | 29517/32971 [34:15<17:30,  3.29it/s]"
     ]
    },
    {
     "name": "stdout",
     "output_type": "stream",
     "text": [
      "058 complete\n"
     ]
    },
    {
     "name": "stderr",
     "output_type": "stream",
     "text": [
      " 91%|█████████████████████████████████████████████████████████████████████▏      | 30007/32971 [34:41<31:12,  1.58it/s]"
     ]
    },
    {
     "name": "stdout",
     "output_type": "stream",
     "text": [
      "059 complete\n"
     ]
    },
    {
     "name": "stderr",
     "output_type": "stream",
     "text": [
      " 93%|██████████████████████████████████████████████████████████████████████▎     | 30507/32971 [35:07<22:58,  1.79it/s]"
     ]
    },
    {
     "name": "stdout",
     "output_type": "stream",
     "text": [
      "060 complete\n"
     ]
    },
    {
     "name": "stderr",
     "output_type": "stream",
     "text": [
      " 94%|███████████████████████████████████████████████████████████████████████▍    | 31008/32971 [35:31<15:06,  2.17it/s]"
     ]
    },
    {
     "name": "stdout",
     "output_type": "stream",
     "text": [
      "061 complete\n"
     ]
    },
    {
     "name": "stderr",
     "output_type": "stream",
     "text": [
      " 96%|████████████████████████████████████████████████████████████████████████▋   | 31508/32971 [35:56<12:37,  1.93it/s]"
     ]
    },
    {
     "name": "stdout",
     "output_type": "stream",
     "text": [
      "062 complete\n"
     ]
    },
    {
     "name": "stderr",
     "output_type": "stream",
     "text": [
      " 97%|█████████████████████████████████████████████████████████████████████████▊  | 32008/32971 [36:23<08:29,  1.89it/s]"
     ]
    },
    {
     "name": "stdout",
     "output_type": "stream",
     "text": [
      "063 complete\n"
     ]
    },
    {
     "name": "stderr",
     "output_type": "stream",
     "text": [
      " 99%|██████████████████████████████████████████████████████████████████████████▉ | 32517/32971 [36:46<02:26,  3.10it/s]"
     ]
    },
    {
     "name": "stdout",
     "output_type": "stream",
     "text": [
      "064 complete\n"
     ]
    },
    {
     "name": "stderr",
     "output_type": "stream",
     "text": [
      "100%|████████████████████████████████████████████████████████████████████████████| 32971/32971 [36:53<00:00, 14.90it/s]"
     ]
    },
    {
     "name": "stdout",
     "output_type": "stream",
     "text": [
      "2213.407388448715\n"
     ]
    },
    {
     "name": "stderr",
     "output_type": "stream",
     "text": [
      "\n"
     ]
    }
   ],
   "source": [
    "text_dict = {'filename':[],'text':[],'array':[]}\n",
    "\n",
    "path='./dataset/KlecSpeech/Validation/'\n",
    "\n",
    "# path = Path('./한국어 강의 음성/Validation/')\n",
    "\n",
    "# wav 파일 기준으로 text 파일이름이 동일, 확장자는 wav, txt로 각각 다름\n",
    "files = [f for f in glob.glob(path + \"**/*.wav\", recursive=True)]\n",
    "\n",
    "# 테스트 코드\n",
    "# files = files[0:3]\n",
    "# print(files)\n",
    "import time\n",
    "\n",
    "start = time.time()\n",
    "print(\"This time is being calculated\")\n",
    "\n",
    "for i in tqdm(range(len(files))):\n",
    "    txt_file = files[i].replace(\".wav\", \".txt\")\n",
    "    files[i] = files[i].replace(\"\\\\\", \"/\")\n",
    "\n",
    "#     print(txt_file)\n",
    "    if not os.path.exists(txt_file):\n",
    "        print(\"The file does not exist\", txt_file)\n",
    "    \n",
    "    with open(txt_file ,'r',encoding='utf8') as f:\n",
    "        text = f.read()\n",
    "        \n",
    "        # 텍스트 전처리\n",
    "        text = preprocessing(text)\n",
    "\n",
    "        # 항목들 값을 저장 \\\n",
    "        text_dict['filename'].append(files[i]) # filename\n",
    "        text_dict['text'].append(text)\n",
    "        \n",
    "        # 각 wav파일을 16000으로 나눠서 저장\n",
    "        array,_ = librosa.load(files[i],sr=16000)\n",
    "        text_dict['array'].append(list(array))\n",
    "\n",
    "    if i%500==499:\n",
    "        n=i//500\n",
    "        df = pd.DataFrame(text_dict)\n",
    "        df.to_csv(f'klecspeech_ko_500_{n:03d}.csv',index=False,sep='\\t')\n",
    "        print(f'{n:03d} complete')\n",
    "\n",
    "        # text_dict을 초기화\n",
    "        text_dict = {'filename':[],'text':[],'array':[]}\n",
    "        \n",
    "# df = pd.DataFrame(text_dict)\n",
    "# df.head()\n",
    "\n",
    "print(time.time() - start)"
   ]
  },
  {
   "cell_type": "code",
   "execution_count": null,
   "id": "2abba7f2",
   "metadata": {
    "id": "2abba7f2"
   },
   "outputs": [],
   "source": [
    "csv_df = pd.read_csv('klecspeech_ko_000.csv',sep='\\t')\n",
    "csv_df.head()"
   ]
  },
  {
   "cell_type": "code",
   "execution_count": null,
   "id": "70c3d3cc",
   "metadata": {
    "id": "70c3d3cc"
   },
   "outputs": [],
   "source": [
    "for i in range(100):\n",
    "    print(text_dict['src'][i], text_dict['text'][i])"
   ]
  },
  {
   "cell_type": "code",
   "execution_count": null,
   "id": "c65d93f5",
   "metadata": {
    "id": "c65d93f5"
   },
   "outputs": [],
   "source": [
    "df.to_csv('order_speech_ko.csv')"
   ]
  },
  {
   "cell_type": "code",
   "execution_count": null,
   "id": "13c99902",
   "metadata": {
    "id": "13c99902"
   },
   "outputs": [],
   "source": [
    "df['text'].unique()\n",
    "# df.read_csv('order_speech_ko.csv')\n",
    "# result = [i for i in my_list if i]"
   ]
  },
  {
   "cell_type": "code",
   "execution_count": null,
   "id": "eb69b568",
   "metadata": {
    "id": "eb69b568"
   },
   "outputs": [],
   "source": [
    "df.info()"
   ]
  },
  {
   "cell_type": "code",
   "execution_count": null,
   "id": "56e41898",
   "metadata": {
    "id": "56e41898"
   },
   "outputs": [],
   "source": [
    "df.describe()"
   ]
  },
  {
   "cell_type": "markdown",
   "id": "710171bf",
   "metadata": {
    "id": "710171bf"
   },
   "source": [
    "## 텍스트 누락 확인"
   ]
  },
  {
   "cell_type": "code",
   "execution_count": null,
   "id": "4330a695",
   "metadata": {
    "id": "4330a695"
   },
   "outputs": [],
   "source": [
    "df['text'].min()"
   ]
  },
  {
   "cell_type": "code",
   "execution_count": null,
   "id": "d77200cb",
   "metadata": {
    "id": "d77200cb"
   },
   "outputs": [],
   "source": [
    "df['text_len'] = df['text'].map(len)\n",
    "\n",
    "df[['text_len']].idxmin()"
   ]
  },
  {
   "cell_type": "code",
   "execution_count": null,
   "id": "ee27ddd8",
   "metadata": {
    "id": "ee27ddd8"
   },
   "outputs": [],
   "source": [
    "df[['text_len']].idxmin()"
   ]
  },
  {
   "cell_type": "code",
   "execution_count": null,
   "id": "1b4019ea",
   "metadata": {
    "id": "1b4019ea"
   },
   "outputs": [],
   "source": [
    "df['text'][22410]"
   ]
  },
  {
   "cell_type": "code",
   "execution_count": null,
   "id": "6b23f17c",
   "metadata": {
    "id": "6b23f17c"
   },
   "outputs": [],
   "source": [
    "print(df['src'][22410])"
   ]
  },
  {
   "cell_type": "code",
   "execution_count": null,
   "id": "961a0456",
   "metadata": {
    "id": "961a0456"
   },
   "outputs": [],
   "source": [
    "# 찾아보면 #NAME이라고 되어 있음."
   ]
  }
 ],
 "metadata": {
  "colab": {
   "collapsed_sections": [],
   "name": "AI_create_csv_속기사 전처리 한국인 강의 음성_v3.ipynb",
   "provenance": []
  },
  "kernelspec": {
   "display_name": "STT",
   "language": "python",
   "name": "stt"
  },
  "language_info": {
   "codemirror_mode": {
    "name": "ipython",
    "version": 3
   },
   "file_extension": ".py",
   "mimetype": "text/x-python",
   "name": "python",
   "nbconvert_exporter": "python",
   "pygments_lexer": "ipython3",
   "version": "3.7.13"
  }
 },
 "nbformat": 4,
 "nbformat_minor": 5
}
