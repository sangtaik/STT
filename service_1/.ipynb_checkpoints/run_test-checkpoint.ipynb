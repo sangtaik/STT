{
 "cells": [
  {
   "cell_type": "code",
   "execution_count": 25,
   "metadata": {},
   "outputs": [],
   "source": [
    "import soundfile as sf\n",
    "import sounddevice as sd\n",
    "import numpy as np\n",
    "import sys\n",
    "import multiprocessing\n",
    "import time\n",
    "import librosa\n",
    "import speech_recognition as sp_rec\n",
    "\n",
    "from queue import Queue\n",
    "from model import ServiceModel\n"
   ]
  },
  {
   "cell_type": "code",
   "execution_count": 26,
   "metadata": {},
   "outputs": [],
   "source": [
    "\n",
    "sr = 16000\n",
    "ch = 1\n",
    "subtype = 'PCM_16' # sample_width 2byte(16bit)\n",
    "sw = 2 # sample_width\n",
    "\n",
    "rec = sp_rec.Recognizer()\n",
    "mic = sp_rec.Microphone(sample_rate=sr)\n",
    "model = ServiceModel()\n"
   ]
  },
  {
   "cell_type": "code",
   "execution_count": 27,
   "metadata": {},
   "outputs": [],
   "source": [
    "\n",
    "def service(sig):\n",
    "    print(model.one_shot(np.array(sig).flatten()))\n"
   ]
  },
  {
   "cell_type": "code",
   "execution_count": 28,
   "metadata": {},
   "outputs": [
    {
     "name": "stdout",
     "output_type": "stream",
     "text": [
      "start running\n",
      "2.89808988571167\n",
      "0.05104422569274902\n",
      "['우떤 도로']\n",
      "1.6414666175842285\n",
      "14.20667052268982\n",
      "0.039568185806274414\n",
      "['모  두 켜 줘']\n",
      "1.9189989566802979\n",
      "finished\n",
      "Program end\n"
     ]
    }
   ],
   "source": [
    "\n",
    "global running\n",
    "running= True\n",
    "\n",
    "try:\n",
    "    with mic:\n",
    "        procs = []\n",
    "        print('start running')\n",
    "        while running:\n",
    "            start_time = time.time()\n",
    "            # rec.adjust_for_ambient_noise(mic)\n",
    "            sig = rec.listen(mic).get_wav_data(sr,2)\n",
    "            sig_time = time.time()\n",
    "            print(sig_time-start_time)\n",
    "            \n",
    "            data_s16 = np.frombuffer(sig, dtype=np.int16, count=len(sig)//2, offset=0)\n",
    "            float_data = (data_s16 * 0.5**15).astype(np.float32)\n",
    "            # sd.play(float_data,sr)\n",
    "            # print(type(float_data))\n",
    "            # print(float_data.dtype)\n",
    "            data_cvt_time = time.time()\n",
    "            print(data_cvt_time-sig_time)\n",
    "            \n",
    "            service(float_data)\n",
    "            # p = multiprocessing.Process(target=service,args=(sig,))\n",
    "            # p.start()\n",
    "            # procs.append(p)\n",
    "            \n",
    "            print(time.time()-data_cvt_time)\n",
    "\n",
    "            # time.sleep(5)\n",
    "\n",
    "except KeyboardInterrupt as ke:\n",
    "    print(\"finished\")\n",
    "except Exception as e:\n",
    "    print(e)\n",
    "    \n",
    "for p in procs:\n",
    "    p.join()\n",
    "    \n",
    "print(\"Program end\")"
   ]
  }
 ],
 "metadata": {
  "kernelspec": {
   "display_name": "Python 3 (ipykernel)",
   "language": "python",
   "name": "python3"
  },
  "language_info": {
   "codemirror_mode": {
    "name": "ipython",
    "version": 3
   },
   "file_extension": ".py",
   "mimetype": "text/x-python",
   "name": "python",
   "nbconvert_exporter": "python",
   "pygments_lexer": "ipython3",
   "version": "3.9.7"
  },
  "vscode": {
   "interpreter": {
    "hash": "19631f30805cf65d5465564d75f0fe7c05dee5c1f7be198222dbe754da644e52"
   }
  }
 },
 "nbformat": 4,
 "nbformat_minor": 2
}
